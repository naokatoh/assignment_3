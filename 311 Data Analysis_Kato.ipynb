{
 "cells": [
  {
   "cell_type": "markdown",
   "id": "9d38926d",
   "metadata": {},
   "source": [
    "### Do your imports!"
   ]
  },
  {
   "cell_type": "code",
   "execution_count": 13,
   "id": "055005cf",
   "metadata": {},
   "outputs": [],
   "source": [
    "import pandas as pd\n",
    "\n",
    "df = pd.read_csv(\"subset.csv\", nrows=1000000)\n"
   ]
  },
  {
   "cell_type": "markdown",
   "id": "0ad89e50",
   "metadata": {},
   "source": [
    "# 311 data analysis\n",
    "\n",
    "## Read in `subset.csv` and review the first few rows\n",
    "\n",
    "Even though it's a giant file – gigs and gigs! – it's a subset of the [entire dataset](https://data.cityofnewyork.us/Social-Services/311-Service-Requests-from-2010-to-Present/erm2-nwe9). It covers plenty of years, but not all of the columns.\n",
    "\n",
    "If your computer is struggling (which it will!) or you are impatient, feel free to use `nrows=` when reading it in to speed up the process by only reading in a subset of columns. Pull in at least a few million, or a couple years back."
   ]
  },
  {
   "cell_type": "code",
   "execution_count": 14,
   "id": "95ab0b53",
   "metadata": {
    "scrolled": true
   },
   "outputs": [
    {
     "name": "stdout",
     "output_type": "stream",
     "text": [
      "<class 'pandas.core.frame.DataFrame'>\n",
      "RangeIndex: 1000000 entries, 0 to 999999\n",
      "Data columns (total 15 columns):\n",
      " #   Column                  Non-Null Count    Dtype \n",
      "---  ------                  --------------    ----- \n",
      " 0   Unique Key              1000000 non-null  int64 \n",
      " 1   Created Date            1000000 non-null  object\n",
      " 2   Closed Date             996296 non-null   object\n",
      " 3   Agency                  1000000 non-null  object\n",
      " 4   Agency Name             1000000 non-null  object\n",
      " 5   Complaint Type          1000000 non-null  object\n",
      " 6   Descriptor              995955 non-null   object\n",
      " 7   Location Type           698311 non-null   object\n",
      " 8   Incident Zip            975646 non-null   object\n",
      " 9   Incident Address        876798 non-null   object\n",
      " 10  Address Type            996949 non-null   object\n",
      " 11  City                    975730 non-null   object\n",
      " 12  Status                  1000000 non-null  object\n",
      " 13  Borough                 999963 non-null   object\n",
      " 14  Open Data Channel Type  1000000 non-null  object\n",
      "dtypes: int64(1), object(14)\n",
      "memory usage: 114.4+ MB\n"
     ]
    }
   ],
   "source": [
    "#Done obove\n",
    "\n",
    "df.info()"
   ]
  },
  {
   "cell_type": "markdown",
   "id": "e870bd49",
   "metadata": {},
   "source": [
    "### Where the subset came from\n",
    "\n",
    "If you're curious, I took the [original data](https://data.cityofnewyork.us/Social-Services/311-Service-Requests-from-2010-to-Present/erm2-nwe9/data) and clipped out a subset by using the command-line tool [csvkit](https://csvkit.readthedocs.io/en/latest/).\n",
    "\n",
    "First I inspected the column headers:\n",
    "\n",
    "```bash\n",
    "$ csvcut -n 311_Service_Requests_from_2010_to_Present.csv \n",
    "```\n",
    "\n",
    "Then I selected the columns I was interested in and saved it to a file.\n",
    "\n",
    "```bash\n",
    "$ csvcut -c 1,2,3,4,5,6,7,8,9,10,16,17,20,26,29 311_Service_Requests_from_2010_to_Present.csv > subset.csv\n",
    "```\n",
    "\n",
    "This was much much much much faster than doing it in Python."
   ]
  },
  {
   "cell_type": "markdown",
   "id": "5584582a",
   "metadata": {},
   "source": [
    "## We want more columns!\n",
    "\n",
    "**Right now we don't see all of the columns.** For example, mine has `...` between the **Incident Address** column and the **City** column. Go up to the top where you imported pandas, and add a `pd.set_option` line that will allow you to view all of the columns of the dataset."
   ]
  },
  {
   "cell_type": "code",
   "execution_count": null,
   "id": "45f891ed",
   "metadata": {},
   "outputs": [],
   "source": [
    "# DONE above"
   ]
  },
  {
   "cell_type": "markdown",
   "id": "a63e2407",
   "metadata": {},
   "source": [
    "## We hate those column names!\n",
    "\n",
    "Change the column names to be tab- and period-friendly, like `df.created_date` instead of `df['Created Date']`"
   ]
  },
  {
   "cell_type": "code",
   "execution_count": 15,
   "id": "e7a06ffa",
   "metadata": {},
   "outputs": [
    {
     "name": "stdout",
     "output_type": "stream",
     "text": [
      "<class 'pandas.core.frame.DataFrame'>\n",
      "RangeIndex: 1000000 entries, 0 to 999999\n",
      "Data columns (total 15 columns):\n",
      " #   Column                  Non-Null Count    Dtype \n",
      "---  ------                  --------------    ----- \n",
      " 0   unique_key              1000000 non-null  int64 \n",
      " 1   created_date            1000000 non-null  object\n",
      " 2   closed_date             996296 non-null   object\n",
      " 3   agency                  1000000 non-null  object\n",
      " 4   agency_name             1000000 non-null  object\n",
      " 5   complaint_type          1000000 non-null  object\n",
      " 6   descriptor              995955 non-null   object\n",
      " 7   location_type           698311 non-null   object\n",
      " 8   incident_zip            975646 non-null   object\n",
      " 9   incident_address        876798 non-null   object\n",
      " 10  address_type            996949 non-null   object\n",
      " 11  city                    975730 non-null   object\n",
      " 12  status                  1000000 non-null  object\n",
      " 13  borough                 999963 non-null   object\n",
      " 14  open_data_channel_type  1000000 non-null  object\n",
      "dtypes: int64(1), object(14)\n",
      "memory usage: 114.4+ MB\n"
     ]
    }
   ],
   "source": [
    "df.columns = df.columns.str.lower().str.replace(\" \", \"_\")\n",
    "df.info()"
   ]
  },
  {
   "cell_type": "markdown",
   "id": "36ff2fc2",
   "metadata": {},
   "source": [
    "# Dates and times\n",
    "\n",
    "## Are the datetimes actually datetimes?\n",
    "\n",
    "We're going to be doing some datetime-y things, so let's see if the columns that look like dates are actually dates."
   ]
  },
  {
   "cell_type": "code",
   "execution_count": 16,
   "id": "57e32449",
   "metadata": {},
   "outputs": [
    {
     "ename": "AttributeError",
     "evalue": "Can only use .dt accessor with datetimelike values",
     "output_type": "error",
     "traceback": [
      "\u001b[1;31m---------------------------------------------------------------------------\u001b[0m",
      "\u001b[1;31mAttributeError\u001b[0m                            Traceback (most recent call last)",
      "\u001b[1;32m~\\AppData\\Local\\Temp/ipykernel_26792/4123401974.py\u001b[0m in \u001b[0;36m<module>\u001b[1;34m\u001b[0m\n\u001b[1;32m----> 1\u001b[1;33m \u001b[0mdf\u001b[0m\u001b[1;33m.\u001b[0m\u001b[0mcreated_date\u001b[0m\u001b[1;33m.\u001b[0m\u001b[0mdt\u001b[0m\u001b[1;33m.\u001b[0m\u001b[0myear\u001b[0m\u001b[1;33m\u001b[0m\u001b[1;33m\u001b[0m\u001b[0m\n\u001b[0m\u001b[0;32m      2\u001b[0m \u001b[1;31m#Error\u001b[0m\u001b[1;33m\u001b[0m\u001b[1;33m\u001b[0m\u001b[0m\n\u001b[0;32m      3\u001b[0m \u001b[0mdf\u001b[0m\u001b[1;33m.\u001b[0m\u001b[0mclosed_date\u001b[0m\u001b[1;33m.\u001b[0m\u001b[0mdt\u001b[0m\u001b[1;33m.\u001b[0m\u001b[0myear\u001b[0m\u001b[1;33m\u001b[0m\u001b[1;33m\u001b[0m\u001b[0m\n\u001b[0;32m      4\u001b[0m \u001b[1;33m\u001b[0m\u001b[0m\n\u001b[0;32m      5\u001b[0m \u001b[1;31m#Error\u001b[0m\u001b[1;33m\u001b[0m\u001b[1;33m\u001b[0m\u001b[0m\n",
      "\u001b[1;32m~\\AppData\\Local\\Programs\\Python\\Python310\\lib\\site-packages\\pandas\\core\\generic.py\u001b[0m in \u001b[0;36m__getattr__\u001b[1;34m(self, name)\u001b[0m\n\u001b[0;32m   5485\u001b[0m         ):\n\u001b[0;32m   5486\u001b[0m             \u001b[1;32mreturn\u001b[0m \u001b[0mself\u001b[0m\u001b[1;33m[\u001b[0m\u001b[0mname\u001b[0m\u001b[1;33m]\u001b[0m\u001b[1;33m\u001b[0m\u001b[1;33m\u001b[0m\u001b[0m\n\u001b[1;32m-> 5487\u001b[1;33m         \u001b[1;32mreturn\u001b[0m \u001b[0mobject\u001b[0m\u001b[1;33m.\u001b[0m\u001b[0m__getattribute__\u001b[0m\u001b[1;33m(\u001b[0m\u001b[0mself\u001b[0m\u001b[1;33m,\u001b[0m \u001b[0mname\u001b[0m\u001b[1;33m)\u001b[0m\u001b[1;33m\u001b[0m\u001b[1;33m\u001b[0m\u001b[0m\n\u001b[0m\u001b[0;32m   5488\u001b[0m \u001b[1;33m\u001b[0m\u001b[0m\n\u001b[0;32m   5489\u001b[0m     \u001b[1;32mdef\u001b[0m \u001b[0m__setattr__\u001b[0m\u001b[1;33m(\u001b[0m\u001b[0mself\u001b[0m\u001b[1;33m,\u001b[0m \u001b[0mname\u001b[0m\u001b[1;33m:\u001b[0m \u001b[0mstr\u001b[0m\u001b[1;33m,\u001b[0m \u001b[0mvalue\u001b[0m\u001b[1;33m)\u001b[0m \u001b[1;33m->\u001b[0m \u001b[1;32mNone\u001b[0m\u001b[1;33m:\u001b[0m\u001b[1;33m\u001b[0m\u001b[1;33m\u001b[0m\u001b[0m\n",
      "\u001b[1;32m~\\AppData\\Local\\Programs\\Python\\Python310\\lib\\site-packages\\pandas\\core\\accessor.py\u001b[0m in \u001b[0;36m__get__\u001b[1;34m(self, obj, cls)\u001b[0m\n\u001b[0;32m    179\u001b[0m             \u001b[1;31m# we're accessing the attribute of the class, i.e., Dataset.geo\u001b[0m\u001b[1;33m\u001b[0m\u001b[1;33m\u001b[0m\u001b[0m\n\u001b[0;32m    180\u001b[0m             \u001b[1;32mreturn\u001b[0m \u001b[0mself\u001b[0m\u001b[1;33m.\u001b[0m\u001b[0m_accessor\u001b[0m\u001b[1;33m\u001b[0m\u001b[1;33m\u001b[0m\u001b[0m\n\u001b[1;32m--> 181\u001b[1;33m         \u001b[0maccessor_obj\u001b[0m \u001b[1;33m=\u001b[0m \u001b[0mself\u001b[0m\u001b[1;33m.\u001b[0m\u001b[0m_accessor\u001b[0m\u001b[1;33m(\u001b[0m\u001b[0mobj\u001b[0m\u001b[1;33m)\u001b[0m\u001b[1;33m\u001b[0m\u001b[1;33m\u001b[0m\u001b[0m\n\u001b[0m\u001b[0;32m    182\u001b[0m         \u001b[1;31m# Replace the property with the accessor object. Inspired by:\u001b[0m\u001b[1;33m\u001b[0m\u001b[1;33m\u001b[0m\u001b[0m\n\u001b[0;32m    183\u001b[0m         \u001b[1;31m# https://www.pydanny.com/cached-property.html\u001b[0m\u001b[1;33m\u001b[0m\u001b[1;33m\u001b[0m\u001b[0m\n",
      "\u001b[1;32m~\\AppData\\Local\\Programs\\Python\\Python310\\lib\\site-packages\\pandas\\core\\indexes\\accessors.py\u001b[0m in \u001b[0;36m__new__\u001b[1;34m(cls, data)\u001b[0m\n\u001b[0;32m    504\u001b[0m             \u001b[1;32mreturn\u001b[0m \u001b[0mPeriodProperties\u001b[0m\u001b[1;33m(\u001b[0m\u001b[0mdata\u001b[0m\u001b[1;33m,\u001b[0m \u001b[0morig\u001b[0m\u001b[1;33m)\u001b[0m\u001b[1;33m\u001b[0m\u001b[1;33m\u001b[0m\u001b[0m\n\u001b[0;32m    505\u001b[0m \u001b[1;33m\u001b[0m\u001b[0m\n\u001b[1;32m--> 506\u001b[1;33m         \u001b[1;32mraise\u001b[0m \u001b[0mAttributeError\u001b[0m\u001b[1;33m(\u001b[0m\u001b[1;34m\"Can only use .dt accessor with datetimelike values\"\u001b[0m\u001b[1;33m)\u001b[0m\u001b[1;33m\u001b[0m\u001b[1;33m\u001b[0m\u001b[0m\n\u001b[0m",
      "\u001b[1;31mAttributeError\u001b[0m: Can only use .dt accessor with datetimelike values"
     ]
    }
   ],
   "source": [
    "df.created_date.dt.year\n",
    "#Error\n",
    "df.closed_date.dt.year\n",
    "\n",
    "#Error\n"
   ]
  },
  {
   "cell_type": "markdown",
   "id": "d5338fad",
   "metadata": {},
   "source": [
    "## In they aren't datetimes, convert them\n",
    "\n",
    "The ones we're interested in are as follows:\n",
    "\n",
    "* Created Date\n",
    "* Closed Date\n",
    "\n",
    "You have two options to convert them:\n",
    "\n",
    "1. Do it like we did in class, but **overwrite the existing string columns with the new datetime versions**\n",
    "2. Find an option with `read_csv` to automatically read certain columns as dates! Use the shift+tab trick to read the `read_csv` docs to uncover it. Once you find it, you'll set it to be the **list of date-y columns**.\n",
    "\n",
    "They're both going to take forever if you do them wrong, but can be faster with a few tricks. For example, using `pd.to_datetime` can be sped up significantly be specifying the format of the datestring.\n",
    "\n",
    "For example, if your datetime was formatted as `YYYY-MM-DD HH:MM:SS AM`, you could use the following:\n",
    "\n",
    "```\n",
    "df.my_datetime = pd.to_datetime(df.my_datetime, format=\"%Y-%m-%d %I:%M:%S %p\")\n",
    "```\n",
    "\n",
    "It's unfortunately much much much faster than the `read_csv` technique. And yes, [that's `%I` and not `%H`](https://strftime.org/).\n",
    "\n",
    "> *Tip: What should happen if it encounters an error or missing data?*"
   ]
  },
  {
   "cell_type": "code",
   "execution_count": 37,
   "id": "91739685",
   "metadata": {},
   "outputs": [
    {
     "data": {
      "text/plain": [
       "0        2019-01-27 19:26:21\n",
       "1        2019-01-29 11:06:56\n",
       "2        2019-02-13 12:28:18\n",
       "3        2019-02-13 15:40:19\n",
       "4        2019-02-13 13:18:31\n",
       "                 ...        \n",
       "999995   2019-09-22 11:30:00\n",
       "999996   2019-09-22 11:50:00\n",
       "999997   2019-09-22 11:41:00\n",
       "999998   2019-09-22 20:15:00\n",
       "999999   2019-09-21 16:25:00\n",
       "Name: create_date_dtime, Length: 1000000, dtype: datetime64[ns]"
      ]
     },
     "execution_count": 37,
     "metadata": {},
     "output_type": "execute_result"
    }
   ],
   "source": [
    "df['create_date_dtime'] = pd.to_datetime(df.created_date, format=\"%m/%d/%Y %I:%M:%S %p\")\n",
    "df.create_date_dtime\n"
   ]
  },
  {
   "cell_type": "code",
   "execution_count": 39,
   "id": "29535ceb",
   "metadata": {},
   "outputs": [
    {
     "data": {
      "text/plain": [
       "0        2019-02-13 10:53:25\n",
       "1        2019-02-13 02:07:22\n",
       "2        2019-03-15 09:54:50\n",
       "3        2019-02-20 06:18:35\n",
       "4        2019-02-20 05:36:54\n",
       "                 ...        \n",
       "999995   2019-09-28 12:00:00\n",
       "999996   2019-09-26 12:00:00\n",
       "999997   2019-09-25 12:00:00\n",
       "999998   2019-09-26 16:15:00\n",
       "999999   2019-09-21 16:25:00\n",
       "Name: closed_date_dtime, Length: 1000000, dtype: datetime64[ns]"
      ]
     },
     "execution_count": 39,
     "metadata": {},
     "output_type": "execute_result"
    }
   ],
   "source": [
    "df['closed_date_dtime'] = pd.to_datetime(df.closed_date, format=\"%m/%d/%Y %I:%M:%S %p\")\n",
    "df.closed_date_dtime\n"
   ]
  },
  {
   "cell_type": "markdown",
   "id": "61949b07",
   "metadata": {},
   "source": [
    "## According to the dataset, which month of the year has the most 311 calls?\n",
    "\n",
    "The kind of answer we're looking for is \"January,\" not \"January 2021\""
   ]
  },
  {
   "cell_type": "code",
   "execution_count": 40,
   "id": "38149da1",
   "metadata": {},
   "outputs": [],
   "source": [
    "# there are two big techniques for date stuff: .dt or .resample\n",
    "# if you use one of those, explain why you picked that one and not the other"
   ]
  },
  {
   "cell_type": "code",
   "execution_count": 41,
   "id": "f10337ae",
   "metadata": {},
   "outputs": [
    {
     "data": {
      "text/plain": [
       "5     217373\n",
       "3     202725\n",
       "4     194527\n",
       "6     135362\n",
       "2     108807\n",
       "8      52993\n",
       "9      36811\n",
       "7      18373\n",
       "1      15925\n",
       "12      7723\n",
       "11      5096\n",
       "10      4285\n",
       "Name: create_date_dtime, dtype: int64"
      ]
     },
     "execution_count": 41,
     "metadata": {},
     "output_type": "execute_result"
    }
   ],
   "source": [
    "# use .dt bcoz I only want to select particular data\n",
    "\n",
    "df.create_date_dtime.dt.month.value_counts()\n",
    "\n",
    "#June"
   ]
  },
  {
   "cell_type": "markdown",
   "id": "4c03fb54",
   "metadata": {},
   "source": [
    "## According to the dataset, which month has had the most 311 calls?\n",
    "\n",
    "The kind of answer we're looking for is \"January 2021,\" not \"January\" (although _techniucally_ it will say `2021-01-31`, not `January 2021`)"
   ]
  },
  {
   "cell_type": "code",
   "execution_count": 42,
   "id": "12d75e39",
   "metadata": {},
   "outputs": [],
   "source": [
    "# there are two big techniques for date stuff: .dt or .resample\n",
    "# if you use one of those, explain why you picked that one and not the other"
   ]
  },
  {
   "cell_type": "code",
   "execution_count": 43,
   "id": "222f230e",
   "metadata": {},
   "outputs": [
    {
     "data": {
      "text/plain": [
       "create_date_dtime\n",
       "2019-10-31         6\n",
       "2010-01-31       105\n",
       "2010-10-31       108\n",
       "2010-02-28       112\n",
       "2011-11-30       112\n",
       "               ...  \n",
       "2019-02-28    104654\n",
       "2019-06-30    131368\n",
       "2019-04-30    190340\n",
       "2019-03-31    198596\n",
       "2019-05-31    213281\n",
       "Length: 118, dtype: int64"
      ]
     },
     "execution_count": 43,
     "metadata": {},
     "output_type": "execute_result"
    }
   ],
   "source": [
    "# use .resample bcoz I only want to select summerize particular data\n",
    "\n",
    "df.resample('M', on='create_date_dtime').size().sort_values()"
   ]
  },
  {
   "cell_type": "markdown",
   "id": "0113e7e7",
   "metadata": {},
   "source": [
    "## Plot the 311 call frequency over our dataset on a _weekly_ basis\n",
    "\n",
    "To make your y axis start at zero, use `ylim=(0,100000)` when doing `.plot`. But replace the `1000` with a large enough value to actually see your data nicely!"
   ]
  },
  {
   "cell_type": "code",
   "execution_count": 44,
   "id": "691e80cf",
   "metadata": {},
   "outputs": [],
   "source": [
    "# there are two big techniques for date stuff: .dt or .resample\n",
    "# if you use one of those, explain why you picked that one and not the other"
   ]
  },
  {
   "cell_type": "code",
   "execution_count": 45,
   "id": "47b59a93",
   "metadata": {},
   "outputs": [
    {
     "data": {
      "image/png": "[encoded data removed]",
      "text/plain": [
       "<Figure size 432x288 with 1 Axes>"
      ]
     },
     "metadata": {
      "needs_background": "light"
     },
     "output_type": "display_data"
    }
   ],
   "source": [
    "# use .resample bcoz I only want to select summerize particular data\n",
    "\n",
    "weekly_chart = df.resample('W', on='create_date_dtime').size().plot(ylim=[0,100000], title = \"311 call weekly frequency from 2010\")\n",
    "\n"
   ]
  },
  {
   "cell_type": "markdown",
   "id": "4fe8dc9a",
   "metadata": {},
   "source": [
    "## What time of day (by hour) is the least common for 311 complains? The most common? \n",
    "\n",
    "\n",
    "\n",
    "\n",
    "\n"
   ]
  },
  {
   "cell_type": "code",
   "execution_count": 46,
   "id": "7a7452bc",
   "metadata": {},
   "outputs": [],
   "source": [
    "# there are two big techniques for date stuff: .dt or .resample\n",
    "# if you use one of those, explain why you picked that one and not the other"
   ]
  },
  {
   "cell_type": "code",
   "execution_count": 47,
   "id": "b535b6ab",
   "metadata": {},
   "outputs": [
    {
     "data": {
      "text/plain": [
       "10    72823\n",
       "11    71500\n",
       "9     69377\n",
       "12    66077\n",
       "14    64919\n",
       "13    62437\n",
       "15    61023\n",
       "16    54615\n",
       "8     51184\n",
       "17    46215\n",
       "18    42707\n",
       "21    42292\n",
       "22    41916\n",
       "19    41075\n",
       "20    41063\n",
       "23    35658\n",
       "0     33834\n",
       "7     29784\n",
       "1     18409\n",
       "6     17038\n",
       "2     11190\n",
       "5      9042\n",
       "3      8415\n",
       "4      7407\n",
       "Name: create_date_dtime, dtype: int64"
      ]
     },
     "execution_count": 47,
     "metadata": {},
     "output_type": "execute_result"
    }
   ],
   "source": [
    "# use .resample bcoz I only want to select summerize particular data\n",
    "# df.resample('H', on='create_date_dtime').size().sort_values()\n",
    "\n",
    "# df.create_date_dtime.dt.month.value_counts()\n",
    "\n",
    "\n",
    "\n",
    "\n",
    "df.create_date_dtime.dt.hour.value_counts()\n",
    "\n",
    "# least common: 4am, most common:12am ????really???????\n"
   ]
  },
  {
   "cell_type": "markdown",
   "id": "1001c432",
   "metadata": {},
   "source": [
    "### Make a graph of the results\n",
    "\n",
    "* Make sure the hours are in the correct order\n",
    "* Be sure to set the y-axis to start at 0\n",
    "* Give your plot a descriptive title"
   ]
  },
  {
   "cell_type": "code",
   "execution_count": null,
   "id": "9c2c4689",
   "metadata": {},
   "outputs": [],
   "source": []
  },
  {
   "cell_type": "markdown",
   "id": "dd2d2905",
   "metadata": {},
   "source": [
    "# Agencies\n",
    "\n",
    "## What agencies field the most complaints in the dataset? Get the top 5.\n",
    "\n",
    "Use the `agency` column for this one."
   ]
  },
  {
   "cell_type": "code",
   "execution_count": 48,
   "id": "22000a0e",
   "metadata": {},
   "outputs": [
    {
     "data": {
      "text/plain": [
       "NYPD    261669\n",
       "HPD     217064\n",
       "DSNY    158866\n",
       "DOT     124911\n",
       "DOB     111584\n",
       "Name: agency, dtype: int64"
      ]
     },
     "execution_count": 48,
     "metadata": {},
     "output_type": "execute_result"
    }
   ],
   "source": [
    "df.agency.value_counts().head(5)\n",
    "\n",
    "# NYPD                                       7714187\n",
    "# HPD                                        6762860\n",
    "# DOT                                        3468756\n",
    "# DSNY                                       2189273\n",
    "# DEP                                        2003413"
   ]
  },
  {
   "cell_type": "markdown",
   "id": "3469fc64",
   "metadata": {},
   "source": [
    "## What are each of those agencies?\n",
    "\n",
    "Define the following five acronyms:\n",
    "\n",
    "* NYPD\n",
    "* HPD\n",
    "* DOT\n",
    "* DSNY\n",
    "* DEP"
   ]
  },
  {
   "cell_type": "markdown",
   "id": "774cd51b",
   "metadata": {},
   "source": [
    "NYPD: New York City Police Department\n",
    "HPD:New York City Department of Housing Preservation and Development\n",
    "DOT:New York City Department of Transportation\n",
    "DSNY:New York City Department of Sanitation\n",
    "DEP: New York City Department of Environmental Protection"
   ]
  },
  {
   "cell_type": "markdown",
   "id": "d4cae99e",
   "metadata": {},
   "source": [
    "## What is the most common complaint to HPD?"
   ]
  },
  {
   "cell_type": "code",
   "execution_count": 50,
   "id": "030eca78",
   "metadata": {},
   "outputs": [],
   "source": [
    "# Why did you pick these columns to calculate the answer?"
   ]
  },
  {
   "cell_type": "code",
   "execution_count": 51,
   "id": "2f719385",
   "metadata": {},
   "outputs": [
    {
     "data": {
      "text/plain": [
       "HEAT/HOT WATER          64948\n",
       "UNSANITARY CONDITION    34737\n",
       "PAINT/PLASTER           22921\n",
       "PLUMBING                21782\n",
       "DOOR/WINDOW             15316\n",
       "Name: complaint_type, dtype: int64"
      ]
     },
     "execution_count": 51,
     "metadata": {},
     "output_type": "execute_result"
    }
   ],
   "source": [
    "# I used complaint_type because this captures each category of complaints\n",
    "\n",
    "HPD_df = df[df.agency == 'HPD']\n",
    "HPD_df.head()\n",
    "\n",
    "HPD_df.complaint_type.value_counts().head(5)\n",
    "#HEAT/HOT WATER "
   ]
  },
  {
   "cell_type": "markdown",
   "id": "75def603",
   "metadata": {},
   "source": [
    "## What are the top 3 complaints to each agency?\n",
    "\n",
    "You'll want to use the weird confusing `.groupby(level=...` thing we learned when reviewing the homework.\n"
   ]
  },
  {
   "cell_type": "code",
   "execution_count": 52,
   "id": "1b9c8a3a",
   "metadata": {},
   "outputs": [
    {
     "name": "stdout",
     "output_type": "stream",
     "text": [
      "<class 'pandas.core.frame.DataFrame'>\n",
      "RangeIndex: 1000000 entries, 0 to 999999\n",
      "Data columns (total 17 columns):\n",
      " #   Column                  Non-Null Count    Dtype         \n",
      "---  ------                  --------------    -----         \n",
      " 0   unique_key              1000000 non-null  int64         \n",
      " 1   created_date            1000000 non-null  object        \n",
      " 2   closed_date             996296 non-null   object        \n",
      " 3   agency                  1000000 non-null  object        \n",
      " 4   agency_name             1000000 non-null  object        \n",
      " 5   complaint_type          1000000 non-null  object        \n",
      " 6   descriptor              995955 non-null   object        \n",
      " 7   location_type           698311 non-null   object        \n",
      " 8   incident_zip            975646 non-null   object        \n",
      " 9   incident_address        876798 non-null   object        \n",
      " 10  address_type            996949 non-null   object        \n",
      " 11  city                    975730 non-null   object        \n",
      " 12  status                  1000000 non-null  object        \n",
      " 13  borough                 999963 non-null   object        \n",
      " 14  open_data_channel_type  1000000 non-null  object        \n",
      " 15  create_date_dtime       1000000 non-null  datetime64[ns]\n",
      " 16  closed_date_dtime       996296 non-null   datetime64[ns]\n",
      "dtypes: datetime64[ns](2), int64(1), object(14)\n",
      "memory usage: 129.7+ MB\n"
     ]
    }
   ],
   "source": [
    "df.info()"
   ]
  },
  {
   "cell_type": "code",
   "execution_count": 53,
   "id": "eeaee487",
   "metadata": {},
   "outputs": [
    {
     "data": {
      "text/plain": [
       "   complaint_type              \n",
       "0  GENERAL                         1\n",
       "1  PAINT/PLASTER                   1\n",
       "2  DOF Property - Payment Issue    1\n",
       "Name: complaint_type, dtype: int64"
      ]
     },
     "execution_count": 53,
     "metadata": {},
     "output_type": "execute_result"
    }
   ],
   "source": [
    "# 3   agency\n",
    "\n",
    "df.groupby(level= 0).complaint_type.value_counts().head(3)"
   ]
  },
  {
   "cell_type": "markdown",
   "id": "c3d55807",
   "metadata": {},
   "source": [
    "## What is the most common kind of residential noise complaint?\n",
    "\n",
    "The NYPD seems to deal with a lot of noise complaints at homes. What is the most common subtype?"
   ]
  },
  {
   "cell_type": "code",
   "execution_count": 54,
   "id": "e726cd32",
   "metadata": {},
   "outputs": [
    {
     "data": {
      "text/plain": [
       "Request Large Bulky Item Collection    77930\n",
       "Noise - Residential                    75828\n",
       "HEAT/HOT WATER                         64948\n",
       "Illegal Parking                        60343\n",
       "Street Condition                       44055\n",
       "                                       ...  \n",
       "../WEB-INF/web.xml                         1\n",
       "c:\\windows\\win.ini Misc. Co...             1\n",
       "Misc. Comments|echo 3p7wexz...             1\n",
       "Misc. Comments;declare @q v...             1\n",
       "Poison Ivy                                 1\n",
       "Name: complaint_type, Length: 290, dtype: int64"
      ]
     },
     "execution_count": 54,
     "metadata": {},
     "output_type": "execute_result"
    }
   ],
   "source": [
    "# Why did you pick these columns to calculate the answer?\n",
    "df.complaint_type.value_counts()"
   ]
  },
  {
   "cell_type": "code",
   "execution_count": 55,
   "id": "9d2f83ce",
   "metadata": {},
   "outputs": [],
   "source": [
    "res_noise_df = df[df.complaint_type == \"Noise - Residential\"]"
   ]
  },
  {
   "cell_type": "markdown",
   "id": "3d6c4dff",
   "metadata": {},
   "source": [
    "## What time of day do \"Loud Music/Party\" complaints come in? Make it a chart!"
   ]
  },
  {
   "cell_type": "code",
   "execution_count": 56,
   "id": "029c4248",
   "metadata": {},
   "outputs": [],
   "source": [
    "# there are two big techniques for date stuff: .dt or .resample\n",
    "# if you use one of those, explain why you picked that one and not the other"
   ]
  },
  {
   "cell_type": "code",
   "execution_count": 57,
   "id": "1d776aea",
   "metadata": {},
   "outputs": [
    {
     "data": {
      "text/plain": [
       "<AxesSubplot:>"
      ]
     },
     "execution_count": 57,
     "metadata": {},
     "output_type": "execute_result"
    },
    {
     "data": {
      "image/png": "[encoded data removed]",
      "text/plain": [
       "<Figure size 432x288 with 1 Axes>"
      ]
     },
     "metadata": {
      "needs_background": "light"
     },
     "output_type": "display_data"
    }
   ],
   "source": [
    "res_noise_df.create_date_dtime.dt.hour.value_counts().plot(kind= 'bar')\n"
   ]
  },
  {
   "cell_type": "markdown",
   "id": "72378323",
   "metadata": {},
   "source": [
    "## <span style=\"color: red; \">When do people party hard?\n",
    "\n",
    "Make a monthly chart of Loud Music/Party complaints since the beginning of the dataset. Make it count them on a biweekly basis (every two weeks)."
   ]
  },
  {
   "cell_type": "code",
   "execution_count": 58,
   "id": "1403b89b",
   "metadata": {},
   "outputs": [
    {
     "data": {
      "text/plain": [
       "0"
      ]
     },
     "execution_count": 58,
     "metadata": {},
     "output_type": "execute_result"
    }
   ],
   "source": [
    "# there are two big techniques for date stuff: .dt or .resample\n",
    "# if you use one of those, explain why you picked that one and not the other\n",
    "res_noise_df.descriptor.isna().sum()"
   ]
  },
  {
   "cell_type": "code",
   "execution_count": 127,
   "id": "3e352a1a",
   "metadata": {
    "scrolled": true
   },
   "outputs": [
    {
     "name": "stderr",
     "output_type": "stream",
     "text": [
      "C:\\Users\\nao22\\AppData\\Local\\Temp/ipykernel_26792/1591262089.py:3: UserWarning: Boolean Series key will be reindexed to match DataFrame index.\n",
      "  df[res_noise_df_nan.descriptor.str.endswith('Party')]\n"
     ]
    },
    {
     "ename": "IndexingError",
     "evalue": "Unalignable boolean Series provided as indexer (index of the boolean Series and of the indexed object do not match).",
     "output_type": "error",
     "traceback": [
      "\u001b[1;31m---------------------------------------------------------------------------\u001b[0m",
      "\u001b[1;31mIndexingError\u001b[0m                             Traceback (most recent call last)",
      "\u001b[1;32m~\\AppData\\Local\\Temp/ipykernel_26792/1591262089.py\u001b[0m in \u001b[0;36m<module>\u001b[1;34m\u001b[0m\n\u001b[0;32m      1\u001b[0m \u001b[0mres_noise_df_nan\u001b[0m \u001b[1;33m=\u001b[0m \u001b[0mres_noise_df\u001b[0m\u001b[1;33m.\u001b[0m\u001b[0mdropna\u001b[0m\u001b[1;33m(\u001b[0m\u001b[1;33m)\u001b[0m\u001b[1;33m\u001b[0m\u001b[1;33m\u001b[0m\u001b[0m\n\u001b[0;32m      2\u001b[0m \u001b[1;33m\u001b[0m\u001b[0m\n\u001b[1;32m----> 3\u001b[1;33m \u001b[0mdf\u001b[0m\u001b[1;33m[\u001b[0m\u001b[0mres_noise_df_nan\u001b[0m\u001b[1;33m.\u001b[0m\u001b[0mdescriptor\u001b[0m\u001b[1;33m.\u001b[0m\u001b[0mstr\u001b[0m\u001b[1;33m.\u001b[0m\u001b[0mendswith\u001b[0m\u001b[1;33m(\u001b[0m\u001b[1;34m'Party'\u001b[0m\u001b[1;33m)\u001b[0m\u001b[1;33m]\u001b[0m\u001b[1;33m\u001b[0m\u001b[1;33m\u001b[0m\u001b[0m\n\u001b[0m\u001b[0;32m      4\u001b[0m \u001b[1;33m\u001b[0m\u001b[0m\n\u001b[0;32m      5\u001b[0m \u001b[1;31m# IndexingError: Unalignable boolean Series provided as indexer (index of the boolean Series and of the indexed object do not match).\u001b[0m\u001b[1;33m\u001b[0m\u001b[1;33m\u001b[0m\u001b[0m\n",
      "\u001b[1;32m~\\AppData\\Local\\Programs\\Python\\Python310\\lib\\site-packages\\pandas\\core\\frame.py\u001b[0m in \u001b[0;36m__getitem__\u001b[1;34m(self, key)\u001b[0m\n\u001b[0;32m   3447\u001b[0m         \u001b[1;31m# Do we have a (boolean) 1d indexer?\u001b[0m\u001b[1;33m\u001b[0m\u001b[1;33m\u001b[0m\u001b[0m\n\u001b[0;32m   3448\u001b[0m         \u001b[1;32mif\u001b[0m \u001b[0mcom\u001b[0m\u001b[1;33m.\u001b[0m\u001b[0mis_bool_indexer\u001b[0m\u001b[1;33m(\u001b[0m\u001b[0mkey\u001b[0m\u001b[1;33m)\u001b[0m\u001b[1;33m:\u001b[0m\u001b[1;33m\u001b[0m\u001b[1;33m\u001b[0m\u001b[0m\n\u001b[1;32m-> 3449\u001b[1;33m             \u001b[1;32mreturn\u001b[0m \u001b[0mself\u001b[0m\u001b[1;33m.\u001b[0m\u001b[0m_getitem_bool_array\u001b[0m\u001b[1;33m(\u001b[0m\u001b[0mkey\u001b[0m\u001b[1;33m)\u001b[0m\u001b[1;33m\u001b[0m\u001b[1;33m\u001b[0m\u001b[0m\n\u001b[0m\u001b[0;32m   3450\u001b[0m \u001b[1;33m\u001b[0m\u001b[0m\n\u001b[0;32m   3451\u001b[0m         \u001b[1;31m# We are left with two options: a single key, and a collection of keys,\u001b[0m\u001b[1;33m\u001b[0m\u001b[1;33m\u001b[0m\u001b[0m\n",
      "\u001b[1;32m~\\AppData\\Local\\Programs\\Python\\Python310\\lib\\site-packages\\pandas\\core\\frame.py\u001b[0m in \u001b[0;36m_getitem_bool_array\u001b[1;34m(self, key)\u001b[0m\n\u001b[0;32m   3500\u001b[0m         \u001b[1;31m# check_bool_indexer will throw exception if Series key cannot\u001b[0m\u001b[1;33m\u001b[0m\u001b[1;33m\u001b[0m\u001b[0m\n\u001b[0;32m   3501\u001b[0m         \u001b[1;31m# be reindexed to match DataFrame rows\u001b[0m\u001b[1;33m\u001b[0m\u001b[1;33m\u001b[0m\u001b[0m\n\u001b[1;32m-> 3502\u001b[1;33m         \u001b[0mkey\u001b[0m \u001b[1;33m=\u001b[0m \u001b[0mcheck_bool_indexer\u001b[0m\u001b[1;33m(\u001b[0m\u001b[0mself\u001b[0m\u001b[1;33m.\u001b[0m\u001b[0mindex\u001b[0m\u001b[1;33m,\u001b[0m \u001b[0mkey\u001b[0m\u001b[1;33m)\u001b[0m\u001b[1;33m\u001b[0m\u001b[1;33m\u001b[0m\u001b[0m\n\u001b[0m\u001b[0;32m   3503\u001b[0m         \u001b[0mindexer\u001b[0m \u001b[1;33m=\u001b[0m \u001b[0mkey\u001b[0m\u001b[1;33m.\u001b[0m\u001b[0mnonzero\u001b[0m\u001b[1;33m(\u001b[0m\u001b[1;33m)\u001b[0m\u001b[1;33m[\u001b[0m\u001b[1;36m0\u001b[0m\u001b[1;33m]\u001b[0m\u001b[1;33m\u001b[0m\u001b[1;33m\u001b[0m\u001b[0m\n\u001b[0;32m   3504\u001b[0m         \u001b[1;32mreturn\u001b[0m \u001b[0mself\u001b[0m\u001b[1;33m.\u001b[0m\u001b[0m_take_with_is_copy\u001b[0m\u001b[1;33m(\u001b[0m\u001b[0mindexer\u001b[0m\u001b[1;33m,\u001b[0m \u001b[0maxis\u001b[0m\u001b[1;33m=\u001b[0m\u001b[1;36m0\u001b[0m\u001b[1;33m)\u001b[0m\u001b[1;33m\u001b[0m\u001b[1;33m\u001b[0m\u001b[0m\n",
      "\u001b[1;32m~\\AppData\\Local\\Programs\\Python\\Python310\\lib\\site-packages\\pandas\\core\\indexing.py\u001b[0m in \u001b[0;36mcheck_bool_indexer\u001b[1;34m(index, key)\u001b[0m\n\u001b[0;32m   2386\u001b[0m         \u001b[0mmask\u001b[0m \u001b[1;33m=\u001b[0m \u001b[0misna\u001b[0m\u001b[1;33m(\u001b[0m\u001b[0mresult\u001b[0m\u001b[1;33m.\u001b[0m\u001b[0m_values\u001b[0m\u001b[1;33m)\u001b[0m\u001b[1;33m\u001b[0m\u001b[1;33m\u001b[0m\u001b[0m\n\u001b[0;32m   2387\u001b[0m         \u001b[1;32mif\u001b[0m \u001b[0mmask\u001b[0m\u001b[1;33m.\u001b[0m\u001b[0many\u001b[0m\u001b[1;33m(\u001b[0m\u001b[1;33m)\u001b[0m\u001b[1;33m:\u001b[0m\u001b[1;33m\u001b[0m\u001b[1;33m\u001b[0m\u001b[0m\n\u001b[1;32m-> 2388\u001b[1;33m             raise IndexingError(\n\u001b[0m\u001b[0;32m   2389\u001b[0m                 \u001b[1;34m\"Unalignable boolean Series provided as \"\u001b[0m\u001b[1;33m\u001b[0m\u001b[1;33m\u001b[0m\u001b[0m\n\u001b[0;32m   2390\u001b[0m                 \u001b[1;34m\"indexer (index of the boolean Series and of \"\u001b[0m\u001b[1;33m\u001b[0m\u001b[1;33m\u001b[0m\u001b[0m\n",
      "\u001b[1;31mIndexingError\u001b[0m: Unalignable boolean Series provided as indexer (index of the boolean Series and of the indexed object do not match)."
     ]
    }
   ],
   "source": [
    "res_noise_df_nan = res_noise_df.dropna()\n",
    "\n",
    "df[res_noise_df_nan.descriptor.str.endswith('Party')]\n",
    "\n",
    "# IndexingError: Unalignable boolean Series provided as indexer (index of the boolean Series and of the indexed object do not match).\n",
    "# comebacklater...\n",
    "\n",
    "\n",
    "# df[res_noise_df_nan['descriptor'] == 'Party']\n",
    "\n",
    "# IndexingError: Unalignable boolean Series provided as indexer (index of the boolean Series and of the indexed object do not match).\n",
    "\n",
    "\n",
    "# .create_date_dtime.dt.month.value_counts().plot(kind = 'bar')\n"
   ]
  },
  {
   "cell_type": "markdown",
   "id": "de48a3ec",
   "metadata": {},
   "source": [
    "## People and their bees\n",
    "\n",
    "Sometimes people complain about bees! Why they'd do that, I have no idea. It's somewhere in \"complaint_type\" – can you find all of the bee-related complaints?"
   ]
  },
  {
   "cell_type": "code",
   "execution_count": 60,
   "id": "5f1901b0",
   "metadata": {},
   "outputs": [
    {
     "data": {
      "text/plain": [
       "Harboring Bees/Wasps    16\n",
       "Name: complaint_type, dtype: int64"
      ]
     },
     "execution_count": 60,
     "metadata": {},
     "output_type": "execute_result"
    }
   ],
   "source": [
    "bee_df = df[df.complaint_type.str.contains('bee', case= False)]\n",
    "bee_df.complaint_type.value_counts()"
   ]
  },
  {
   "cell_type": "markdown",
   "id": "8c68e167",
   "metadata": {},
   "source": [
    "### <span style=\"color: red; \">What month do most of the complaints happen in? I'd like to see a graph.\n"
   ]
  },
  {
   "cell_type": "code",
   "execution_count": 61,
   "id": "590fd267",
   "metadata": {},
   "outputs": [
    {
     "data": {
      "text/plain": [
       "<AxesSubplot:>"
      ]
     },
     "execution_count": 61,
     "metadata": {},
     "output_type": "execute_result"
    },
    {
     "data": {
      "image/png": "[encoded data removed]",
      "text/plain": [
       "<Figure size 432x288 with 1 Axes>"
      ]
     },
     "metadata": {
      "needs_background": "light"
     },
     "output_type": "display_data"
    }
   ],
   "source": [
    "# df.create_date_dtime.dt.month.value_counts()\n",
    "\n",
    "bee_df.create_date_dtime.dt.month.value_counts().sort_values().plot(kind= 'bar')\n",
    "\n",
    "\n",
    "# bee_df.create_date_dtime.dt.month.value_counts().sort_values(axis = \"created_date\").plot(kind= 'bar')\n",
    "# bee_df.create_date_dtime.dt.month.value_counts().sort_values(by = \"created_date\").plot(kind= 'bar')\n",
    "\n",
    "#how can I sort this graph by month????"
   ]
  },
  {
   "cell_type": "markdown",
   "id": "9cdf43eb",
   "metadata": {},
   "source": [
    "### Are the people getting in trouble usually beekeepers or not beekeepers?"
   ]
  },
  {
   "cell_type": "code",
   "execution_count": 62,
   "id": "e517af3a",
   "metadata": {},
   "outputs": [
    {
     "data": {
      "text/plain": [
       "Bees/Wasps - Not a beekeper    9\n",
       "Beekeeping - Honeybees         7\n",
       "Name: descriptor, dtype: int64"
      ]
     },
     "execution_count": 62,
     "metadata": {},
     "output_type": "execute_result"
    }
   ],
   "source": [
    "# bee_df.complaint_type.str.contains('not beekeeper', case= False).value_counts()\n",
    "\n",
    "\n",
    "bee_df.descriptor.value_counts()\n",
    "#Not beekeeper"
   ]
  },
  {
   "cell_type": "markdown",
   "id": "2f96be0a",
   "metadata": {},
   "source": [
    "# Math with datetimes\n",
    "\n",
    "## How long does it normally take to resolve a 311 complaint?\n",
    "    \n",
    "   \n",
    "Even if we didn't cover this in class, I have faith that you can guess how to calculate it."
   ]
  },
  {
   "cell_type": "code",
   "execution_count": 63,
   "id": "2a7b9f46",
   "metadata": {},
   "outputs": [
    {
     "data": {
      "text/plain": [
       "False    996296\n",
       "True       3704\n",
       "Name: closed_date_dtime, dtype: int64"
      ]
     },
     "execution_count": 63,
     "metadata": {},
     "output_type": "execute_result"
    }
   ],
   "source": [
    "# #there is no NaN in create_date_dtime\n",
    "df.closed_date_dtime.isna().value_counts()"
   ]
  },
  {
   "cell_type": "code",
   "execution_count": 64,
   "id": "df6373fc",
   "metadata": {
    "scrolled": true
   },
   "outputs": [],
   "source": [
    "# df.closed_date_dtime = df.closed_date_dtime.fillna(0)"
   ]
  },
  {
   "cell_type": "code",
   "execution_count": 65,
   "id": "49799a2e",
   "metadata": {},
   "outputs": [
    {
     "data": {
      "text/plain": [
       "999998   2019-09-22 20:15:00\n",
       "999999   2019-09-21 16:25:00\n",
       "Name: create_date_dtime, dtype: datetime64[ns]"
      ]
     },
     "execution_count": 65,
     "metadata": {},
     "output_type": "execute_result"
    }
   ],
   "source": [
    "# df.closed_date_dtime.tail(2)\n",
    "\n",
    "# 27098879    2019-02-15 15:55:51\n",
    "# 27098880    2019-02-15 15:25:09\n",
    "\n",
    "df.create_date_dtime.tail(2)"
   ]
  },
  {
   "cell_type": "code",
   "execution_count": 77,
   "id": "d24c2208",
   "metadata": {},
   "outputs": [
    {
     "data": {
      "text/plain": [
       "0        16 days 15:27:04\n",
       "1        14 days 15:00:26\n",
       "2        29 days 21:26:32\n",
       "3         6 days 14:38:16\n",
       "4         6 days 16:18:23\n",
       "               ...       \n",
       "999995    6 days 00:30:00\n",
       "999996    4 days 00:10:00\n",
       "999997    3 days 00:19:00\n",
       "999998    3 days 20:00:00\n",
       "999999    0 days 00:00:00\n",
       "Length: 1000000, dtype: timedelta64[ns]"
      ]
     },
     "execution_count": 77,
     "metadata": {},
     "output_type": "execute_result"
    }
   ],
   "source": [
    "# df.closed_date_dtime = pd.to_datetime(df.closed_date_dtime, format=\"%Y-%m-%d %H:%M:%S\", errors='coerce')\n",
    "\n",
    "time_diff = df['closed_date_dtime'] - df['create_date_dtime']\n",
    "time_diff"
   ]
  },
  {
   "cell_type": "code",
   "execution_count": 81,
   "id": "11145dfb",
   "metadata": {},
   "outputs": [
    {
     "data": {
      "text/plain": [
       "112740.0"
      ]
     },
     "execution_count": 81,
     "metadata": {},
     "output_type": "execute_result"
    }
   ],
   "source": [
    "time_diff.dt.total_seconds().median()"
   ]
  },
  {
   "cell_type": "markdown",
   "id": "f901cdb7",
   "metadata": {},
   "source": [
    "Save it as a new column called `time_to_fix`"
   ]
  },
  {
   "cell_type": "code",
   "execution_count": 79,
   "id": "2cdcf705",
   "metadata": {},
   "outputs": [],
   "source": [
    "df['time_to_fix'] = time_diff.dt.total_seconds()"
   ]
  },
  {
   "cell_type": "markdown",
   "id": "30fbc746",
   "metadata": {},
   "source": [
    "## Which agency has the best time-to-fix time?"
   ]
  },
  {
   "cell_type": "code",
   "execution_count": 85,
   "id": "c2bb7780",
   "metadata": {},
   "outputs": [
    {
     "data": {
      "text/plain": [
       "agency\n",
       "DHS         4383.0\n",
       "NYPD        9169.0\n",
       "DOT        75079.0\n",
       "DEP        81000.0\n",
       "DSNY      206880.0\n",
       "DPR       246154.0\n",
       "DOHMH     297188.0\n",
       "DCA       307787.5\n",
       "DOE       349783.5\n",
       "HPD       528153.0\n",
       "DOB       651991.5\n",
       "DOF       947468.5\n",
       "DFTA     1057014.5\n",
       "DOITT    1260712.0\n",
       "EDC      1644113.0\n",
       "TLC      3912543.0\n",
       "ACS            NaN\n",
       "COIB           NaN\n",
       "DCAS           NaN\n",
       "DCP            NaN\n",
       "DVS            NaN\n",
       "TAX            NaN\n",
       "Name: time_to_fix, dtype: float64"
      ]
     },
     "execution_count": 85,
     "metadata": {},
     "output_type": "execute_result"
    }
   ],
   "source": [
    "#'time_to_fix' is new column\n",
    "\n",
    "df.groupby(by='agency').time_to_fix.median().sort_values()\n",
    "\n",
    "# DHS        average 4383.0 seconds"
   ]
  },
  {
   "cell_type": "markdown",
   "id": "376f1775",
   "metadata": {},
   "source": [
    "## Maybe we need some more information...\n",
    "\n",
    "I might want to know how big our sample size is for each of those, maybe the high performers only have one or two instances of having requests filed!\n",
    "\n",
    "### First, try using `.describe()` on the time to fix column after your `groupby`."
   ]
  },
  {
   "cell_type": "code",
   "execution_count": 86,
   "id": "81ba3d2e",
   "metadata": {},
   "outputs": [
    {
     "data": {
      "text/html": [
       "<div>\n",
       "<style scoped>\n",
       "    .dataframe tbody tr th:only-of-type {\n",
       "        vertical-align: middle;\n",
       "    }\n",
       "\n",
       "    .dataframe tbody tr th {\n",
       "        vertical-align: top;\n",
       "    }\n",
       "\n",
       "    .dataframe thead tr th {\n",
       "        text-align: left;\n",
       "    }\n",
       "\n",
       "    .dataframe thead tr:last-of-type th {\n",
       "        text-align: right;\n",
       "    }\n",
       "</style>\n",
       "<table border=\"1\" class=\"dataframe\">\n",
       "  <thead>\n",
       "    <tr>\n",
       "      <th></th>\n",
       "      <th colspan=\"8\" halign=\"left\">unique_key</th>\n",
       "      <th colspan=\"8\" halign=\"left\">time_to_fix</th>\n",
       "    </tr>\n",
       "    <tr>\n",
       "      <th></th>\n",
       "      <th>count</th>\n",
       "      <th>mean</th>\n",
       "      <th>std</th>\n",
       "      <th>min</th>\n",
       "      <th>25%</th>\n",
       "      <th>50%</th>\n",
       "      <th>75%</th>\n",
       "      <th>max</th>\n",
       "      <th>count</th>\n",
       "      <th>mean</th>\n",
       "      <th>std</th>\n",
       "      <th>min</th>\n",
       "      <th>25%</th>\n",
       "      <th>50%</th>\n",
       "      <th>75%</th>\n",
       "      <th>max</th>\n",
       "    </tr>\n",
       "    <tr>\n",
       "      <th>agency</th>\n",
       "      <th></th>\n",
       "      <th></th>\n",
       "      <th></th>\n",
       "      <th></th>\n",
       "      <th></th>\n",
       "      <th></th>\n",
       "      <th></th>\n",
       "      <th></th>\n",
       "      <th></th>\n",
       "      <th></th>\n",
       "      <th></th>\n",
       "      <th></th>\n",
       "      <th></th>\n",
       "      <th></th>\n",
       "      <th></th>\n",
       "      <th></th>\n",
       "    </tr>\n",
       "  </thead>\n",
       "  <tbody>\n",
       "    <tr>\n",
       "      <th>ACS</th>\n",
       "      <td>117.0</td>\n",
       "      <td>4.229530e+07</td>\n",
       "      <td>409307.200900</td>\n",
       "      <td>41710210.0</td>\n",
       "      <td>41912271.00</td>\n",
       "      <td>42209401.0</td>\n",
       "      <td>42700716.00</td>\n",
       "      <td>42974968.0</td>\n",
       "      <td>0.0</td>\n",
       "      <td>NaN</td>\n",
       "      <td>NaN</td>\n",
       "      <td>NaN</td>\n",
       "      <td>NaN</td>\n",
       "      <td>NaN</td>\n",
       "      <td>NaN</td>\n",
       "      <td>NaN</td>\n",
       "    </tr>\n",
       "    <tr>\n",
       "      <th>COIB</th>\n",
       "      <td>4.0</td>\n",
       "      <td>4.258125e+07</td>\n",
       "      <td>267808.693280</td>\n",
       "      <td>42258386.0</td>\n",
       "      <td>42415141.25</td>\n",
       "      <td>42615467.5</td>\n",
       "      <td>42781574.00</td>\n",
       "      <td>42835670.0</td>\n",
       "      <td>0.0</td>\n",
       "      <td>NaN</td>\n",
       "      <td>NaN</td>\n",
       "      <td>NaN</td>\n",
       "      <td>NaN</td>\n",
       "      <td>NaN</td>\n",
       "      <td>NaN</td>\n",
       "      <td>NaN</td>\n",
       "    </tr>\n",
       "    <tr>\n",
       "      <th>DCA</th>\n",
       "      <td>4230.0</td>\n",
       "      <td>4.223952e+07</td>\n",
       "      <td>349133.676776</td>\n",
       "      <td>41694820.0</td>\n",
       "      <td>41948825.75</td>\n",
       "      <td>42170646.0</td>\n",
       "      <td>42596582.50</td>\n",
       "      <td>42893918.0</td>\n",
       "      <td>4230.0</td>\n",
       "      <td>6.881756e+05</td>\n",
       "      <td>5.943283e+05</td>\n",
       "      <td>1441.0</td>\n",
       "      <td>99288.75</td>\n",
       "      <td>307787.5</td>\n",
       "      <td>1333844.75</td>\n",
       "      <td>2315989.0</td>\n",
       "    </tr>\n",
       "    <tr>\n",
       "      <th>DCAS</th>\n",
       "      <td>280.0</td>\n",
       "      <td>4.229537e+07</td>\n",
       "      <td>401178.622136</td>\n",
       "      <td>41700997.0</td>\n",
       "      <td>41959548.25</td>\n",
       "      <td>42188893.0</td>\n",
       "      <td>42678320.75</td>\n",
       "      <td>42970700.0</td>\n",
       "      <td>0.0</td>\n",
       "      <td>NaN</td>\n",
       "      <td>NaN</td>\n",
       "      <td>NaN</td>\n",
       "      <td>NaN</td>\n",
       "      <td>NaN</td>\n",
       "      <td>NaN</td>\n",
       "      <td>NaN</td>\n",
       "    </tr>\n",
       "    <tr>\n",
       "      <th>DCP</th>\n",
       "      <td>9.0</td>\n",
       "      <td>4.238449e+07</td>\n",
       "      <td>521249.148342</td>\n",
       "      <td>41717530.0</td>\n",
       "      <td>41947840.00</td>\n",
       "      <td>42704587.0</td>\n",
       "      <td>42807355.00</td>\n",
       "      <td>42904520.0</td>\n",
       "      <td>0.0</td>\n",
       "      <td>NaN</td>\n",
       "      <td>NaN</td>\n",
       "      <td>NaN</td>\n",
       "      <td>NaN</td>\n",
       "      <td>NaN</td>\n",
       "      <td>NaN</td>\n",
       "      <td>NaN</td>\n",
       "    </tr>\n",
       "    <tr>\n",
       "      <th>DEP</th>\n",
       "      <td>88316.0</td>\n",
       "      <td>4.273694e+07</td>\n",
       "      <td>650598.534150</td>\n",
       "      <td>41694432.0</td>\n",
       "      <td>42148216.00</td>\n",
       "      <td>42717616.5</td>\n",
       "      <td>43167920.25</td>\n",
       "      <td>43862228.0</td>\n",
       "      <td>87211.0</td>\n",
       "      <td>3.473595e+05</td>\n",
       "      <td>1.438434e+06</td>\n",
       "      <td>0.0</td>\n",
       "      <td>10980.00</td>\n",
       "      <td>81000.0</td>\n",
       "      <td>315180.00</td>\n",
       "      <td>77879340.0</td>\n",
       "    </tr>\n",
       "    <tr>\n",
       "      <th>DFTA</th>\n",
       "      <td>2286.0</td>\n",
       "      <td>4.221565e+07</td>\n",
       "      <td>332550.747526</td>\n",
       "      <td>41694656.0</td>\n",
       "      <td>41934018.50</td>\n",
       "      <td>42158801.5</td>\n",
       "      <td>42532731.50</td>\n",
       "      <td>42886759.0</td>\n",
       "      <td>2286.0</td>\n",
       "      <td>9.755638e+05</td>\n",
       "      <td>3.716805e+05</td>\n",
       "      <td>2568.0</td>\n",
       "      <td>778443.75</td>\n",
       "      <td>1057014.5</td>\n",
       "      <td>1211342.75</td>\n",
       "      <td>2915165.0</td>\n",
       "    </tr>\n",
       "    <tr>\n",
       "      <th>DHS</th>\n",
       "      <td>482.0</td>\n",
       "      <td>4.231365e+07</td>\n",
       "      <td>348583.814400</td>\n",
       "      <td>41696926.0</td>\n",
       "      <td>42133341.75</td>\n",
       "      <td>42240769.0</td>\n",
       "      <td>42298677.50</td>\n",
       "      <td>43139421.0</td>\n",
       "      <td>482.0</td>\n",
       "      <td>1.111270e+04</td>\n",
       "      <td>1.890682e+04</td>\n",
       "      <td>40.0</td>\n",
       "      <td>998.75</td>\n",
       "      <td>4383.0</td>\n",
       "      <td>11147.00</td>\n",
       "      <td>215122.0</td>\n",
       "    </tr>\n",
       "    <tr>\n",
       "      <th>DOB</th>\n",
       "      <td>111584.0</td>\n",
       "      <td>4.255037e+07</td>\n",
       "      <td>549188.211816</td>\n",
       "      <td>41694637.0</td>\n",
       "      <td>42167162.50</td>\n",
       "      <td>42550223.5</td>\n",
       "      <td>42771544.25</td>\n",
       "      <td>43862337.0</td>\n",
       "      <td>111584.0</td>\n",
       "      <td>5.724797e+06</td>\n",
       "      <td>2.165821e+07</td>\n",
       "      <td>0.0</td>\n",
       "      <td>0.00</td>\n",
       "      <td>651991.5</td>\n",
       "      <td>3670920.25</td>\n",
       "      <td>366913215.0</td>\n",
       "    </tr>\n",
       "    <tr>\n",
       "      <th>DOE</th>\n",
       "      <td>330.0</td>\n",
       "      <td>4.218857e+07</td>\n",
       "      <td>315392.072314</td>\n",
       "      <td>41701499.0</td>\n",
       "      <td>41930192.75</td>\n",
       "      <td>42096815.5</td>\n",
       "      <td>42511575.75</td>\n",
       "      <td>42813988.0</td>\n",
       "      <td>330.0</td>\n",
       "      <td>6.579115e+05</td>\n",
       "      <td>1.101121e+06</td>\n",
       "      <td>576.0</td>\n",
       "      <td>101256.75</td>\n",
       "      <td>349783.5</td>\n",
       "      <td>644960.25</td>\n",
       "      <td>7327892.0</td>\n",
       "    </tr>\n",
       "    <tr>\n",
       "      <th>DOF</th>\n",
       "      <td>2370.0</td>\n",
       "      <td>4.214712e+07</td>\n",
       "      <td>295299.966673</td>\n",
       "      <td>41694422.0</td>\n",
       "      <td>41930082.75</td>\n",
       "      <td>42080381.0</td>\n",
       "      <td>42297997.00</td>\n",
       "      <td>43048380.0</td>\n",
       "      <td>2370.0</td>\n",
       "      <td>1.329843e+06</td>\n",
       "      <td>1.278181e+06</td>\n",
       "      <td>87.0</td>\n",
       "      <td>284123.75</td>\n",
       "      <td>947468.5</td>\n",
       "      <td>2093653.25</td>\n",
       "      <td>6218183.0</td>\n",
       "    </tr>\n",
       "    <tr>\n",
       "      <th>DOHMH</th>\n",
       "      <td>10581.0</td>\n",
       "      <td>4.212104e+07</td>\n",
       "      <td>316203.192180</td>\n",
       "      <td>41694471.0</td>\n",
       "      <td>41912981.00</td>\n",
       "      <td>42063132.0</td>\n",
       "      <td>42226946.00</td>\n",
       "      <td>43140933.0</td>\n",
       "      <td>10501.0</td>\n",
       "      <td>1.010805e+06</td>\n",
       "      <td>1.688545e+06</td>\n",
       "      <td>0.0</td>\n",
       "      <td>19376.00</td>\n",
       "      <td>297188.0</td>\n",
       "      <td>930074.00</td>\n",
       "      <td>19700442.0</td>\n",
       "    </tr>\n",
       "    <tr>\n",
       "      <th>DOITT</th>\n",
       "      <td>151.0</td>\n",
       "      <td>4.222443e+07</td>\n",
       "      <td>331098.546447</td>\n",
       "      <td>41699271.0</td>\n",
       "      <td>41947843.50</td>\n",
       "      <td>42146568.0</td>\n",
       "      <td>42535132.00</td>\n",
       "      <td>42774205.0</td>\n",
       "      <td>151.0</td>\n",
       "      <td>1.310353e+06</td>\n",
       "      <td>6.110265e+05</td>\n",
       "      <td>72740.0</td>\n",
       "      <td>1038772.50</td>\n",
       "      <td>1260712.0</td>\n",
       "      <td>1551081.50</td>\n",
       "      <td>4160681.0</td>\n",
       "    </tr>\n",
       "    <tr>\n",
       "      <th>DOT</th>\n",
       "      <td>124911.0</td>\n",
       "      <td>4.262654e+07</td>\n",
       "      <td>621244.321284</td>\n",
       "      <td>41694423.0</td>\n",
       "      <td>42066821.50</td>\n",
       "      <td>42614240.0</td>\n",
       "      <td>43137500.50</td>\n",
       "      <td>43961676.0</td>\n",
       "      <td>123495.0</td>\n",
       "      <td>4.526538e+05</td>\n",
       "      <td>1.951472e+06</td>\n",
       "      <td>-4665600.0</td>\n",
       "      <td>900.00</td>\n",
       "      <td>75079.0</td>\n",
       "      <td>445868.50</td>\n",
       "      <td>81760380.0</td>\n",
       "    </tr>\n",
       "    <tr>\n",
       "      <th>DPR</th>\n",
       "      <td>13343.0</td>\n",
       "      <td>4.231605e+07</td>\n",
       "      <td>363149.456639</td>\n",
       "      <td>41694528.0</td>\n",
       "      <td>42003989.50</td>\n",
       "      <td>42250896.0</td>\n",
       "      <td>42669585.50</td>\n",
       "      <td>43125000.0</td>\n",
       "      <td>13335.0</td>\n",
       "      <td>7.583972e+05</td>\n",
       "      <td>1.997474e+06</td>\n",
       "      <td>133.0</td>\n",
       "      <td>78813.00</td>\n",
       "      <td>246154.0</td>\n",
       "      <td>626210.50</td>\n",
       "      <td>57706363.0</td>\n",
       "    </tr>\n",
       "    <tr>\n",
       "      <th>DSNY</th>\n",
       "      <td>158866.0</td>\n",
       "      <td>4.254017e+07</td>\n",
       "      <td>538225.976355</td>\n",
       "      <td>41694433.0</td>\n",
       "      <td>42068088.25</td>\n",
       "      <td>42593133.5</td>\n",
       "      <td>42902457.00</td>\n",
       "      <td>43954708.0</td>\n",
       "      <td>158638.0</td>\n",
       "      <td>4.028187e+05</td>\n",
       "      <td>1.080617e+06</td>\n",
       "      <td>0.0</td>\n",
       "      <td>108960.00</td>\n",
       "      <td>206880.0</td>\n",
       "      <td>381420.00</td>\n",
       "      <td>69988620.0</td>\n",
       "    </tr>\n",
       "    <tr>\n",
       "      <th>DVS</th>\n",
       "      <td>120.0</td>\n",
       "      <td>4.290163e+07</td>\n",
       "      <td>3419.229774</td>\n",
       "      <td>42895943.0</td>\n",
       "      <td>42898976.75</td>\n",
       "      <td>42901837.5</td>\n",
       "      <td>42904799.25</td>\n",
       "      <td>42906250.0</td>\n",
       "      <td>0.0</td>\n",
       "      <td>NaN</td>\n",
       "      <td>NaN</td>\n",
       "      <td>NaN</td>\n",
       "      <td>NaN</td>\n",
       "      <td>NaN</td>\n",
       "      <td>NaN</td>\n",
       "      <td>NaN</td>\n",
       "    </tr>\n",
       "    <tr>\n",
       "      <th>EDC</th>\n",
       "      <td>148.0</td>\n",
       "      <td>4.201400e+07</td>\n",
       "      <td>135675.236036</td>\n",
       "      <td>41698232.0</td>\n",
       "      <td>41924544.00</td>\n",
       "      <td>42037413.0</td>\n",
       "      <td>42117198.50</td>\n",
       "      <td>42224486.0</td>\n",
       "      <td>148.0</td>\n",
       "      <td>1.826095e+06</td>\n",
       "      <td>8.587158e+05</td>\n",
       "      <td>160048.0</td>\n",
       "      <td>1144597.75</td>\n",
       "      <td>1644113.0</td>\n",
       "      <td>2669380.25</td>\n",
       "      <td>3860834.0</td>\n",
       "    </tr>\n",
       "    <tr>\n",
       "      <th>HPD</th>\n",
       "      <td>217064.0</td>\n",
       "      <td>4.236460e+07</td>\n",
       "      <td>561193.966587</td>\n",
       "      <td>41694420.0</td>\n",
       "      <td>41891729.25</td>\n",
       "      <td>42161493.5</td>\n",
       "      <td>42815817.25</td>\n",
       "      <td>43862193.0</td>\n",
       "      <td>216813.0</td>\n",
       "      <td>1.155210e+06</td>\n",
       "      <td>1.731696e+06</td>\n",
       "      <td>0.0</td>\n",
       "      <td>213112.00</td>\n",
       "      <td>528153.0</td>\n",
       "      <td>1374609.00</td>\n",
       "      <td>37304087.0</td>\n",
       "    </tr>\n",
       "    <tr>\n",
       "      <th>NYPD</th>\n",
       "      <td>261669.0</td>\n",
       "      <td>4.234910e+07</td>\n",
       "      <td>379230.257567</td>\n",
       "      <td>41694443.0</td>\n",
       "      <td>42022208.00</td>\n",
       "      <td>42276332.0</td>\n",
       "      <td>42709758.00</td>\n",
       "      <td>43129129.0</td>\n",
       "      <td>261669.0</td>\n",
       "      <td>1.505299e+04</td>\n",
       "      <td>3.199204e+04</td>\n",
       "      <td>101.0</td>\n",
       "      <td>4248.00</td>\n",
       "      <td>9169.0</td>\n",
       "      <td>17983.00</td>\n",
       "      <td>2712997.0</td>\n",
       "    </tr>\n",
       "    <tr>\n",
       "      <th>TAX</th>\n",
       "      <td>86.0</td>\n",
       "      <td>4.235259e+07</td>\n",
       "      <td>443709.190755</td>\n",
       "      <td>41697670.0</td>\n",
       "      <td>41944663.25</td>\n",
       "      <td>42253204.5</td>\n",
       "      <td>42799701.00</td>\n",
       "      <td>42976519.0</td>\n",
       "      <td>0.0</td>\n",
       "      <td>NaN</td>\n",
       "      <td>NaN</td>\n",
       "      <td>NaN</td>\n",
       "      <td>NaN</td>\n",
       "      <td>NaN</td>\n",
       "      <td>NaN</td>\n",
       "      <td>NaN</td>\n",
       "    </tr>\n",
       "    <tr>\n",
       "      <th>TLC</th>\n",
       "      <td>3053.0</td>\n",
       "      <td>4.210677e+07</td>\n",
       "      <td>303479.078903</td>\n",
       "      <td>41694962.0</td>\n",
       "      <td>41892229.00</td>\n",
       "      <td>42039564.0</td>\n",
       "      <td>42211260.00</td>\n",
       "      <td>43125447.0</td>\n",
       "      <td>3053.0</td>\n",
       "      <td>3.655863e+06</td>\n",
       "      <td>2.950527e+06</td>\n",
       "      <td>1.0</td>\n",
       "      <td>167922.00</td>\n",
       "      <td>3912543.0</td>\n",
       "      <td>6217126.00</td>\n",
       "      <td>9760356.0</td>\n",
       "    </tr>\n",
       "  </tbody>\n",
       "</table>\n",
       "</div>"
      ],
      "text/plain": [
       "       unique_key                                                        \\\n",
       "            count          mean            std         min          25%   \n",
       "agency                                                                    \n",
       "ACS         117.0  4.229530e+07  409307.200900  41710210.0  41912271.00   \n",
       "COIB          4.0  4.258125e+07  267808.693280  42258386.0  42415141.25   \n",
       "DCA        4230.0  4.223952e+07  349133.676776  41694820.0  41948825.75   \n",
       "DCAS        280.0  4.229537e+07  401178.622136  41700997.0  41959548.25   \n",
       "DCP           9.0  4.238449e+07  521249.148342  41717530.0  41947840.00   \n",
       "DEP       88316.0  4.273694e+07  650598.534150  41694432.0  42148216.00   \n",
       "DFTA       2286.0  4.221565e+07  332550.747526  41694656.0  41934018.50   \n",
       "DHS         482.0  4.231365e+07  348583.814400  41696926.0  42133341.75   \n",
       "DOB      111584.0  4.255037e+07  549188.211816  41694637.0  42167162.50   \n",
       "DOE         330.0  4.218857e+07  315392.072314  41701499.0  41930192.75   \n",
       "DOF        2370.0  4.214712e+07  295299.966673  41694422.0  41930082.75   \n",
       "DOHMH     10581.0  4.212104e+07  316203.192180  41694471.0  41912981.00   \n",
       "DOITT       151.0  4.222443e+07  331098.546447  41699271.0  41947843.50   \n",
       "DOT      124911.0  4.262654e+07  621244.321284  41694423.0  42066821.50   \n",
       "DPR       13343.0  4.231605e+07  363149.456639  41694528.0  42003989.50   \n",
       "DSNY     158866.0  4.254017e+07  538225.976355  41694433.0  42068088.25   \n",
       "DVS         120.0  4.290163e+07    3419.229774  42895943.0  42898976.75   \n",
       "EDC         148.0  4.201400e+07  135675.236036  41698232.0  41924544.00   \n",
       "HPD      217064.0  4.236460e+07  561193.966587  41694420.0  41891729.25   \n",
       "NYPD     261669.0  4.234910e+07  379230.257567  41694443.0  42022208.00   \n",
       "TAX          86.0  4.235259e+07  443709.190755  41697670.0  41944663.25   \n",
       "TLC        3053.0  4.210677e+07  303479.078903  41694962.0  41892229.00   \n",
       "\n",
       "                                            time_to_fix                \\\n",
       "               50%          75%         max       count          mean   \n",
       "agency                                                                  \n",
       "ACS     42209401.0  42700716.00  42974968.0         0.0           NaN   \n",
       "COIB    42615467.5  42781574.00  42835670.0         0.0           NaN   \n",
       "DCA     42170646.0  42596582.50  42893918.0      4230.0  6.881756e+05   \n",
       "DCAS    42188893.0  42678320.75  42970700.0         0.0           NaN   \n",
       "DCP     42704587.0  42807355.00  42904520.0         0.0           NaN   \n",
       "DEP     42717616.5  43167920.25  43862228.0     87211.0  3.473595e+05   \n",
       "DFTA    42158801.5  42532731.50  42886759.0      2286.0  9.755638e+05   \n",
       "DHS     42240769.0  42298677.50  43139421.0       482.0  1.111270e+04   \n",
       "DOB     42550223.5  42771544.25  43862337.0    111584.0  5.724797e+06   \n",
       "DOE     42096815.5  42511575.75  42813988.0       330.0  6.579115e+05   \n",
       "DOF     42080381.0  42297997.00  43048380.0      2370.0  1.329843e+06   \n",
       "DOHMH   42063132.0  42226946.00  43140933.0     10501.0  1.010805e+06   \n",
       "DOITT   42146568.0  42535132.00  42774205.0       151.0  1.310353e+06   \n",
       "DOT     42614240.0  43137500.50  43961676.0    123495.0  4.526538e+05   \n",
       "DPR     42250896.0  42669585.50  43125000.0     13335.0  7.583972e+05   \n",
       "DSNY    42593133.5  42902457.00  43954708.0    158638.0  4.028187e+05   \n",
       "DVS     42901837.5  42904799.25  42906250.0         0.0           NaN   \n",
       "EDC     42037413.0  42117198.50  42224486.0       148.0  1.826095e+06   \n",
       "HPD     42161493.5  42815817.25  43862193.0    216813.0  1.155210e+06   \n",
       "NYPD    42276332.0  42709758.00  43129129.0    261669.0  1.505299e+04   \n",
       "TAX     42253204.5  42799701.00  42976519.0         0.0           NaN   \n",
       "TLC     42039564.0  42211260.00  43125447.0      3053.0  3.655863e+06   \n",
       "\n",
       "                                                                    \\\n",
       "                 std        min         25%        50%         75%   \n",
       "agency                                                               \n",
       "ACS              NaN        NaN         NaN        NaN         NaN   \n",
       "COIB             NaN        NaN         NaN        NaN         NaN   \n",
       "DCA     5.943283e+05     1441.0    99288.75   307787.5  1333844.75   \n",
       "DCAS             NaN        NaN         NaN        NaN         NaN   \n",
       "DCP              NaN        NaN         NaN        NaN         NaN   \n",
       "DEP     1.438434e+06        0.0    10980.00    81000.0   315180.00   \n",
       "DFTA    3.716805e+05     2568.0   778443.75  1057014.5  1211342.75   \n",
       "DHS     1.890682e+04       40.0      998.75     4383.0    11147.00   \n",
       "DOB     2.165821e+07        0.0        0.00   651991.5  3670920.25   \n",
       "DOE     1.101121e+06      576.0   101256.75   349783.5   644960.25   \n",
       "DOF     1.278181e+06       87.0   284123.75   947468.5  2093653.25   \n",
       "DOHMH   1.688545e+06        0.0    19376.00   297188.0   930074.00   \n",
       "DOITT   6.110265e+05    72740.0  1038772.50  1260712.0  1551081.50   \n",
       "DOT     1.951472e+06 -4665600.0      900.00    75079.0   445868.50   \n",
       "DPR     1.997474e+06      133.0    78813.00   246154.0   626210.50   \n",
       "DSNY    1.080617e+06        0.0   108960.00   206880.0   381420.00   \n",
       "DVS              NaN        NaN         NaN        NaN         NaN   \n",
       "EDC     8.587158e+05   160048.0  1144597.75  1644113.0  2669380.25   \n",
       "HPD     1.731696e+06        0.0   213112.00   528153.0  1374609.00   \n",
       "NYPD    3.199204e+04      101.0     4248.00     9169.0    17983.00   \n",
       "TAX              NaN        NaN         NaN        NaN         NaN   \n",
       "TLC     2.950527e+06        1.0   167922.00  3912543.0  6217126.00   \n",
       "\n",
       "                     \n",
       "                max  \n",
       "agency               \n",
       "ACS             NaN  \n",
       "COIB            NaN  \n",
       "DCA       2315989.0  \n",
       "DCAS            NaN  \n",
       "DCP             NaN  \n",
       "DEP      77879340.0  \n",
       "DFTA      2915165.0  \n",
       "DHS        215122.0  \n",
       "DOB     366913215.0  \n",
       "DOE       7327892.0  \n",
       "DOF       6218183.0  \n",
       "DOHMH    19700442.0  \n",
       "DOITT     4160681.0  \n",
       "DOT      81760380.0  \n",
       "DPR      57706363.0  \n",
       "DSNY     69988620.0  \n",
       "DVS             NaN  \n",
       "EDC       3860834.0  \n",
       "HPD      37304087.0  \n",
       "NYPD      2712997.0  \n",
       "TAX             NaN  \n",
       "TLC       9760356.0  "
      ]
     },
     "execution_count": 86,
     "metadata": {},
     "output_type": "execute_result"
    }
   ],
   "source": [
    "df.groupby(by='agency').describe()\n",
    "#??"
   ]
  },
  {
   "cell_type": "markdown",
   "id": "d9805543",
   "metadata": {},
   "source": [
    "### Now, an alternative\n",
    "\n",
    "Seems a little busy, yeah? **You can also do smaller, custom aggregations.**\n",
    "\n",
    "Try something like this:\n",
    "\n",
    "```python\n",
    "# Multiple aggregations of one column\n",
    "df.groupby('agency').time_to_fix.agg(['median', 'size'])\n",
    "\n",
    "# You can also do something like this to reach multiple columns\n",
    "df.groupby('agency').agg({\n",
    "    'time_to_fix': ['median', 'size']\n",
    "})\n",
    "```"
   ]
  },
  {
   "cell_type": "code",
   "execution_count": 87,
   "id": "90413000",
   "metadata": {},
   "outputs": [
    {
     "data": {
      "text/html": [
       "<div>\n",
       "<style scoped>\n",
       "    .dataframe tbody tr th:only-of-type {\n",
       "        vertical-align: middle;\n",
       "    }\n",
       "\n",
       "    .dataframe tbody tr th {\n",
       "        vertical-align: top;\n",
       "    }\n",
       "\n",
       "    .dataframe thead th {\n",
       "        text-align: right;\n",
       "    }\n",
       "</style>\n",
       "<table border=\"1\" class=\"dataframe\">\n",
       "  <thead>\n",
       "    <tr style=\"text-align: right;\">\n",
       "      <th></th>\n",
       "      <th>median</th>\n",
       "      <th>size</th>\n",
       "    </tr>\n",
       "    <tr>\n",
       "      <th>agency</th>\n",
       "      <th></th>\n",
       "      <th></th>\n",
       "    </tr>\n",
       "  </thead>\n",
       "  <tbody>\n",
       "    <tr>\n",
       "      <th>ACS</th>\n",
       "      <td>NaN</td>\n",
       "      <td>117</td>\n",
       "    </tr>\n",
       "    <tr>\n",
       "      <th>COIB</th>\n",
       "      <td>NaN</td>\n",
       "      <td>4</td>\n",
       "    </tr>\n",
       "    <tr>\n",
       "      <th>DCA</th>\n",
       "      <td>307787.5</td>\n",
       "      <td>4230</td>\n",
       "    </tr>\n",
       "    <tr>\n",
       "      <th>DCAS</th>\n",
       "      <td>NaN</td>\n",
       "      <td>280</td>\n",
       "    </tr>\n",
       "    <tr>\n",
       "      <th>DCP</th>\n",
       "      <td>NaN</td>\n",
       "      <td>9</td>\n",
       "    </tr>\n",
       "    <tr>\n",
       "      <th>DEP</th>\n",
       "      <td>81000.0</td>\n",
       "      <td>88316</td>\n",
       "    </tr>\n",
       "    <tr>\n",
       "      <th>DFTA</th>\n",
       "      <td>1057014.5</td>\n",
       "      <td>2286</td>\n",
       "    </tr>\n",
       "    <tr>\n",
       "      <th>DHS</th>\n",
       "      <td>4383.0</td>\n",
       "      <td>482</td>\n",
       "    </tr>\n",
       "    <tr>\n",
       "      <th>DOB</th>\n",
       "      <td>651991.5</td>\n",
       "      <td>111584</td>\n",
       "    </tr>\n",
       "    <tr>\n",
       "      <th>DOE</th>\n",
       "      <td>349783.5</td>\n",
       "      <td>330</td>\n",
       "    </tr>\n",
       "    <tr>\n",
       "      <th>DOF</th>\n",
       "      <td>947468.5</td>\n",
       "      <td>2370</td>\n",
       "    </tr>\n",
       "    <tr>\n",
       "      <th>DOHMH</th>\n",
       "      <td>297188.0</td>\n",
       "      <td>10581</td>\n",
       "    </tr>\n",
       "    <tr>\n",
       "      <th>DOITT</th>\n",
       "      <td>1260712.0</td>\n",
       "      <td>151</td>\n",
       "    </tr>\n",
       "    <tr>\n",
       "      <th>DOT</th>\n",
       "      <td>75079.0</td>\n",
       "      <td>124911</td>\n",
       "    </tr>\n",
       "    <tr>\n",
       "      <th>DPR</th>\n",
       "      <td>246154.0</td>\n",
       "      <td>13343</td>\n",
       "    </tr>\n",
       "    <tr>\n",
       "      <th>DSNY</th>\n",
       "      <td>206880.0</td>\n",
       "      <td>158866</td>\n",
       "    </tr>\n",
       "    <tr>\n",
       "      <th>DVS</th>\n",
       "      <td>NaN</td>\n",
       "      <td>120</td>\n",
       "    </tr>\n",
       "    <tr>\n",
       "      <th>EDC</th>\n",
       "      <td>1644113.0</td>\n",
       "      <td>148</td>\n",
       "    </tr>\n",
       "    <tr>\n",
       "      <th>HPD</th>\n",
       "      <td>528153.0</td>\n",
       "      <td>217064</td>\n",
       "    </tr>\n",
       "    <tr>\n",
       "      <th>NYPD</th>\n",
       "      <td>9169.0</td>\n",
       "      <td>261669</td>\n",
       "    </tr>\n",
       "    <tr>\n",
       "      <th>TAX</th>\n",
       "      <td>NaN</td>\n",
       "      <td>86</td>\n",
       "    </tr>\n",
       "    <tr>\n",
       "      <th>TLC</th>\n",
       "      <td>3912543.0</td>\n",
       "      <td>3053</td>\n",
       "    </tr>\n",
       "  </tbody>\n",
       "</table>\n",
       "</div>"
      ],
      "text/plain": [
       "           median    size\n",
       "agency                   \n",
       "ACS           NaN     117\n",
       "COIB          NaN       4\n",
       "DCA      307787.5    4230\n",
       "DCAS          NaN     280\n",
       "DCP           NaN       9\n",
       "DEP       81000.0   88316\n",
       "DFTA    1057014.5    2286\n",
       "DHS        4383.0     482\n",
       "DOB      651991.5  111584\n",
       "DOE      349783.5     330\n",
       "DOF      947468.5    2370\n",
       "DOHMH    297188.0   10581\n",
       "DOITT   1260712.0     151\n",
       "DOT       75079.0  124911\n",
       "DPR      246154.0   13343\n",
       "DSNY     206880.0  158866\n",
       "DVS           NaN     120\n",
       "EDC     1644113.0     148\n",
       "HPD      528153.0  217064\n",
       "NYPD       9169.0  261669\n",
       "TAX           NaN      86\n",
       "TLC     3912543.0    3053"
      ]
     },
     "execution_count": 87,
     "metadata": {},
     "output_type": "execute_result"
    }
   ],
   "source": [
    "df.groupby('agency').time_to_fix.agg(['median', 'size'])"
   ]
  },
  {
   "cell_type": "code",
   "execution_count": 88,
   "id": "a0ee267d",
   "metadata": {},
   "outputs": [
    {
     "data": {
      "text/html": [
       "<div>\n",
       "<style scoped>\n",
       "    .dataframe tbody tr th:only-of-type {\n",
       "        vertical-align: middle;\n",
       "    }\n",
       "\n",
       "    .dataframe tbody tr th {\n",
       "        vertical-align: top;\n",
       "    }\n",
       "\n",
       "    .dataframe thead tr th {\n",
       "        text-align: left;\n",
       "    }\n",
       "\n",
       "    .dataframe thead tr:last-of-type th {\n",
       "        text-align: right;\n",
       "    }\n",
       "</style>\n",
       "<table border=\"1\" class=\"dataframe\">\n",
       "  <thead>\n",
       "    <tr>\n",
       "      <th></th>\n",
       "      <th colspan=\"2\" halign=\"left\">time_to_fix</th>\n",
       "    </tr>\n",
       "    <tr>\n",
       "      <th></th>\n",
       "      <th>median</th>\n",
       "      <th>size</th>\n",
       "    </tr>\n",
       "    <tr>\n",
       "      <th>agency</th>\n",
       "      <th></th>\n",
       "      <th></th>\n",
       "    </tr>\n",
       "  </thead>\n",
       "  <tbody>\n",
       "    <tr>\n",
       "      <th>ACS</th>\n",
       "      <td>NaN</td>\n",
       "      <td>117</td>\n",
       "    </tr>\n",
       "    <tr>\n",
       "      <th>COIB</th>\n",
       "      <td>NaN</td>\n",
       "      <td>4</td>\n",
       "    </tr>\n",
       "    <tr>\n",
       "      <th>DCA</th>\n",
       "      <td>307787.5</td>\n",
       "      <td>4230</td>\n",
       "    </tr>\n",
       "    <tr>\n",
       "      <th>DCAS</th>\n",
       "      <td>NaN</td>\n",
       "      <td>280</td>\n",
       "    </tr>\n",
       "    <tr>\n",
       "      <th>DCP</th>\n",
       "      <td>NaN</td>\n",
       "      <td>9</td>\n",
       "    </tr>\n",
       "    <tr>\n",
       "      <th>DEP</th>\n",
       "      <td>81000.0</td>\n",
       "      <td>88316</td>\n",
       "    </tr>\n",
       "    <tr>\n",
       "      <th>DFTA</th>\n",
       "      <td>1057014.5</td>\n",
       "      <td>2286</td>\n",
       "    </tr>\n",
       "    <tr>\n",
       "      <th>DHS</th>\n",
       "      <td>4383.0</td>\n",
       "      <td>482</td>\n",
       "    </tr>\n",
       "    <tr>\n",
       "      <th>DOB</th>\n",
       "      <td>651991.5</td>\n",
       "      <td>111584</td>\n",
       "    </tr>\n",
       "    <tr>\n",
       "      <th>DOE</th>\n",
       "      <td>349783.5</td>\n",
       "      <td>330</td>\n",
       "    </tr>\n",
       "    <tr>\n",
       "      <th>DOF</th>\n",
       "      <td>947468.5</td>\n",
       "      <td>2370</td>\n",
       "    </tr>\n",
       "    <tr>\n",
       "      <th>DOHMH</th>\n",
       "      <td>297188.0</td>\n",
       "      <td>10581</td>\n",
       "    </tr>\n",
       "    <tr>\n",
       "      <th>DOITT</th>\n",
       "      <td>1260712.0</td>\n",
       "      <td>151</td>\n",
       "    </tr>\n",
       "    <tr>\n",
       "      <th>DOT</th>\n",
       "      <td>75079.0</td>\n",
       "      <td>124911</td>\n",
       "    </tr>\n",
       "    <tr>\n",
       "      <th>DPR</th>\n",
       "      <td>246154.0</td>\n",
       "      <td>13343</td>\n",
       "    </tr>\n",
       "    <tr>\n",
       "      <th>DSNY</th>\n",
       "      <td>206880.0</td>\n",
       "      <td>158866</td>\n",
       "    </tr>\n",
       "    <tr>\n",
       "      <th>DVS</th>\n",
       "      <td>NaN</td>\n",
       "      <td>120</td>\n",
       "    </tr>\n",
       "    <tr>\n",
       "      <th>EDC</th>\n",
       "      <td>1644113.0</td>\n",
       "      <td>148</td>\n",
       "    </tr>\n",
       "    <tr>\n",
       "      <th>HPD</th>\n",
       "      <td>528153.0</td>\n",
       "      <td>217064</td>\n",
       "    </tr>\n",
       "    <tr>\n",
       "      <th>NYPD</th>\n",
       "      <td>9169.0</td>\n",
       "      <td>261669</td>\n",
       "    </tr>\n",
       "    <tr>\n",
       "      <th>TAX</th>\n",
       "      <td>NaN</td>\n",
       "      <td>86</td>\n",
       "    </tr>\n",
       "    <tr>\n",
       "      <th>TLC</th>\n",
       "      <td>3912543.0</td>\n",
       "      <td>3053</td>\n",
       "    </tr>\n",
       "  </tbody>\n",
       "</table>\n",
       "</div>"
      ],
      "text/plain": [
       "       time_to_fix        \n",
       "            median    size\n",
       "agency                    \n",
       "ACS            NaN     117\n",
       "COIB           NaN       4\n",
       "DCA       307787.5    4230\n",
       "DCAS           NaN     280\n",
       "DCP            NaN       9\n",
       "DEP        81000.0   88316\n",
       "DFTA     1057014.5    2286\n",
       "DHS         4383.0     482\n",
       "DOB       651991.5  111584\n",
       "DOE       349783.5     330\n",
       "DOF       947468.5    2370\n",
       "DOHMH     297188.0   10581\n",
       "DOITT    1260712.0     151\n",
       "DOT        75079.0  124911\n",
       "DPR       246154.0   13343\n",
       "DSNY      206880.0  158866\n",
       "DVS            NaN     120\n",
       "EDC      1644113.0     148\n",
       "HPD       528153.0  217064\n",
       "NYPD        9169.0  261669\n",
       "TAX            NaN      86\n",
       "TLC      3912543.0    3053"
      ]
     },
     "execution_count": 88,
     "metadata": {},
     "output_type": "execute_result"
    }
   ],
   "source": [
    "df.groupby('agency').agg({\n",
    "    'time_to_fix': ['median', 'size']\n",
    "})"
   ]
  },
  {
   "cell_type": "markdown",
   "id": "d1cf1865",
   "metadata": {},
   "source": [
    "## Seems weird that NYPD time-to-close is so fast. Can we break that down by complaint type?\n",
    "\n",
    "Remember the order: \n",
    "\n",
    "1. Filter\n",
    "2. Group\n",
    "3. Grab a column\n",
    "4. Do something with it\n",
    "5. Sort"
   ]
  },
  {
   "cell_type": "code",
   "execution_count": 102,
   "id": "11c4f90f",
   "metadata": {},
   "outputs": [
    {
     "data": {
      "text/plain": [
       "complaint_type\n",
       "Illegal Fireworks               5085.5\n",
       "Noise - Vehicle                 5936.0\n",
       "Traffic                         6653.0\n",
       "Noise - House of Worship        6922.0\n",
       "Bike/Roller/Skate Chronic       7132.0\n",
       "Noise - Commercial              7257.0\n",
       "Noise - Park                    7323.0\n",
       "Noise - Street/Sidewalk         7443.0\n",
       "Non-Emergency Police Matter     8554.0\n",
       "Drinking                        8573.5\n",
       "Urinating in Public             8587.0\n",
       "Noise - Residential             8829.5\n",
       "Vending                         8959.5\n",
       "Panhandling                     9034.0\n",
       "Disorderly Youth                9820.0\n",
       "Homeless Encampment             9855.0\n",
       "Illegal Parking                 9936.0\n",
       "Graffiti                       10266.0\n",
       "Blocked Driveway               11287.0\n",
       "Posting Advertisement          11502.5\n",
       "Drug Activity                  11631.0\n",
       "Animal Abuse                   11855.5\n",
       "Derelict Vehicle               13352.0\n",
       "Name: time_to_fix, dtype: float64"
      ]
     },
     "execution_count": 102,
     "metadata": {},
     "output_type": "execute_result"
    }
   ],
   "source": [
    "df[df.agency =='NYPD'].groupby(by='complaint_type').time_to_fix.median().sort_values()\n",
    "\n"
   ]
  },
  {
   "cell_type": "markdown",
   "id": "c5b5caf5",
   "metadata": {},
   "source": [
    "## Back to median fix time for all agencies: do these values change based on the borough?\n",
    "\n",
    "First, use `groupby` to get the median time to fix per agency in each borough. You can use something like `pd.set_option(\"display.max_rows\", 200)` if you can't see all of the results by default!"
   ]
  },
  {
   "cell_type": "code",
   "execution_count": 104,
   "id": "0da1a9f5",
   "metadata": {},
   "outputs": [
    {
     "data": {
      "text/html": [
       "<div>\n",
       "<style scoped>\n",
       "    .dataframe tbody tr th:only-of-type {\n",
       "        vertical-align: middle;\n",
       "    }\n",
       "\n",
       "    .dataframe tbody tr th {\n",
       "        vertical-align: top;\n",
       "    }\n",
       "\n",
       "    .dataframe thead th {\n",
       "        text-align: right;\n",
       "    }\n",
       "</style>\n",
       "<table border=\"1\" class=\"dataframe\">\n",
       "  <thead>\n",
       "    <tr style=\"text-align: right;\">\n",
       "      <th></th>\n",
       "      <th>unique_key</th>\n",
       "      <th>created_date</th>\n",
       "      <th>closed_date</th>\n",
       "      <th>agency</th>\n",
       "      <th>agency_name</th>\n",
       "      <th>complaint_type</th>\n",
       "      <th>descriptor</th>\n",
       "      <th>location_type</th>\n",
       "      <th>incident_zip</th>\n",
       "      <th>incident_address</th>\n",
       "      <th>address_type</th>\n",
       "      <th>city</th>\n",
       "      <th>status</th>\n",
       "      <th>borough</th>\n",
       "      <th>open_data_channel_type</th>\n",
       "      <th>create_date_dtime</th>\n",
       "      <th>closed_date_dtime</th>\n",
       "      <th>time_to_fix</th>\n",
       "    </tr>\n",
       "  </thead>\n",
       "  <tbody>\n",
       "    <tr>\n",
       "      <th>0</th>\n",
       "      <td>41694420</td>\n",
       "      <td>01/27/2019 07:26:21 PM</td>\n",
       "      <td>02/13/2019 10:53:25 AM</td>\n",
       "      <td>HPD</td>\n",
       "      <td>Department of Housing Preservation and Develop...</td>\n",
       "      <td>GENERAL</td>\n",
       "      <td>BELL/BUZZER/INTERCOM</td>\n",
       "      <td>RESIDENTIAL BUILDING</td>\n",
       "      <td>11216</td>\n",
       "      <td>30 MAC DONOUGH STREET</td>\n",
       "      <td>ADDRESS</td>\n",
       "      <td>BROOKLYN</td>\n",
       "      <td>Closed</td>\n",
       "      <td>BROOKLYN</td>\n",
       "      <td>PHONE</td>\n",
       "      <td>2019-01-27 19:26:21</td>\n",
       "      <td>2019-02-13 10:53:25</td>\n",
       "      <td>1438024.0</td>\n",
       "    </tr>\n",
       "    <tr>\n",
       "      <th>1</th>\n",
       "      <td>41694421</td>\n",
       "      <td>01/29/2019 11:06:56 AM</td>\n",
       "      <td>02/13/2019 02:07:22 AM</td>\n",
       "      <td>HPD</td>\n",
       "      <td>Department of Housing Preservation and Develop...</td>\n",
       "      <td>PAINT/PLASTER</td>\n",
       "      <td>CEILING</td>\n",
       "      <td>RESIDENTIAL BUILDING</td>\n",
       "      <td>10453</td>\n",
       "      <td>30 RICHMAN PLAZA</td>\n",
       "      <td>ADDRESS</td>\n",
       "      <td>BRONX</td>\n",
       "      <td>Closed</td>\n",
       "      <td>BRONX</td>\n",
       "      <td>PHONE</td>\n",
       "      <td>2019-01-29 11:06:56</td>\n",
       "      <td>2019-02-13 02:07:22</td>\n",
       "      <td>1263626.0</td>\n",
       "    </tr>\n",
       "    <tr>\n",
       "      <th>2</th>\n",
       "      <td>41694422</td>\n",
       "      <td>02/13/2019 12:28:18 PM</td>\n",
       "      <td>03/15/2019 09:54:50 AM</td>\n",
       "      <td>DOF</td>\n",
       "      <td>External Affairs Unit</td>\n",
       "      <td>DOF Property - Payment Issue</td>\n",
       "      <td>Bill Received in Error</td>\n",
       "      <td>Property Address</td>\n",
       "      <td>11412</td>\n",
       "      <td>120-25 200 STREET</td>\n",
       "      <td>ADDRESS</td>\n",
       "      <td>SAINT ALBANS</td>\n",
       "      <td>Closed</td>\n",
       "      <td>QUEENS</td>\n",
       "      <td>PHONE</td>\n",
       "      <td>2019-02-13 12:28:18</td>\n",
       "      <td>2019-03-15 09:54:50</td>\n",
       "      <td>2582792.0</td>\n",
       "    </tr>\n",
       "    <tr>\n",
       "      <th>3</th>\n",
       "      <td>41694423</td>\n",
       "      <td>02/13/2019 03:40:19 PM</td>\n",
       "      <td>02/20/2019 06:18:35 AM</td>\n",
       "      <td>DOT</td>\n",
       "      <td>Department of Transportation</td>\n",
       "      <td>Broken Parking Meter</td>\n",
       "      <td>Out of Order</td>\n",
       "      <td>Street</td>\n",
       "      <td>11377</td>\n",
       "      <td>NaN</td>\n",
       "      <td>INTERSECTION</td>\n",
       "      <td>WOODSIDE</td>\n",
       "      <td>Closed</td>\n",
       "      <td>QUEENS</td>\n",
       "      <td>PHONE</td>\n",
       "      <td>2019-02-13 15:40:19</td>\n",
       "      <td>2019-02-20 06:18:35</td>\n",
       "      <td>571096.0</td>\n",
       "    </tr>\n",
       "    <tr>\n",
       "      <th>4</th>\n",
       "      <td>41694424</td>\n",
       "      <td>02/13/2019 01:18:31 PM</td>\n",
       "      <td>02/20/2019 05:36:54 AM</td>\n",
       "      <td>DOT</td>\n",
       "      <td>Department of Transportation</td>\n",
       "      <td>Broken Parking Meter</td>\n",
       "      <td>Out of Order</td>\n",
       "      <td>Street</td>\n",
       "      <td>10461</td>\n",
       "      <td>1082 MORRIS PARK AVENUE</td>\n",
       "      <td>ADDRESS</td>\n",
       "      <td>BRONX</td>\n",
       "      <td>Closed</td>\n",
       "      <td>BRONX</td>\n",
       "      <td>PHONE</td>\n",
       "      <td>2019-02-13 13:18:31</td>\n",
       "      <td>2019-02-20 05:36:54</td>\n",
       "      <td>577103.0</td>\n",
       "    </tr>\n",
       "  </tbody>\n",
       "</table>\n",
       "</div>"
      ],
      "text/plain": [
       "   unique_key            created_date             closed_date agency  \\\n",
       "0    41694420  01/27/2019 07:26:21 PM  02/13/2019 10:53:25 AM    HPD   \n",
       "1    41694421  01/29/2019 11:06:56 AM  02/13/2019 02:07:22 AM    HPD   \n",
       "2    41694422  02/13/2019 12:28:18 PM  03/15/2019 09:54:50 AM    DOF   \n",
       "3    41694423  02/13/2019 03:40:19 PM  02/20/2019 06:18:35 AM    DOT   \n",
       "4    41694424  02/13/2019 01:18:31 PM  02/20/2019 05:36:54 AM    DOT   \n",
       "\n",
       "                                         agency_name  \\\n",
       "0  Department of Housing Preservation and Develop...   \n",
       "1  Department of Housing Preservation and Develop...   \n",
       "2                              External Affairs Unit   \n",
       "3                       Department of Transportation   \n",
       "4                       Department of Transportation   \n",
       "\n",
       "                 complaint_type              descriptor         location_type  \\\n",
       "0                       GENERAL    BELL/BUZZER/INTERCOM  RESIDENTIAL BUILDING   \n",
       "1                 PAINT/PLASTER                 CEILING  RESIDENTIAL BUILDING   \n",
       "2  DOF Property - Payment Issue  Bill Received in Error      Property Address   \n",
       "3          Broken Parking Meter            Out of Order                Street   \n",
       "4          Broken Parking Meter            Out of Order                Street   \n",
       "\n",
       "  incident_zip         incident_address  address_type          city  status  \\\n",
       "0        11216    30 MAC DONOUGH STREET       ADDRESS      BROOKLYN  Closed   \n",
       "1        10453         30 RICHMAN PLAZA       ADDRESS         BRONX  Closed   \n",
       "2        11412        120-25 200 STREET       ADDRESS  SAINT ALBANS  Closed   \n",
       "3        11377                      NaN  INTERSECTION      WOODSIDE  Closed   \n",
       "4        10461  1082 MORRIS PARK AVENUE       ADDRESS         BRONX  Closed   \n",
       "\n",
       "    borough open_data_channel_type   create_date_dtime   closed_date_dtime  \\\n",
       "0  BROOKLYN                  PHONE 2019-01-27 19:26:21 2019-02-13 10:53:25   \n",
       "1     BRONX                  PHONE 2019-01-29 11:06:56 2019-02-13 02:07:22   \n",
       "2    QUEENS                  PHONE 2019-02-13 12:28:18 2019-03-15 09:54:50   \n",
       "3    QUEENS                  PHONE 2019-02-13 15:40:19 2019-02-20 06:18:35   \n",
       "4     BRONX                  PHONE 2019-02-13 13:18:31 2019-02-20 05:36:54   \n",
       "\n",
       "   time_to_fix  \n",
       "0    1438024.0  \n",
       "1    1263626.0  \n",
       "2    2582792.0  \n",
       "3     571096.0  \n",
       "4     577103.0  "
      ]
     },
     "execution_count": 104,
     "metadata": {},
     "output_type": "execute_result"
    }
   ],
   "source": [
    "df.head()"
   ]
  },
  {
   "cell_type": "code",
   "execution_count": 110,
   "id": "4525d028",
   "metadata": {},
   "outputs": [
    {
     "data": {
      "text/plain": [
       "agency\n",
       "DHS         4943.0\n",
       "DOT         8541.5\n",
       "NYPD       13570.0\n",
       "DEP        71310.0\n",
       "DSNY      157230.0\n",
       "DOHMH     172800.0\n",
       "DOE       270395.0\n",
       "DCA       336461.0\n",
       "DPR       397220.0\n",
       "HPD       590218.0\n",
       "DOB       984131.5\n",
       "DOF      1043827.0\n",
       "DFTA     1109447.0\n",
       "DOITT    1266807.0\n",
       "EDC      2541477.0\n",
       "TLC      4039543.5\n",
       "Name: time_to_fix, dtype: float64"
      ]
     },
     "execution_count": 110,
     "metadata": {},
     "output_type": "execute_result"
    }
   ],
   "source": [
    "pd.set_option(\"display.max_rows\", 200)\n",
    "\n",
    "\n",
    "# borough\n",
    "# Unspecified       58957.0\n",
    "# QUEENS            85680.0\n",
    "# MANHATTAN        102906.0\n",
    "# BROOKLYN         113220.0\n",
    "# STATEN ISLAND    140220.0\n",
    "# BRONX            180862.0\n",
    "\n",
    "df[df.borough =='QUEENS'].groupby(by='agency').time_to_fix.median().sort_values()\n",
    "df[df.borough =='MANHATTAN'].groupby(by='agency').time_to_fix.median().sort_values()\n",
    "df[df.borough =='BROOKLYN'].groupby(by='agency').time_to_fix.median().sort_values()\n",
    "df[df.borough =='STATEN ISLAND'].groupby(by='agency').time_to_fix.median().sort_values()\n",
    "df[df.borough =='BRONX'].groupby(by='agency').time_to_fix.median().sort_values()\n"
   ]
  },
  {
   "cell_type": "markdown",
   "id": "04727585",
   "metadata": {},
   "source": [
    "### Or, use another technique!"
   ]
  },
  {
   "cell_type": "markdown",
   "id": "be7a8f72",
   "metadata": {},
   "source": [
    "We talked about pivot table for a hot second in class, but it's (potentially) a good fit for this situation:\n",
    "\n",
    "```python\n",
    "df.pivot_table(\n",
    "    columns='what will show up as your columns',\n",
    "    index='what will show up as your rows',\n",
    "    values='the column that will show up in each cell',\n",
    "    aggfunc='the calculation(s) you want dont'\n",
    ")\n",
    "```"
   ]
  },
  {
   "cell_type": "code",
   "execution_count": 140,
   "id": "bcd98dc1",
   "metadata": {},
   "outputs": [
    {
     "data": {
      "text/html": [
       "<div>\n",
       "<style scoped>\n",
       "    .dataframe tbody tr th:only-of-type {\n",
       "        vertical-align: middle;\n",
       "    }\n",
       "\n",
       "    .dataframe tbody tr th {\n",
       "        vertical-align: top;\n",
       "    }\n",
       "\n",
       "    .dataframe thead th {\n",
       "        text-align: right;\n",
       "    }\n",
       "</style>\n",
       "<table border=\"1\" class=\"dataframe\">\n",
       "  <thead>\n",
       "    <tr style=\"text-align: right;\">\n",
       "      <th>borough</th>\n",
       "      <th>bronx</th>\n",
       "      <th>brooklyn</th>\n",
       "      <th>manhattan</th>\n",
       "      <th>queens</th>\n",
       "      <th>staten_island</th>\n",
       "      <th>unspecified</th>\n",
       "    </tr>\n",
       "    <tr>\n",
       "      <th>agency</th>\n",
       "      <th></th>\n",
       "      <th></th>\n",
       "      <th></th>\n",
       "      <th></th>\n",
       "      <th></th>\n",
       "      <th></th>\n",
       "    </tr>\n",
       "  </thead>\n",
       "  <tbody>\n",
       "    <tr>\n",
       "      <th>DCA</th>\n",
       "      <td>336461.0</td>\n",
       "      <td>264653.5</td>\n",
       "      <td>243714.0</td>\n",
       "      <td>332825.0</td>\n",
       "      <td>318603.0</td>\n",
       "      <td>1334579.0</td>\n",
       "    </tr>\n",
       "    <tr>\n",
       "      <th>DEP</th>\n",
       "      <td>71310.0</td>\n",
       "      <td>72960.0</td>\n",
       "      <td>107730.0</td>\n",
       "      <td>74280.0</td>\n",
       "      <td>67650.0</td>\n",
       "      <td>25920.0</td>\n",
       "    </tr>\n",
       "    <tr>\n",
       "      <th>DFTA</th>\n",
       "      <td>1109447.0</td>\n",
       "      <td>1057959.0</td>\n",
       "      <td>1048982.0</td>\n",
       "      <td>1061454.0</td>\n",
       "      <td>1127806.5</td>\n",
       "      <td>658802.0</td>\n",
       "    </tr>\n",
       "    <tr>\n",
       "      <th>DHS</th>\n",
       "      <td>4943.0</td>\n",
       "      <td>5943.0</td>\n",
       "      <td>4122.0</td>\n",
       "      <td>3056.0</td>\n",
       "      <td>15357.5</td>\n",
       "      <td>NaN</td>\n",
       "    </tr>\n",
       "    <tr>\n",
       "      <th>DOB</th>\n",
       "      <td>984131.5</td>\n",
       "      <td>718830.0</td>\n",
       "      <td>732887.0</td>\n",
       "      <td>475092.0</td>\n",
       "      <td>123279.0</td>\n",
       "      <td>NaN</td>\n",
       "    </tr>\n",
       "    <tr>\n",
       "      <th>DOE</th>\n",
       "      <td>270395.0</td>\n",
       "      <td>234686.0</td>\n",
       "      <td>342560.0</td>\n",
       "      <td>442140.5</td>\n",
       "      <td>621403.0</td>\n",
       "      <td>1013794.0</td>\n",
       "    </tr>\n",
       "    <tr>\n",
       "      <th>DOF</th>\n",
       "      <td>1043827.0</td>\n",
       "      <td>959917.0</td>\n",
       "      <td>817022.5</td>\n",
       "      <td>939463.5</td>\n",
       "      <td>947003.0</td>\n",
       "      <td>NaN</td>\n",
       "    </tr>\n",
       "    <tr>\n",
       "      <th>DOHMH</th>\n",
       "      <td>172800.0</td>\n",
       "      <td>345600.0</td>\n",
       "      <td>259200.0</td>\n",
       "      <td>432000.0</td>\n",
       "      <td>604800.0</td>\n",
       "      <td>1357439.0</td>\n",
       "    </tr>\n",
       "    <tr>\n",
       "      <th>DOITT</th>\n",
       "      <td>1266807.0</td>\n",
       "      <td>1202002.0</td>\n",
       "      <td>1230258.0</td>\n",
       "      <td>1384666.5</td>\n",
       "      <td>1547226.0</td>\n",
       "      <td>NaN</td>\n",
       "    </tr>\n",
       "    <tr>\n",
       "      <th>DOT</th>\n",
       "      <td>8541.5</td>\n",
       "      <td>75667.0</td>\n",
       "      <td>70612.0</td>\n",
       "      <td>81829.5</td>\n",
       "      <td>99837.5</td>\n",
       "      <td>46141.5</td>\n",
       "    </tr>\n",
       "    <tr>\n",
       "      <th>DPR</th>\n",
       "      <td>397220.0</td>\n",
       "      <td>351130.0</td>\n",
       "      <td>248423.0</td>\n",
       "      <td>174567.5</td>\n",
       "      <td>189280.0</td>\n",
       "      <td>227647.0</td>\n",
       "    </tr>\n",
       "    <tr>\n",
       "      <th>DSNY</th>\n",
       "      <td>157230.0</td>\n",
       "      <td>205080.0</td>\n",
       "      <td>182820.0</td>\n",
       "      <td>265920.0</td>\n",
       "      <td>186660.0</td>\n",
       "      <td>580080.0</td>\n",
       "    </tr>\n",
       "    <tr>\n",
       "      <th>EDC</th>\n",
       "      <td>2541477.0</td>\n",
       "      <td>1726078.0</td>\n",
       "      <td>1639831.0</td>\n",
       "      <td>1603847.0</td>\n",
       "      <td>1550315.5</td>\n",
       "      <td>NaN</td>\n",
       "    </tr>\n",
       "    <tr>\n",
       "      <th>HPD</th>\n",
       "      <td>590218.0</td>\n",
       "      <td>448566.0</td>\n",
       "      <td>607492.0</td>\n",
       "      <td>510723.0</td>\n",
       "      <td>1027698.0</td>\n",
       "      <td>NaN</td>\n",
       "    </tr>\n",
       "    <tr>\n",
       "      <th>NYPD</th>\n",
       "      <td>13570.0</td>\n",
       "      <td>9198.0</td>\n",
       "      <td>6800.0</td>\n",
       "      <td>9146.5</td>\n",
       "      <td>9299.0</td>\n",
       "      <td>12392.0</td>\n",
       "    </tr>\n",
       "    <tr>\n",
       "      <th>TLC</th>\n",
       "      <td>4039543.5</td>\n",
       "      <td>3644861.0</td>\n",
       "      <td>4163023.0</td>\n",
       "      <td>3335456.0</td>\n",
       "      <td>3979970.0</td>\n",
       "      <td>1778973.0</td>\n",
       "    </tr>\n",
       "  </tbody>\n",
       "</table>\n",
       "</div>"
      ],
      "text/plain": [
       "borough      bronx   brooklyn  manhattan     queens  staten_island  \\\n",
       "agency                                                               \n",
       "DCA       336461.0   264653.5   243714.0   332825.0       318603.0   \n",
       "DEP        71310.0    72960.0   107730.0    74280.0        67650.0   \n",
       "DFTA     1109447.0  1057959.0  1048982.0  1061454.0      1127806.5   \n",
       "DHS         4943.0     5943.0     4122.0     3056.0        15357.5   \n",
       "DOB       984131.5   718830.0   732887.0   475092.0       123279.0   \n",
       "DOE       270395.0   234686.0   342560.0   442140.5       621403.0   \n",
       "DOF      1043827.0   959917.0   817022.5   939463.5       947003.0   \n",
       "DOHMH     172800.0   345600.0   259200.0   432000.0       604800.0   \n",
       "DOITT    1266807.0  1202002.0  1230258.0  1384666.5      1547226.0   \n",
       "DOT         8541.5    75667.0    70612.0    81829.5        99837.5   \n",
       "DPR       397220.0   351130.0   248423.0   174567.5       189280.0   \n",
       "DSNY      157230.0   205080.0   182820.0   265920.0       186660.0   \n",
       "EDC      2541477.0  1726078.0  1639831.0  1603847.0      1550315.5   \n",
       "HPD       590218.0   448566.0   607492.0   510723.0      1027698.0   \n",
       "NYPD       13570.0     9198.0     6800.0     9146.5         9299.0   \n",
       "TLC      4039543.5  3644861.0  4163023.0  3335456.0      3979970.0   \n",
       "\n",
       "borough  unspecified  \n",
       "agency                \n",
       "DCA        1334579.0  \n",
       "DEP          25920.0  \n",
       "DFTA        658802.0  \n",
       "DHS              NaN  \n",
       "DOB              NaN  \n",
       "DOE        1013794.0  \n",
       "DOF              NaN  \n",
       "DOHMH      1357439.0  \n",
       "DOITT            NaN  \n",
       "DOT          46141.5  \n",
       "DPR         227647.0  \n",
       "DSNY        580080.0  \n",
       "EDC              NaN  \n",
       "HPD              NaN  \n",
       "NYPD         12392.0  \n",
       "TLC        1778973.0  "
      ]
     },
     "execution_count": 140,
     "metadata": {},
     "output_type": "execute_result"
    }
   ],
   "source": [
    "\n",
    "boro_pivot = df.pivot_table(\n",
    "    columns='borough',\n",
    "    index='agency',\n",
    "    values='time_to_fix',\n",
    "    aggfunc='median'\n",
    ")\n",
    "\n",
    "\n",
    "boro_pivot.columns = boro_pivot.columns.str.lower().str.replace(\" \", \"_\")\n",
    "\n",
    "boro_pivot"
   ]
  },
  {
   "cell_type": "markdown",
   "id": "01d10369",
   "metadata": {},
   "source": [
    "### Use the pivot table result to find the worst-performing agency in the Bronx, then compare with Staten Island\n",
    "\n",
    "Since it's a dataframe, you can use the power of `.sort_values` (twice!). Do any of the agencies have a large difference between the two?"
   ]
  },
  {
   "cell_type": "code",
   "execution_count": 144,
   "id": "e09a49d8",
   "metadata": {},
   "outputs": [
    {
     "data": {
      "text/plain": [
       "agency\n",
       "TLC      3979970.0\n",
       "EDC      1550315.5\n",
       "DOITT    1547226.0\n",
       "DFTA     1127806.5\n",
       "HPD      1027698.0\n",
       "DOF       947003.0\n",
       "DOE       621403.0\n",
       "DOHMH     604800.0\n",
       "DCA       318603.0\n",
       "DPR       189280.0\n",
       "DSNY      186660.0\n",
       "DOB       123279.0\n",
       "DOT        99837.5\n",
       "DEP        67650.0\n",
       "DHS        15357.5\n",
       "NYPD        9299.0\n",
       "Name: staten_island, dtype: float64"
      ]
     },
     "execution_count": 144,
     "metadata": {},
     "output_type": "execute_result"
    }
   ],
   "source": [
    "boro_pivot.staten_island.sort_values(ascending =False)"
   ]
  },
  {
   "cell_type": "code",
   "execution_count": 145,
   "id": "f09a730c",
   "metadata": {},
   "outputs": [
    {
     "data": {
      "text/plain": [
       "agency\n",
       "TLC      4039543.5\n",
       "EDC      2541477.0\n",
       "DOITT    1266807.0\n",
       "DFTA     1109447.0\n",
       "DOF      1043827.0\n",
       "DOB       984131.5\n",
       "HPD       590218.0\n",
       "DPR       397220.0\n",
       "DCA       336461.0\n",
       "DOE       270395.0\n",
       "DOHMH     172800.0\n",
       "DSNY      157230.0\n",
       "DEP        71310.0\n",
       "NYPD       13570.0\n",
       "DOT         8541.5\n",
       "DHS         4943.0\n",
       "Name: bronx, dtype: float64"
      ]
     },
     "execution_count": 145,
     "metadata": {},
     "output_type": "execute_result"
    }
   ],
   "source": [
    "boro_pivot.bronx.sort_values(ascending =False)"
   ]
  },
  {
   "cell_type": "markdown",
   "id": "ce6c5d0b",
   "metadata": {},
   "source": [
    "## What were the top ten 311 types of complaints on Thanksgiving 2020? Are they different than the day before Thanksgiving?\n",
    "\n",
    "**Finding exact dates is awful, honestly.** While you can do something like this to ask for rows after a specific date:\n",
    "\n",
    "```python\n",
    "df[df.date_column >= '2020-01-01']\n",
    "```\n",
    "\n",
    "You, for some reason, can't ask for an **exact match** unless you're really looking for exactly at midnight. For example, this won't give you what you want:\n",
    "\n",
    "```python\n",
    "df[df.date_column == '2020-01-01']\n",
    "```\n",
    "\n",
    "Instead, the thing you need to do is this:\n",
    "\n",
    "```python\n",
    "df[(df.date_column >= '2020-01-01') & (df.date_column < '2020-01-02']\n",
    "```\n",
    "\n",
    "Everything that starts at midnight on the 1st but *is still less than midnight on the 2nd**."
   ]
  },
  {
   "cell_type": "code",
   "execution_count": null,
   "id": "06d34c92",
   "metadata": {},
   "outputs": [],
   "source": [
    "# Here I assume these codes below work if I read the whole .csv file (I removed some rows below already)"
   ]
  },
  {
   "cell_type": "code",
   "execution_count": 146,
   "id": "e6882c87",
   "metadata": {},
   "outputs": [
    {
     "data": {
      "text/plain": [
       "Series([], Name: complaint_type, dtype: int64)"
      ]
     },
     "execution_count": 146,
     "metadata": {},
     "output_type": "execute_result"
    }
   ],
   "source": [
    "df[(df.create_date_dtime >= '2020-11-26') & (df.create_date_dtime < '2020-11-27')].complaint_type.value_counts().head(3)"
   ]
  },
  {
   "cell_type": "code",
   "execution_count": 147,
   "id": "5f52efcc",
   "metadata": {},
   "outputs": [
    {
     "data": {
      "text/plain": [
       "Series([], Name: complaint_type, dtype: int64)"
      ]
     },
     "execution_count": 147,
     "metadata": {},
     "output_type": "execute_result"
    }
   ],
   "source": [
    "df[(df.create_date_dtime >= '2020-11-25') & (df.create_date_dtime < '2020-11-26')].complaint_type.value_counts().head(3)"
   ]
  },
  {
   "cell_type": "markdown",
   "id": "db27701d",
   "metadata": {},
   "source": [
    "## What is the most common 311 complaint types on Christmas day?\n",
    "\n",
    "And I mean *all Christmas days*, not just in certain years)\n",
    "\n",
    "* Tip: `dt.` and `&` are going to be your friend here\n",
    "* Tip: If you want to get fancy you can look up `strftime`\n",
    "* Tip: One of those is much much faster than the other"
   ]
  },
  {
   "cell_type": "code",
   "execution_count": 152,
   "id": "4b935a41",
   "metadata": {},
   "outputs": [
    {
     "data": {
      "text/html": [
       "<div>\n",
       "<style scoped>\n",
       "    .dataframe tbody tr th:only-of-type {\n",
       "        vertical-align: middle;\n",
       "    }\n",
       "\n",
       "    .dataframe tbody tr th {\n",
       "        vertical-align: top;\n",
       "    }\n",
       "\n",
       "    .dataframe thead th {\n",
       "        text-align: right;\n",
       "    }\n",
       "</style>\n",
       "<table border=\"1\" class=\"dataframe\">\n",
       "  <thead>\n",
       "    <tr style=\"text-align: right;\">\n",
       "      <th></th>\n",
       "      <th>unique_key</th>\n",
       "      <th>created_date</th>\n",
       "      <th>closed_date</th>\n",
       "      <th>agency</th>\n",
       "      <th>agency_name</th>\n",
       "      <th>complaint_type</th>\n",
       "      <th>descriptor</th>\n",
       "      <th>location_type</th>\n",
       "      <th>incident_zip</th>\n",
       "      <th>incident_address</th>\n",
       "      <th>address_type</th>\n",
       "      <th>city</th>\n",
       "      <th>status</th>\n",
       "      <th>borough</th>\n",
       "      <th>open_data_channel_type</th>\n",
       "      <th>create_date_dtime</th>\n",
       "      <th>closed_date_dtime</th>\n",
       "      <th>time_to_fix</th>\n",
       "      <th>date_only</th>\n",
       "    </tr>\n",
       "  </thead>\n",
       "  <tbody>\n",
       "    <tr>\n",
       "      <th>0</th>\n",
       "      <td>41694420</td>\n",
       "      <td>01/27/2019 07:26:21 PM</td>\n",
       "      <td>02/13/2019 10:53:25 AM</td>\n",
       "      <td>HPD</td>\n",
       "      <td>Department of Housing Preservation and Develop...</td>\n",
       "      <td>GENERAL</td>\n",
       "      <td>BELL/BUZZER/INTERCOM</td>\n",
       "      <td>RESIDENTIAL BUILDING</td>\n",
       "      <td>11216</td>\n",
       "      <td>30 MAC DONOUGH STREET</td>\n",
       "      <td>ADDRESS</td>\n",
       "      <td>BROOKLYN</td>\n",
       "      <td>Closed</td>\n",
       "      <td>BROOKLYN</td>\n",
       "      <td>PHONE</td>\n",
       "      <td>2019-01-27 19:26:21</td>\n",
       "      <td>2019-02-13 10:53:25</td>\n",
       "      <td>1438024.0</td>\n",
       "      <td>January27</td>\n",
       "    </tr>\n",
       "    <tr>\n",
       "      <th>1</th>\n",
       "      <td>41694421</td>\n",
       "      <td>01/29/2019 11:06:56 AM</td>\n",
       "      <td>02/13/2019 02:07:22 AM</td>\n",
       "      <td>HPD</td>\n",
       "      <td>Department of Housing Preservation and Develop...</td>\n",
       "      <td>PAINT/PLASTER</td>\n",
       "      <td>CEILING</td>\n",
       "      <td>RESIDENTIAL BUILDING</td>\n",
       "      <td>10453</td>\n",
       "      <td>30 RICHMAN PLAZA</td>\n",
       "      <td>ADDRESS</td>\n",
       "      <td>BRONX</td>\n",
       "      <td>Closed</td>\n",
       "      <td>BRONX</td>\n",
       "      <td>PHONE</td>\n",
       "      <td>2019-01-29 11:06:56</td>\n",
       "      <td>2019-02-13 02:07:22</td>\n",
       "      <td>1263626.0</td>\n",
       "      <td>January29</td>\n",
       "    </tr>\n",
       "    <tr>\n",
       "      <th>2</th>\n",
       "      <td>41694422</td>\n",
       "      <td>02/13/2019 12:28:18 PM</td>\n",
       "      <td>03/15/2019 09:54:50 AM</td>\n",
       "      <td>DOF</td>\n",
       "      <td>External Affairs Unit</td>\n",
       "      <td>DOF Property - Payment Issue</td>\n",
       "      <td>Bill Received in Error</td>\n",
       "      <td>Property Address</td>\n",
       "      <td>11412</td>\n",
       "      <td>120-25 200 STREET</td>\n",
       "      <td>ADDRESS</td>\n",
       "      <td>SAINT ALBANS</td>\n",
       "      <td>Closed</td>\n",
       "      <td>QUEENS</td>\n",
       "      <td>PHONE</td>\n",
       "      <td>2019-02-13 12:28:18</td>\n",
       "      <td>2019-03-15 09:54:50</td>\n",
       "      <td>2582792.0</td>\n",
       "      <td>February13</td>\n",
       "    </tr>\n",
       "    <tr>\n",
       "      <th>3</th>\n",
       "      <td>41694423</td>\n",
       "      <td>02/13/2019 03:40:19 PM</td>\n",
       "      <td>02/20/2019 06:18:35 AM</td>\n",
       "      <td>DOT</td>\n",
       "      <td>Department of Transportation</td>\n",
       "      <td>Broken Parking Meter</td>\n",
       "      <td>Out of Order</td>\n",
       "      <td>Street</td>\n",
       "      <td>11377</td>\n",
       "      <td>NaN</td>\n",
       "      <td>INTERSECTION</td>\n",
       "      <td>WOODSIDE</td>\n",
       "      <td>Closed</td>\n",
       "      <td>QUEENS</td>\n",
       "      <td>PHONE</td>\n",
       "      <td>2019-02-13 15:40:19</td>\n",
       "      <td>2019-02-20 06:18:35</td>\n",
       "      <td>571096.0</td>\n",
       "      <td>February13</td>\n",
       "    </tr>\n",
       "    <tr>\n",
       "      <th>4</th>\n",
       "      <td>41694424</td>\n",
       "      <td>02/13/2019 01:18:31 PM</td>\n",
       "      <td>02/20/2019 05:36:54 AM</td>\n",
       "      <td>DOT</td>\n",
       "      <td>Department of Transportation</td>\n",
       "      <td>Broken Parking Meter</td>\n",
       "      <td>Out of Order</td>\n",
       "      <td>Street</td>\n",
       "      <td>10461</td>\n",
       "      <td>1082 MORRIS PARK AVENUE</td>\n",
       "      <td>ADDRESS</td>\n",
       "      <td>BRONX</td>\n",
       "      <td>Closed</td>\n",
       "      <td>BRONX</td>\n",
       "      <td>PHONE</td>\n",
       "      <td>2019-02-13 13:18:31</td>\n",
       "      <td>2019-02-20 05:36:54</td>\n",
       "      <td>577103.0</td>\n",
       "      <td>February13</td>\n",
       "    </tr>\n",
       "  </tbody>\n",
       "</table>\n",
       "</div>"
      ],
      "text/plain": [
       "   unique_key            created_date             closed_date agency  \\\n",
       "0    41694420  01/27/2019 07:26:21 PM  02/13/2019 10:53:25 AM    HPD   \n",
       "1    41694421  01/29/2019 11:06:56 AM  02/13/2019 02:07:22 AM    HPD   \n",
       "2    41694422  02/13/2019 12:28:18 PM  03/15/2019 09:54:50 AM    DOF   \n",
       "3    41694423  02/13/2019 03:40:19 PM  02/20/2019 06:18:35 AM    DOT   \n",
       "4    41694424  02/13/2019 01:18:31 PM  02/20/2019 05:36:54 AM    DOT   \n",
       "\n",
       "                                         agency_name  \\\n",
       "0  Department of Housing Preservation and Develop...   \n",
       "1  Department of Housing Preservation and Develop...   \n",
       "2                              External Affairs Unit   \n",
       "3                       Department of Transportation   \n",
       "4                       Department of Transportation   \n",
       "\n",
       "                 complaint_type              descriptor         location_type  \\\n",
       "0                       GENERAL    BELL/BUZZER/INTERCOM  RESIDENTIAL BUILDING   \n",
       "1                 PAINT/PLASTER                 CEILING  RESIDENTIAL BUILDING   \n",
       "2  DOF Property - Payment Issue  Bill Received in Error      Property Address   \n",
       "3          Broken Parking Meter            Out of Order                Street   \n",
       "4          Broken Parking Meter            Out of Order                Street   \n",
       "\n",
       "  incident_zip         incident_address  address_type          city  status  \\\n",
       "0        11216    30 MAC DONOUGH STREET       ADDRESS      BROOKLYN  Closed   \n",
       "1        10453         30 RICHMAN PLAZA       ADDRESS         BRONX  Closed   \n",
       "2        11412        120-25 200 STREET       ADDRESS  SAINT ALBANS  Closed   \n",
       "3        11377                      NaN  INTERSECTION      WOODSIDE  Closed   \n",
       "4        10461  1082 MORRIS PARK AVENUE       ADDRESS         BRONX  Closed   \n",
       "\n",
       "    borough open_data_channel_type   create_date_dtime   closed_date_dtime  \\\n",
       "0  BROOKLYN                  PHONE 2019-01-27 19:26:21 2019-02-13 10:53:25   \n",
       "1     BRONX                  PHONE 2019-01-29 11:06:56 2019-02-13 02:07:22   \n",
       "2    QUEENS                  PHONE 2019-02-13 12:28:18 2019-03-15 09:54:50   \n",
       "3    QUEENS                  PHONE 2019-02-13 15:40:19 2019-02-20 06:18:35   \n",
       "4     BRONX                  PHONE 2019-02-13 13:18:31 2019-02-20 05:36:54   \n",
       "\n",
       "   time_to_fix   date_only  \n",
       "0    1438024.0   January27  \n",
       "1    1263626.0   January29  \n",
       "2    2582792.0  February13  \n",
       "3     571096.0  February13  \n",
       "4     577103.0  February13  "
      ]
     },
     "execution_count": 152,
     "metadata": {},
     "output_type": "execute_result"
    }
   ],
   "source": [
    "df['date_only'] = df.create_date_dtime.dt.strftime(\"%B%d\")"
   ]
  },
  {
   "cell_type": "code",
   "execution_count": 158,
   "id": "3d6c81e3",
   "metadata": {},
   "outputs": [
    {
     "data": {
      "text/plain": [
       "Elevator - Single Device On Property/No Alternate Service    21\n",
       "Elevator - Multiple Devices On Property                      14\n",
       "SLOW LEAK                                                     5\n",
       "PESTS                                                         5\n",
       "Building Shaking/Vibrating/Structural Stability               4\n",
       "OUTLET/SWITCH                                                 3\n",
       "WALL                                                          3\n",
       "GARBAGE/RECYCLING STORAGE                                     3\n",
       "BATHTUB/SHOWER                                                2\n",
       "BELL/BUZZER/INTERCOM                                          2\n",
       "TOILET                                                        2\n",
       "CEILING                                                       2\n",
       "DAMP SPOT                                                     2\n",
       "HEAVY FLOW                                                    2\n",
       "DOOR FRAME                                                    2\n",
       "Illegal Conversion Of Residential Building/Space              1\n",
       "Debris - Falling Or In Danger Of Falling                      1\n",
       "LIGHTING                                                      1\n",
       "NO LIGHTING                                                   1\n",
       "WATER SUPPLY                                                  1\n",
       "SEWAGE                                                        1\n",
       "Building Permit - None                                        1\n",
       "Name: descriptor, dtype: int64"
      ]
     },
     "execution_count": 158,
     "metadata": {},
     "output_type": "execute_result"
    }
   ],
   "source": [
    "df[df.date_only == \"December25\"].descriptor.value_counts()"
   ]
  },
  {
   "cell_type": "markdown",
   "id": "183ca029",
   "metadata": {},
   "source": [
    "# Stories\n",
    "\n",
    "Let's approach this from the idea of **having stories and wanting to investigate them.** Fun facts:\n",
    "\n",
    "* Not all of these are reasonably answered with what our data is\n",
    "* We only have certain skills about how to analyzing the data\n",
    "* There are about six hundred approaches for each question\n",
    "\n",
    "But: **for most of these prompts there are at least a few ways you can get something interesting out of the dataset.**"
   ]
  },
  {
   "cell_type": "markdown",
   "id": "0e9f8549",
   "metadata": {},
   "source": [
    "## Fireworks and BLM\n",
    "\n",
    "You're writing a story about the anecdotal idea that the summer of the BLM protests there were an incredible number of fireworks being set off. Does the data support this?\n",
    "\n",
    "What assumptions is your analysis making? What could make your analysis fall apart?"
   ]
  },
  {
   "cell_type": "code",
   "execution_count": 187,
   "id": "0bf77a32",
   "metadata": {},
   "outputs": [
    {
     "name": "stdout",
     "output_type": "stream",
     "text": [
      "<class 'pandas.core.frame.DataFrame'>\n",
      "RangeIndex: 1000000 entries, 0 to 999999\n",
      "Data columns (total 19 columns):\n",
      " #   Column                  Non-Null Count    Dtype         \n",
      "---  ------                  --------------    -----         \n",
      " 0   unique_key              1000000 non-null  int64         \n",
      " 1   created_date            1000000 non-null  object        \n",
      " 2   closed_date             996296 non-null   object        \n",
      " 3   agency                  1000000 non-null  object        \n",
      " 4   agency_name             1000000 non-null  object        \n",
      " 5   complaint_type          1000000 non-null  object        \n",
      " 6   descriptor              995955 non-null   object        \n",
      " 7   location_type           698311 non-null   object        \n",
      " 8   incident_zip            975646 non-null   object        \n",
      " 9   incident_address        876798 non-null   object        \n",
      " 10  address_type            996949 non-null   object        \n",
      " 11  city                    975730 non-null   object        \n",
      " 12  status                  1000000 non-null  object        \n",
      " 13  borough                 999963 non-null   object        \n",
      " 14  open_data_channel_type  1000000 non-null  object        \n",
      " 15  create_date_dtime       1000000 non-null  datetime64[ns]\n",
      " 16  closed_date_dtime       996296 non-null   datetime64[ns]\n",
      " 17  time_to_fix             996296 non-null   float64       \n",
      " 18  date_only               1000000 non-null  object        \n",
      "dtypes: datetime64[ns](2), float64(1), int64(1), object(15)\n",
      "memory usage: 145.0+ MB\n"
     ]
    }
   ],
   "source": [
    "df[df.complaint_type.str.contains('fire', case=False)].complaint_type.value_counts()"
   ]
  },
  {
   "cell_type": "code",
   "execution_count": 199,
   "id": "45046a03",
   "metadata": {},
   "outputs": [
    {
     "data": {
      "text/plain": [
       "Illegal Fireworks    21\n",
       "Name: complaint_type, dtype: int64"
      ]
     },
     "execution_count": 199,
     "metadata": {},
     "output_type": "execute_result"
    }
   ],
   "source": [
    "#Assume the BLM protests intensifid after the murder of George Floyd(May 26.2020) \n",
    "## and it lasts at around three months (Aug. 26,2020)\n",
    "### Then count \"Illegal Fireworks\" in complaint_type\n",
    "\n",
    "BLM_fire = df[(df.create_date_dtime >= '2020-05-26') & (df.create_date_dtime < '2020-08-27')]\n",
    "BLM_fire[BLM_fire.complaint_type  == \"Illegal Fireworks\"].complaint_type.value_counts()\n",
    "\n",
    "# Then compares with the median data in the same period (May26 to August27)\n",
    "## convert date_only in datetime data\n",
    "\n",
    "BLM_fire = df[(df.create_date_dtime >= '2019-05-26') & (df.create_date_dtime < '2019-08-27')]\n",
    "BLM_fire[BLM_fire.complaint_type  == \"Illegal Fireworks\"].complaint_type.value_counts()\n",
    "\n",
    "# if the number of complaits about \"illegal fireworks\" between two years do not change,the anecdotes might be denied.\n",
    "##else: I would go further and find locations and time that these complaints came from and see the relation between these data\n",
    "### and the location of the protests taken place."
   ]
  },
  {
   "cell_type": "markdown",
   "id": "e48a6243",
   "metadata": {},
   "source": [
    "## Sanitation and work slowdowns\n",
    "\n",
    "The Dept of Sanitation recently had a work slowdown to protest the vaccine mandate. You'd like to write about past work slowdowns that have caused garbage to pile up in the street, streets to not be swept, etc, and compare them to the current slowdown. You've also heard rumors that it was worse in Staten Island and a few Brooklyn neighborhoods - Marine Park and Canarsie - than everywhere else.\n",
    "\n",
    "Use the data to find timeframes worth researching, and note how this slowdown might compare. Also, is there anything behind the geographic issue?\n",
    "\n",
    "What assumptions is your analysis making? What could make your analysis fall apart?"
   ]
  },
  {
   "cell_type": "code",
   "execution_count": 247,
   "id": "46a342c4",
   "metadata": {},
   "outputs": [
    {
     "data": {
      "text/plain": [
       "Series([], dtype: int64)"
      ]
     },
     "execution_count": 247,
     "metadata": {},
     "output_type": "execute_result"
    }
   ],
   "source": [
    "# I look up reports handled by DSNY and see how many complaint_type== \"Missed Collection (All Materials)\" reports filed after 2021-11-1\n",
    "## Vaccine mandate went into effect on 2021-11-1(https://abc7ny.com/nyc-sanitation-department-workers-vaccine-mandates-garbage/11188418/)\n",
    "\n",
    "DSNY_df = df[df.agency == \"DSNY\"]\n",
    "\n",
    "#Then see if there is any change a week after vaccine mandate went into effect and the same period in the previous year. \n",
    "\n",
    "DSNY_after_mandate = DSNY_df[(DSNY_df.create_date_dtime >= '2021-11-01') & (DSNY_df.create_date_dtime < '2021-11-09')]\n",
    "\n",
    "#As 2020-11-01 is Sunday when there is no gabage collection anyway, so I moved the priod a day after\n",
    "DSNY_before_mandate = DSNY_df[(DSNY_df.create_date_dtime >= '2020-11-02') & (DSNY_df.create_date_dtime < '2020-11-10')]\n",
    "\n",
    "DSNY_after_mandate[DSNY_after_mandate.complaint_type ==\"Missed Collection (All Materials)\"].value_counts()\n",
    "DSNY_before_mandate[DSNY_before_mandate.complaint_type ==\"Missed Collection (All Materials)\"].value_counts()\n",
    "\n",
    "#compare there two data"
   ]
  },
  {
   "cell_type": "markdown",
   "id": "dd929f11",
   "metadata": {},
   "source": [
    "## Gentrification and whining to the government\n",
    "\n",
    "It's said that when a neighborhood gentrifies, the people who move in are quick to report things to authorities that would previously have been ignored or dealt with on a personal basis. Use the data to investigate the concept (two techniques for finding gentrifying area are using census data and using Google).\n",
    "\n",
    "What assumptions is your analysis making? What could make your analysis fall apart? Be sure to cite your sources. "
   ]
  },
  {
   "cell_type": "code",
   "execution_count": 212,
   "id": "1df31a4a",
   "metadata": {},
   "outputs": [
    {
     "data": {
      "text/plain": [
       "11211    3966\n",
       "11222    2890\n",
       "10039    1421\n",
       "Name: incident_zip, dtype: int64"
      ]
     },
     "execution_count": 212,
     "metadata": {},
     "output_type": "execute_result"
    }
   ],
   "source": [
    "#Based on the article(https://www.rentcafe.com/blog/rental-market/real-estate-news/top-20-gentrified-zip-codes/)\n",
    "#*the article is about the study on the 2000 Census and the 2016 American Community Survey)\n",
    "## I defied these three NYC neighborhoods as most Gentrified\n",
    "### neighborhoods with zipcode 10039, 11211, 11222 (Washington Heights, Williamsburg, Greenpoint)\n",
    "### I look up the number of 311 reports and compare it over the years\n",
    "\n",
    "#First, separate the data reported between a) 2013 to 2016 and b) 2016 to 2019\n",
    "gen_df_a = df[(df.create_date_dtime >= '2013-01-01') & (df.create_date_dtime < '2016-01-01')]\n",
    "gen_df_b = df[(df.create_date_dtime >= '2016-01-01') & (df.create_date_dtime < '2020-01-01')]\n",
    "\n",
    "gen_df_a[gen_df_a.incident_zip.str.contains(\"10039|11211|11222\", na=False)].incident_zip.value_counts()\n",
    "\n",
    "# 11211    175\n",
    "# 11222    114\n",
    "# 10039     11\n",
    "\n",
    "\n",
    "gen_df_b[gen_df_b.incident_zip.str.contains(\"10039|11211|11222\", na=False)].incident_zip.value_counts()\n",
    "\n",
    "# 11211    3966\n",
    "# 11222    2890\n",
    "# 10039    1421\n",
    "\n",
    "# If there is no sifnificant increase between two periods, this story fails."
   ]
  },
  {
   "cell_type": "markdown",
   "id": "2cba95a7",
   "metadata": {},
   "source": [
    "## 311 quirks\n",
    "\n",
    "Our editor tried to submit a 311 request using the app the other day, but it didn't go through. As we all know, news is what happens to your editor! Has the 311 mobile app ever actually stopped working?\n",
    "\n",
    "If that's a dead end, maybe you can talk about the differences between the different submission avenues: could a mobile outage disproportionately impact a certain kind of complaint or agency? How about if the phone lines stopped working?\n",
    "\n",
    "What assumptions is your analysis making? What could make your analysis fall apart?"
   ]
  },
  {
   "cell_type": "code",
   "execution_count": 219,
   "id": "a9951f8c",
   "metadata": {},
   "outputs": [
    {
     "data": {
      "text/plain": [
       "open_data_channel_type  agency\n",
       "MOBILE                  NYPD      0.728314\n",
       "                        HPD       0.124783\n",
       "                        DSNY      0.053366\n",
       "                        DOT       0.037800\n",
       "                        DOHMH     0.019577\n",
       "                        DEP       0.018396\n",
       "                        DPR       0.012571\n",
       "                        DHS       0.002917\n",
       "                        TLC       0.002274\n",
       "ONLINE                  NYPD      0.405828\n",
       "                        HPD       0.298990\n",
       "                        DEP       0.116143\n",
       "                        DSNY      0.098638\n",
       "                        DOT       0.037410\n",
       "                        DOHMH     0.015915\n",
       "                        TLC       0.013857\n",
       "                        DCA       0.005508\n",
       "                        DFTA      0.002432\n",
       "                        DCAS      0.001455\n",
       "                        DOE       0.000681\n",
       "                        DVS       0.000624\n",
       "                        ACS       0.000608\n",
       "                        EDC       0.000468\n",
       "                        DOITT     0.000452\n",
       "                        TAX       0.000447\n",
       "                        DPR       0.000400\n",
       "                        DHS       0.000078\n",
       "                        DCP       0.000047\n",
       "                        COIB      0.000021\n",
       "OTHER                   DPR       0.531516\n",
       "                        DEP       0.467963\n",
       "                        TLC       0.000521\n",
       "PHONE                   HPD       0.314002\n",
       "                        DSNY      0.285574\n",
       "                        NYPD      0.230747\n",
       "                        DEP       0.082426\n",
       "                        DOT       0.041332\n",
       "                        DPR       0.017449\n",
       "                        DOHMH     0.011380\n",
       "                        DCA       0.006792\n",
       "                        DOF       0.005079\n",
       "                        DFTA      0.003896\n",
       "                        DOE       0.000426\n",
       "                        DHS       0.000349\n",
       "                        TLC       0.000285\n",
       "                        DOITT     0.000137\n",
       "                        EDC       0.000124\n",
       "UNKNOWN                 DOB       0.483123\n",
       "                        DOT       0.409094\n",
       "                        DEP       0.099106\n",
       "                        DSNY      0.004628\n",
       "                        DPR       0.003260\n",
       "                        DOHMH     0.000727\n",
       "                        TLC       0.000056\n",
       "                        DCA       0.000004\n",
       "Name: agency, dtype: float64"
      ]
     },
     "execution_count": 219,
     "metadata": {},
     "output_type": "execute_result"
    }
   ],
   "source": [
    "# First, look up how many reports come from mobile app. \n",
    "# use \"open_data_channel_type\"\n",
    "\n",
    "df.open_data_channel_type.value_counts(normalize = True)\n",
    "\n",
    "#Around 10 % of reports come from mobile\n",
    "#Around 46% of reports come from mobile\n",
    "\n",
    "# Then see if there is any change by agency\n",
    "df.groupby(by= 'open_data_channel_type').agency.value_counts(normalize = True)\n",
    "\n",
    "# From mobile, over 70% of reports handled by NYPD\n",
    "# From phone,only 20% of reports handled by NYPD\n",
    "# From phone,30% of reports handled by HPD\n",
    "\n",
    "## If mobile stop working, reports for NYPD will be affected a lot\n",
    "## If phone stop working, reports for HPDll be affected a lot\n"
   ]
  },
  {
   "cell_type": "markdown",
   "id": "62ff7b9a",
   "metadata": {},
   "source": [
    "## NYCHA and public funds\n",
    "\n",
    "NYC's public housing infrastructure is failing, and one reason is lack of federal funds. While the recent spending bills passed through Congress might be able to help, the feeling is that things have really fallen apart in the past however-many years – as time goes on it gets more and more difficult for the agency in control of things to address issues in a timely manner.\n",
    "\n",
    "If you were tasked with finding information to help a reporter writing on this topic, you will **not** reasonably be able to find much in the dataset to support or refute this. Why not? \n",
    "\n",
    "If you wanted to squeeze something out of this dataset anyway, what could an option be? (You might need to bring in another dataset.)"
   ]
  },
  {
   "cell_type": "code",
   "execution_count": 229,
   "id": "0ebc3436",
   "metadata": {},
   "outputs": [
    {
     "data": {
      "text/plain": [
       "<AxesSubplot:>"
      ]
     },
     "execution_count": 229,
     "metadata": {},
     "output_type": "execute_result"
    },
    {
     "data": {
      "image/png": "[encoded data removed]",
      "text/plain": [
       "<Figure size 432x288 with 1 Axes>"
      ]
     },
     "metadata": {
      "needs_background": "light"
     },
     "output_type": "display_data"
    }
   ],
   "source": [
    "# Almost all reports on residential building are handled by HPD\n",
    "HPD_df = df[df.agency == \"HPD\"]\n",
    "\n",
    "#So compares the number of reports handled by HPD over the years\n",
    "HPD_df.create_date_dtime.dt.year.value_counts().plot(kind='bar')\n",
    "\n",
    "#But I need to further look up whether these complaints were from public housing. \n",
    "##To find it the data in here will be helpful(https://www1.nyc.gov/site/nycha/about/developments.page)\n",
    "\n",
    "### Also, I need to see the federal funding amount to NYCHA over the years. \n",
    "##https://council.nyc.gov/budget/wp-content/uploads/sites/54/2021/03/NYCHA.pdf\n",
    "##This document might be helpful, but it seems like the federal funding to NYCHA is increasing over five years...why?!"
   ]
  }
 ],
 "metadata": {
  "kernelspec": {
   "display_name": "Python 3 (ipykernel)",
   "language": "python",
   "name": "python3"
  },
  "language_info": {
   "codemirror_mode": {
    "name": "ipython",
    "version": 3
   },
   "file_extension": ".py",
   "mimetype": "text/x-python",
   "name": "python",
   "nbconvert_exporter": "python",
   "pygments_lexer": "ipython3",
   "version": "3.10.0"
  }
 },
 "nbformat": 4,
 "nbformat_minor": 5
}
