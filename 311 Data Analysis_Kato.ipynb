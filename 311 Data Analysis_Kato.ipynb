{
 "cells": [
  {
   "cell_type": "markdown",
   "id": "9d38926d",
   "metadata": {},
   "source": [
    "### Do your imports!"
   ]
  },
  {
   "cell_type": "code",
   "execution_count": 1,
   "id": "055005cf",
   "metadata": {},
   "outputs": [
    {
     "name": "stderr",
     "output_type": "stream",
     "text": [
      "C:\\Users\\nao22\\AppData\\Local\\Programs\\Python\\Python310\\lib\\site-packages\\IPython\\core\\interactiveshell.py:3444: DtypeWarning: Columns (8) have mixed types.Specify dtype option on import or set low_memory=False.\n",
      "  exec(code_obj, self.user_global_ns, self.user_ns)\n"
     ]
    }
   ],
   "source": [
    "import pandas as pd\n",
    "\n",
    "df = pd.read_csv(\"subset.csv\",nrows=2000000)\n"
   ]
  },
  {
   "cell_type": "markdown",
   "id": "0ad89e50",
   "metadata": {},
   "source": [
    "# 311 data analysis\n",
    "\n",
    "## Read in `subset.csv` and review the first few rows\n",
    "\n",
    "Even though it's a giant file – gigs and gigs! – it's a subset of the [entire dataset](https://data.cityofnewyork.us/Social-Services/311-Service-Requests-from-2010-to-Present/erm2-nwe9). It covers plenty of years, but not all of the columns.\n",
    "\n",
    "If your computer is struggling (which it will!) or you are impatient, feel free to use `nrows=` when reading it in to speed up the process by only reading in a subset of columns. Pull in at least a few million, or a couple years back."
   ]
  },
  {
   "cell_type": "code",
   "execution_count": 2,
   "id": "95ab0b53",
   "metadata": {
    "scrolled": true
   },
   "outputs": [
    {
     "name": "stdout",
     "output_type": "stream",
     "text": [
      "<class 'pandas.core.frame.DataFrame'>\n",
      "RangeIndex: 2000000 entries, 0 to 1999999\n",
      "Data columns (total 15 columns):\n",
      " #   Column                  Dtype \n",
      "---  ------                  ----- \n",
      " 0   Unique Key              int64 \n",
      " 1   Created Date            object\n",
      " 2   Closed Date             object\n",
      " 3   Agency                  object\n",
      " 4   Agency Name             object\n",
      " 5   Complaint Type          object\n",
      " 6   Descriptor              object\n",
      " 7   Location Type           object\n",
      " 8   Incident Zip            object\n",
      " 9   Incident Address        object\n",
      " 10  Address Type            object\n",
      " 11  City                    object\n",
      " 12  Status                  object\n",
      " 13  Borough                 object\n",
      " 14  Open Data Channel Type  object\n",
      "dtypes: int64(1), object(14)\n",
      "memory usage: 228.9+ MB\n"
     ]
    }
   ],
   "source": [
    "#Done obove\n",
    "\n",
    "df.info()"
   ]
  },
  {
   "cell_type": "markdown",
   "id": "e870bd49",
   "metadata": {},
   "source": [
    "### Where the subset came from\n",
    "\n",
    "If you're curious, I took the [original data](https://data.cityofnewyork.us/Social-Services/311-Service-Requests-from-2010-to-Present/erm2-nwe9/data) and clipped out a subset by using the command-line tool [csvkit](https://csvkit.readthedocs.io/en/latest/).\n",
    "\n",
    "First I inspected the column headers:\n",
    "\n",
    "```bash\n",
    "$ csvcut -n 311_Service_Requests_from_2010_to_Present.csv \n",
    "```\n",
    "\n",
    "Then I selected the columns I was interested in and saved it to a file.\n",
    "\n",
    "```bash\n",
    "$ csvcut -c 1,2,3,4,5,6,7,8,9,10,16,17,20,26,29 311_Service_Requests_from_2010_to_Present.csv > subset.csv\n",
    "```\n",
    "\n",
    "This was much much much much faster than doing it in Python."
   ]
  },
  {
   "cell_type": "markdown",
   "id": "5584582a",
   "metadata": {},
   "source": [
    "## We want more columns!\n",
    "\n",
    "**Right now we don't see all of the columns.** For example, mine has `...` between the **Incident Address** column and the **City** column. Go up to the top where you imported pandas, and add a `pd.set_option` line that will allow you to view all of the columns of the dataset."
   ]
  },
  {
   "cell_type": "code",
   "execution_count": 3,
   "id": "45f891ed",
   "metadata": {},
   "outputs": [],
   "source": [
    "# DONE above"
   ]
  },
  {
   "cell_type": "markdown",
   "id": "a63e2407",
   "metadata": {},
   "source": [
    "## We hate those column names!\n",
    "\n",
    "Change the column names to be tab- and period-friendly, like `df.created_date` instead of `df['Created Date']`"
   ]
  },
  {
   "cell_type": "code",
   "execution_count": 6,
   "id": "e7a06ffa",
   "metadata": {},
   "outputs": [
    {
     "name": "stdout",
     "output_type": "stream",
     "text": [
      "<class 'pandas.core.frame.DataFrame'>\n",
      "RangeIndex: 2000000 entries, 0 to 1999999\n",
      "Data columns (total 15 columns):\n",
      " #   Column                  Dtype \n",
      "---  ------                  ----- \n",
      " 0   unique_key              int64 \n",
      " 1   created_date            object\n",
      " 2   closed_date             object\n",
      " 3   agency                  object\n",
      " 4   agency_name             object\n",
      " 5   complaint_type          object\n",
      " 6   descriptor              object\n",
      " 7   location_type           object\n",
      " 8   incident_zip            object\n",
      " 9   incident_address        object\n",
      " 10  address_type            object\n",
      " 11  city                    object\n",
      " 12  status                  object\n",
      " 13  borough                 object\n",
      " 14  open_data_channel_type  object\n",
      "dtypes: int64(1), object(14)\n",
      "memory usage: 228.9+ MB\n"
     ]
    }
   ],
   "source": [
    "df.columns = df.columns.str.lower().str.replace(\" \", \"_\")\n",
    "df.info()"
   ]
  },
  {
   "cell_type": "markdown",
   "id": "36ff2fc2",
   "metadata": {},
   "source": [
    "# Dates and times\n",
    "\n",
    "## Are the datetimes actually datetimes?\n",
    "\n",
    "We're going to be doing some datetime-y things, so let's see if the columns that look like dates are actually dates."
   ]
  },
  {
   "cell_type": "code",
   "execution_count": 5,
   "id": "57e32449",
   "metadata": {},
   "outputs": [
    {
     "ename": "AttributeError",
     "evalue": "Can only use .dt accessor with datetimelike values",
     "output_type": "error",
     "traceback": [
      "\u001b[1;31m---------------------------------------------------------------------------\u001b[0m",
      "\u001b[1;31mAttributeError\u001b[0m                            Traceback (most recent call last)",
      "\u001b[1;32m~\\AppData\\Local\\Temp/ipykernel_38128/4123401974.py\u001b[0m in \u001b[0;36m<module>\u001b[1;34m\u001b[0m\n\u001b[1;32m----> 1\u001b[1;33m \u001b[0mdf\u001b[0m\u001b[1;33m.\u001b[0m\u001b[0mcreated_date\u001b[0m\u001b[1;33m.\u001b[0m\u001b[0mdt\u001b[0m\u001b[1;33m.\u001b[0m\u001b[0myear\u001b[0m\u001b[1;33m\u001b[0m\u001b[1;33m\u001b[0m\u001b[0m\n\u001b[0m\u001b[0;32m      2\u001b[0m \u001b[1;31m#Error\u001b[0m\u001b[1;33m\u001b[0m\u001b[1;33m\u001b[0m\u001b[0m\n\u001b[0;32m      3\u001b[0m \u001b[0mdf\u001b[0m\u001b[1;33m.\u001b[0m\u001b[0mclosed_date\u001b[0m\u001b[1;33m.\u001b[0m\u001b[0mdt\u001b[0m\u001b[1;33m.\u001b[0m\u001b[0myear\u001b[0m\u001b[1;33m\u001b[0m\u001b[1;33m\u001b[0m\u001b[0m\n\u001b[0;32m      4\u001b[0m \u001b[1;33m\u001b[0m\u001b[0m\n\u001b[0;32m      5\u001b[0m \u001b[1;31m#Error\u001b[0m\u001b[1;33m\u001b[0m\u001b[1;33m\u001b[0m\u001b[0m\n",
      "\u001b[1;32m~\\AppData\\Local\\Programs\\Python\\Python310\\lib\\site-packages\\pandas\\core\\generic.py\u001b[0m in \u001b[0;36m__getattr__\u001b[1;34m(self, name)\u001b[0m\n\u001b[0;32m   5485\u001b[0m         ):\n\u001b[0;32m   5486\u001b[0m             \u001b[1;32mreturn\u001b[0m \u001b[0mself\u001b[0m\u001b[1;33m[\u001b[0m\u001b[0mname\u001b[0m\u001b[1;33m]\u001b[0m\u001b[1;33m\u001b[0m\u001b[1;33m\u001b[0m\u001b[0m\n\u001b[1;32m-> 5487\u001b[1;33m         \u001b[1;32mreturn\u001b[0m \u001b[0mobject\u001b[0m\u001b[1;33m.\u001b[0m\u001b[0m__getattribute__\u001b[0m\u001b[1;33m(\u001b[0m\u001b[0mself\u001b[0m\u001b[1;33m,\u001b[0m \u001b[0mname\u001b[0m\u001b[1;33m)\u001b[0m\u001b[1;33m\u001b[0m\u001b[1;33m\u001b[0m\u001b[0m\n\u001b[0m\u001b[0;32m   5488\u001b[0m \u001b[1;33m\u001b[0m\u001b[0m\n\u001b[0;32m   5489\u001b[0m     \u001b[1;32mdef\u001b[0m \u001b[0m__setattr__\u001b[0m\u001b[1;33m(\u001b[0m\u001b[0mself\u001b[0m\u001b[1;33m,\u001b[0m \u001b[0mname\u001b[0m\u001b[1;33m:\u001b[0m \u001b[0mstr\u001b[0m\u001b[1;33m,\u001b[0m \u001b[0mvalue\u001b[0m\u001b[1;33m)\u001b[0m \u001b[1;33m->\u001b[0m \u001b[1;32mNone\u001b[0m\u001b[1;33m:\u001b[0m\u001b[1;33m\u001b[0m\u001b[1;33m\u001b[0m\u001b[0m\n",
      "\u001b[1;32m~\\AppData\\Local\\Programs\\Python\\Python310\\lib\\site-packages\\pandas\\core\\accessor.py\u001b[0m in \u001b[0;36m__get__\u001b[1;34m(self, obj, cls)\u001b[0m\n\u001b[0;32m    179\u001b[0m             \u001b[1;31m# we're accessing the attribute of the class, i.e., Dataset.geo\u001b[0m\u001b[1;33m\u001b[0m\u001b[1;33m\u001b[0m\u001b[0m\n\u001b[0;32m    180\u001b[0m             \u001b[1;32mreturn\u001b[0m \u001b[0mself\u001b[0m\u001b[1;33m.\u001b[0m\u001b[0m_accessor\u001b[0m\u001b[1;33m\u001b[0m\u001b[1;33m\u001b[0m\u001b[0m\n\u001b[1;32m--> 181\u001b[1;33m         \u001b[0maccessor_obj\u001b[0m \u001b[1;33m=\u001b[0m \u001b[0mself\u001b[0m\u001b[1;33m.\u001b[0m\u001b[0m_accessor\u001b[0m\u001b[1;33m(\u001b[0m\u001b[0mobj\u001b[0m\u001b[1;33m)\u001b[0m\u001b[1;33m\u001b[0m\u001b[1;33m\u001b[0m\u001b[0m\n\u001b[0m\u001b[0;32m    182\u001b[0m         \u001b[1;31m# Replace the property with the accessor object. Inspired by:\u001b[0m\u001b[1;33m\u001b[0m\u001b[1;33m\u001b[0m\u001b[0m\n\u001b[0;32m    183\u001b[0m         \u001b[1;31m# https://www.pydanny.com/cached-property.html\u001b[0m\u001b[1;33m\u001b[0m\u001b[1;33m\u001b[0m\u001b[0m\n",
      "\u001b[1;32m~\\AppData\\Local\\Programs\\Python\\Python310\\lib\\site-packages\\pandas\\core\\indexes\\accessors.py\u001b[0m in \u001b[0;36m__new__\u001b[1;34m(cls, data)\u001b[0m\n\u001b[0;32m    504\u001b[0m             \u001b[1;32mreturn\u001b[0m \u001b[0mPeriodProperties\u001b[0m\u001b[1;33m(\u001b[0m\u001b[0mdata\u001b[0m\u001b[1;33m,\u001b[0m \u001b[0morig\u001b[0m\u001b[1;33m)\u001b[0m\u001b[1;33m\u001b[0m\u001b[1;33m\u001b[0m\u001b[0m\n\u001b[0;32m    505\u001b[0m \u001b[1;33m\u001b[0m\u001b[0m\n\u001b[1;32m--> 506\u001b[1;33m         \u001b[1;32mraise\u001b[0m \u001b[0mAttributeError\u001b[0m\u001b[1;33m(\u001b[0m\u001b[1;34m\"Can only use .dt accessor with datetimelike values\"\u001b[0m\u001b[1;33m)\u001b[0m\u001b[1;33m\u001b[0m\u001b[1;33m\u001b[0m\u001b[0m\n\u001b[0m",
      "\u001b[1;31mAttributeError\u001b[0m: Can only use .dt accessor with datetimelike values"
     ]
    }
   ],
   "source": [
    "df.created_date.dt.year\n",
    "#Error\n",
    "df.closed_date.dt.year\n",
    "\n",
    "#Error\n"
   ]
  },
  {
   "cell_type": "markdown",
   "id": "d5338fad",
   "metadata": {},
   "source": [
    "## In they aren't datetimes, convert them\n",
    "\n",
    "The ones we're interested in are as follows:\n",
    "\n",
    "* Created Date\n",
    "* Closed Date\n",
    "\n",
    "You have two options to convert them:\n",
    "\n",
    "1. Do it like we did in class, but **overwrite the existing string columns with the new datetime versions**\n",
    "2. Find an option with `read_csv` to automatically read certain columns as dates! Use the shift+tab trick to read the `read_csv` docs to uncover it. Once you find it, you'll set it to be the **list of date-y columns**.\n",
    "\n",
    "They're both going to take forever if you do them wrong, but can be faster with a few tricks. For example, using `pd.to_datetime` can be sped up significantly be specifying the format of the datestring.\n",
    "\n",
    "For example, if your datetime was formatted as `YYYY-MM-DD HH:MM:SS AM`, you could use the following:\n",
    "\n",
    "```\n",
    "df.my_datetime = pd.to_datetime(df.my_datetime, format=\"%Y-%m-%d %I:%M:%S %p\")\n",
    "```\n",
    "\n",
    "It's unfortunately much much much faster than the `read_csv` technique. And yes, [that's `%I` and not `%H`](https://strftime.org/).\n",
    "\n",
    "> *Tip: What should happen if it encounters an error or missing data?*"
   ]
  },
  {
   "cell_type": "code",
   "execution_count": 7,
   "id": "91739685",
   "metadata": {},
   "outputs": [
    {
     "data": {
      "text/plain": [
       "0         2019-01-27 19:26:21\n",
       "1         2019-01-29 11:06:56\n",
       "2         2019-02-13 12:28:18\n",
       "3         2019-02-13 15:40:19\n",
       "4         2019-02-13 13:18:31\n",
       "                  ...        \n",
       "1999995   2010-09-14 00:00:00\n",
       "1999996   2010-09-14 00:00:00\n",
       "1999997   2010-09-14 08:27:00\n",
       "1999998   2010-09-14 09:40:00\n",
       "1999999   2010-09-14 00:00:00\n",
       "Name: create_date_dtime, Length: 2000000, dtype: datetime64[ns]"
      ]
     },
     "execution_count": 7,
     "metadata": {},
     "output_type": "execute_result"
    }
   ],
   "source": [
    "df['create_date_dtime'] = pd.to_datetime(df.created_date, format=\"%m/%d/%Y %I:%M:%S %p\")\n",
    "df.create_date_dtime\n"
   ]
  },
  {
   "cell_type": "code",
   "execution_count": 8,
   "id": "29535ceb",
   "metadata": {},
   "outputs": [
    {
     "data": {
      "text/plain": [
       "0         2019-02-13 10:53:25\n",
       "1         2019-02-13 02:07:22\n",
       "2         2019-03-15 09:54:50\n",
       "3         2019-02-20 06:18:35\n",
       "4         2019-02-20 05:36:54\n",
       "                  ...        \n",
       "1999995   2010-09-20 00:00:00\n",
       "1999996   2010-09-20 00:00:00\n",
       "1999997   2010-09-14 09:20:00\n",
       "1999998   2010-09-14 09:40:00\n",
       "1999999   2010-09-17 00:00:00\n",
       "Name: closed_date_dtime, Length: 2000000, dtype: datetime64[ns]"
      ]
     },
     "execution_count": 8,
     "metadata": {},
     "output_type": "execute_result"
    }
   ],
   "source": [
    "df['closed_date_dtime'] = pd.to_datetime(df.closed_date, format=\"%m/%d/%Y %I:%M:%S %p\")\n",
    "df.closed_date_dtime\n"
   ]
  },
  {
   "cell_type": "markdown",
   "id": "61949b07",
   "metadata": {},
   "source": [
    "## According to the dataset, which month of the year has the most 311 calls?\n",
    "\n",
    "The kind of answer we're looking for is \"January,\" not \"January 2021\""
   ]
  },
  {
   "cell_type": "code",
   "execution_count": null,
   "id": "38149da1",
   "metadata": {},
   "outputs": [],
   "source": [
    "# there are two big techniques for date stuff: .dt or .resample\n",
    "# if you use one of those, explain why you picked that one and not the other"
   ]
  },
  {
   "cell_type": "code",
   "execution_count": 9,
   "id": "f10337ae",
   "metadata": {},
   "outputs": [
    {
     "data": {
      "text/plain": [
       "3     310996\n",
       "5     283984\n",
       "4     272387\n",
       "2     219980\n",
       "6     202440\n",
       "1     185675\n",
       "8     127039\n",
       "7      85805\n",
       "11     84139\n",
       "9      82620\n",
       "12     77096\n",
       "10     67839\n",
       "Name: create_date_dtime, dtype: int64"
      ]
     },
     "execution_count": 9,
     "metadata": {},
     "output_type": "execute_result"
    }
   ],
   "source": [
    "# use .dt bcoz I only want to select particular data\n",
    "\n",
    "df.create_date_dtime.dt.month.value_counts()\n",
    "\n",
    "#June"
   ]
  },
  {
   "cell_type": "markdown",
   "id": "4c03fb54",
   "metadata": {},
   "source": [
    "## According to the dataset, which month has had the most 311 calls?\n",
    "\n",
    "The kind of answer we're looking for is \"January 2021,\" not \"January\" (although _techniucally_ it will say `2021-01-31`, not `January 2021`)"
   ]
  },
  {
   "cell_type": "code",
   "execution_count": null,
   "id": "12d75e39",
   "metadata": {},
   "outputs": [],
   "source": [
    "# there are two big techniques for date stuff: .dt or .resample\n",
    "# if you use one of those, explain why you picked that one and not the other"
   ]
  },
  {
   "cell_type": "code",
   "execution_count": 10,
   "id": "222f230e",
   "metadata": {},
   "outputs": [
    {
     "data": {
      "text/plain": [
       "create_date_dtime\n",
       "2021-01-31         1\n",
       "2020-11-30        10\n",
       "2020-10-31        10\n",
       "2020-12-31        42\n",
       "2020-09-30        52\n",
       "               ...  \n",
       "2010-01-31    110336\n",
       "2019-06-30    131567\n",
       "2019-04-30    190340\n",
       "2019-03-31    198597\n",
       "2019-05-31    213287\n",
       "Length: 133, dtype: int64"
      ]
     },
     "execution_count": 10,
     "metadata": {},
     "output_type": "execute_result"
    }
   ],
   "source": [
    "# use .resample bcoz I only want to select summerize particular data\n",
    "\n",
    "df.resample('M', on='create_date_dtime').size().sort_values()"
   ]
  },
  {
   "cell_type": "markdown",
   "id": "0113e7e7",
   "metadata": {},
   "source": [
    "## Plot the 311 call frequency over our dataset on a _weekly_ basis\n",
    "\n",
    "To make your y axis start at zero, use `ylim=(0,100000)` when doing `.plot`. But replace the `1000` with a large enough value to actually see your data nicely!"
   ]
  },
  {
   "cell_type": "code",
   "execution_count": null,
   "id": "691e80cf",
   "metadata": {},
   "outputs": [],
   "source": [
    "# there are two big techniques for date stuff: .dt or .resample\n",
    "# if you use one of those, explain why you picked that one and not the other"
   ]
  },
  {
   "cell_type": "code",
   "execution_count": 11,
   "id": "47b59a93",
   "metadata": {},
   "outputs": [
    {
     "data": {
      "image/png": "[encoded data removed]",
      "text/plain": [
       "<Figure size 432x288 with 1 Axes>"
      ]
     },
     "metadata": {
      "needs_background": "light"
     },
     "output_type": "display_data"
    }
   ],
   "source": [
    "# use .resample bcoz I only want to select summerize particular data\n",
    "\n",
    "weekly_chart = df.resample('W', on='create_date_dtime').size().plot(ylim=[0,100000], title = \"311 call weekly frequency from 2010\")\n",
    "\n"
   ]
  },
  {
   "cell_type": "markdown",
   "id": "4fe8dc9a",
   "metadata": {},
   "source": [
    "## What time of day (by hour) is the least common for 311 complains? The most common? \n",
    "\n",
    "\n",
    "\n",
    "\n",
    "\n"
   ]
  },
  {
   "cell_type": "code",
   "execution_count": null,
   "id": "7a7452bc",
   "metadata": {},
   "outputs": [],
   "source": [
    "# there are two big techniques for date stuff: .dt or .resample\n",
    "# if you use one of those, explain why you picked that one and not the other"
   ]
  },
  {
   "cell_type": "code",
   "execution_count": 13,
   "id": "b535b6ab",
   "metadata": {},
   "outputs": [
    {
     "data": {
      "text/plain": [
       "0     462108\n",
       "10    126013\n",
       "11    121702\n",
       "9     118715\n",
       "14    111539\n",
       "12    110884\n",
       "13    104162\n",
       "15     97250\n",
       "8      86302\n",
       "16     84504\n",
       "17     70278\n",
       "18     66516\n",
       "19     63623\n",
       "21     59502\n",
       "20     58851\n",
       "22     56726\n",
       "7      51713\n",
       "23     46968\n",
       "6      26909\n",
       "1      23540\n",
       "2      15067\n",
       "5      14046\n",
       "3      11899\n",
       "4      11183\n",
       "Name: create_date_dtime, dtype: int64"
      ]
     },
     "execution_count": 13,
     "metadata": {},
     "output_type": "execute_result"
    }
   ],
   "source": [
    "# use .resample bcoz I only want to select summerize particular data\n",
    "# df.resample('H', on='create_date_dtime').size().sort_values()\n",
    "\n",
    "# df.create_date_dtime.dt.month.value_counts()\n",
    "\n",
    "\n",
    "\n",
    "\n",
    "df.create_date_dtime.dt.hour.value_counts()\n",
    "\n",
    "# least common: 4am, most common:10am ????really???????\n"
   ]
  },
  {
   "cell_type": "markdown",
   "id": "1001c432",
   "metadata": {},
   "source": [
    "### Make a graph of the results\n",
    "\n",
    "* Make sure the hours are in the correct order\n",
    "* Be sure to set the y-axis to start at 0\n",
    "* Give your plot a descriptive title"
   ]
  },
  {
   "cell_type": "code",
   "execution_count": null,
   "id": "9c2c4689",
   "metadata": {},
   "outputs": [],
   "source": []
  },
  {
   "cell_type": "markdown",
   "id": "dd2d2905",
   "metadata": {},
   "source": [
    "# Agencies\n",
    "\n",
    "## What agencies field the most complaints in the dataset? Get the top 5.\n",
    "\n",
    "Use the `agency` column for this one."
   ]
  },
  {
   "cell_type": "code",
   "execution_count": null,
   "id": "22000a0e",
   "metadata": {},
   "outputs": [],
   "source": [
    "df.agency.value_counts().head(5)\n"
   ]
  },
  {
   "cell_type": "markdown",
   "id": "3469fc64",
   "metadata": {},
   "source": [
    "## What are each of those agencies?\n",
    "\n",
    "Define the following five acronyms:\n",
    "\n",
    "* NYPD\n",
    "* HPD\n",
    "* DOT\n",
    "* DSNY\n",
    "* DEP"
   ]
  },
  {
   "cell_type": "markdown",
   "id": "774cd51b",
   "metadata": {},
   "source": [
    "NYPD: New York City Police Department\n",
    "HPD:New York City Department of Housing Preservation and Development\n",
    "DOT:New York City Department of Transportation\n",
    "DSNY:New York City Department of Sanitation\n",
    "DEP: New York City Department of Environmental Protection"
   ]
  },
  {
   "cell_type": "markdown",
   "id": "d4cae99e",
   "metadata": {},
   "source": [
    "## What is the most common complaint to HPD?"
   ]
  },
  {
   "cell_type": "code",
   "execution_count": null,
   "id": "030eca78",
   "metadata": {},
   "outputs": [],
   "source": [
    "# Why did you pick these columns to calculate the answer?"
   ]
  },
  {
   "cell_type": "code",
   "execution_count": 14,
   "id": "2f719385",
   "metadata": {},
   "outputs": [
    {
     "data": {
      "text/plain": [
       "HEAT/HOT WATER          181490\n",
       "PLUMBING                108389\n",
       "HEATING                 104477\n",
       "GENERAL CONSTRUCTION     87698\n",
       "PAINT - PLASTER          65400\n",
       "Name: complaint_type, dtype: int64"
      ]
     },
     "execution_count": 14,
     "metadata": {},
     "output_type": "execute_result"
    }
   ],
   "source": [
    "# I used complaint_type because this captures each category of complaints\n",
    "\n",
    "HPD_df = df[df.agency == 'HPD']\n",
    "HPD_df.head()\n",
    "\n",
    "HPD_df.complaint_type.value_counts().head(5)\n",
    "#HEAT/HOT WATER "
   ]
  },
  {
   "cell_type": "markdown",
   "id": "75def603",
   "metadata": {},
   "source": [
    "## What are the top 3 complaints to each agency?\n",
    "\n",
    "You'll want to use the weird confusing `.groupby(level=...` thing we learned when reviewing the homework.\n"
   ]
  },
  {
   "cell_type": "code",
   "execution_count": 15,
   "id": "1b9c8a3a",
   "metadata": {},
   "outputs": [
    {
     "name": "stdout",
     "output_type": "stream",
     "text": [
      "<class 'pandas.core.frame.DataFrame'>\n",
      "RangeIndex: 2000000 entries, 0 to 1999999\n",
      "Data columns (total 17 columns):\n",
      " #   Column                  Dtype         \n",
      "---  ------                  -----         \n",
      " 0   unique_key              int64         \n",
      " 1   created_date            object        \n",
      " 2   closed_date             object        \n",
      " 3   agency                  object        \n",
      " 4   agency_name             object        \n",
      " 5   complaint_type          object        \n",
      " 6   descriptor              object        \n",
      " 7   location_type           object        \n",
      " 8   incident_zip            object        \n",
      " 9   incident_address        object        \n",
      " 10  address_type            object        \n",
      " 11  city                    object        \n",
      " 12  status                  object        \n",
      " 13  borough                 object        \n",
      " 14  open_data_channel_type  object        \n",
      " 15  create_date_dtime       datetime64[ns]\n",
      " 16  closed_date_dtime       datetime64[ns]\n",
      "dtypes: datetime64[ns](2), int64(1), object(14)\n",
      "memory usage: 259.4+ MB\n"
     ]
    }
   ],
   "source": [
    "df.info()"
   ]
  },
  {
   "cell_type": "code",
   "execution_count": 16,
   "id": "eeaee487",
   "metadata": {},
   "outputs": [
    {
     "data": {
      "text/plain": [
       "agency  complaint_type                     \n",
       "ACS     Forms                                     117\n",
       "COIB    Forms                                       4\n",
       "DCA     Consumer Complaint                       4240\n",
       "DCAS    Question                                  261\n",
       "        Comments                                   19\n",
       "DCP     Research Questions                          9\n",
       "DEP     Noise                                   41563\n",
       "        Water System                            37463\n",
       "        Sewer                                   21251\n",
       "DFTA    Housing - Low Income Senior              1589\n",
       "        Housing Options                           507\n",
       "        Senior Center Complaint                    64\n",
       "DHS     Homeless Person Assistance                483\n",
       "DOB     General Construction/Plumbing           80000\n",
       "        Elevator                                34933\n",
       "        Building/Use                            34693\n",
       "DOE     School Maintenance                        358\n",
       "        Teaching/Learning/Instruction               1\n",
       "DOF     DOF Property - Payment Issue             1582\n",
       "        DRIE                                      500\n",
       "        Advocate-Prop Refunds/Credits             116\n",
       "DOHMH   Rodent                                   5247\n",
       "        Indoor Air Quality                       1256\n",
       "        Food Establishment                       1242\n",
       "DOITT   Public Payphone Complaint                 113\n",
       "        LinkNYC                                    40\n",
       "DOT     Street Light Condition                 107147\n",
       "        Street Condition                       106381\n",
       "        Traffic Signal Condition                52968\n",
       "DPR     Damaged Tree                             4216\n",
       "        Root/Sewer/Sidewalk Condition            2545\n",
       "        Overgrown Tree/Branches                  2438\n",
       "DSNY    Request Large Bulky Item Collection     77930\n",
       "        Dirty Conditions                        52620\n",
       "        Missed Collection (All Materials)       48064\n",
       "DVS     ../../../../../../../../../...              4\n",
       "        ..\\..\\..\\..\\..\\..\\..\\..\\..\\...              4\n",
       "        Misc. Comments../../../../....              3\n",
       "EDC     Noise - Helicopter                        148\n",
       "HPD     HEAT/HOT WATER                         181490\n",
       "        PLUMBING                               108389\n",
       "        HEATING                                104477\n",
       "NYPD    Noise - Residential                     75851\n",
       "        Illegal Parking                         60354\n",
       "        Blocked Driveway                        42812\n",
       "TAX     Question                                   79\n",
       "        Comments                                    7\n",
       "TLC     Taxi Complaint                           1239\n",
       "        For Hire Vehicle Complaint               1155\n",
       "        Taxi Report                               486\n",
       "Name: complaint_type, dtype: int64"
      ]
     },
     "execution_count": 16,
     "metadata": {},
     "output_type": "execute_result"
    }
   ],
   "source": [
    "# merged.groupby(by='neighborhood')['Primary Breed'] \\\n",
    "#     .value_counts() \\\n",
    "#     .groupby(level=0, group_keys=False) \\\n",
    "#     .nlargest(1)\n",
    "\n",
    "# merged.groupby('neighborhood')['Primary Breed'] \\\n",
    "#     .value_counts() \\\n",
    "#     .groupby(level=0) \\\n",
    "#     .head(1)\n",
    "\n",
    "df.groupby(['agency']).complaint_type.value_counts().groupby(level=0, group_keys=False).nlargest(3)"
   ]
  },
  {
   "cell_type": "markdown",
   "id": "c3d55807",
   "metadata": {},
   "source": [
    "## What is the most common kind of residential noise complaint?\n",
    "\n",
    "The NYPD seems to deal with a lot of noise complaints at homes. What is the most common subtype?"
   ]
  },
  {
   "cell_type": "code",
   "execution_count": 17,
   "id": "e726cd32",
   "metadata": {},
   "outputs": [
    {
     "data": {
      "text/plain": [
       "HEAT/HOT WATER                    181490\n",
       "PLUMBING                          108389\n",
       "Street Light Condition            107147\n",
       "Street Condition                  106381\n",
       "HEATING                           104477\n",
       "                                   ...  \n",
       "Misc. Comments&quot;                   1\n",
       "Misc. Comments&amp;ping -n ...         1\n",
       "...\\.\\...\\.\\...\\.\\...\\.\\......         1\n",
       ".../...//.../...//.../...//...         1\n",
       "Teaching/Learning/Instruction          1\n",
       "Name: complaint_type, Length: 304, dtype: int64"
      ]
     },
     "execution_count": 17,
     "metadata": {},
     "output_type": "execute_result"
    }
   ],
   "source": [
    "# Why did you pick these columns to calculate the answer?\n",
    "df.complaint_type.value_counts()"
   ]
  },
  {
   "cell_type": "code",
   "execution_count": 18,
   "id": "9d2f83ce",
   "metadata": {},
   "outputs": [
    {
     "data": {
      "text/plain": [
       "Loud Music/Party    47675\n",
       "Banging/Pounding    21348\n",
       "Loud Talking         5304\n",
       "Loud Television      1524\n",
       "Name: descriptor, dtype: int64"
      ]
     },
     "execution_count": 18,
     "metadata": {},
     "output_type": "execute_result"
    }
   ],
   "source": [
    "res_noise_df = df[df.complaint_type == \"Noise - Residential\"]\n",
    "\n",
    "res_noise_df.descriptor.value_counts()"
   ]
  },
  {
   "cell_type": "markdown",
   "id": "3d6c4dff",
   "metadata": {},
   "source": [
    "## What time of day do \"Loud Music/Party\" complaints come in? Make it a chart!"
   ]
  },
  {
   "cell_type": "code",
   "execution_count": null,
   "id": "029c4248",
   "metadata": {},
   "outputs": [],
   "source": [
    "# there are two big techniques for date stuff: .dt or .resample\n",
    "# if you use one of those, explain why you picked that one and not the other"
   ]
  },
  {
   "cell_type": "code",
   "execution_count": 19,
   "id": "1d776aea",
   "metadata": {},
   "outputs": [
    {
     "data": {
      "text/plain": [
       "<AxesSubplot:>"
      ]
     },
     "execution_count": 19,
     "metadata": {},
     "output_type": "execute_result"
    },
    {
     "data": {
      "image/png": "[encoded data removed]",
      "text/plain": [
       "<Figure size 432x288 with 1 Axes>"
      ]
     },
     "metadata": {
      "needs_background": "light"
     },
     "output_type": "display_data"
    }
   ],
   "source": [
    "res_noise_df.create_date_dtime.dt.hour.value_counts().sort_index().plot(kind= 'bar')\n"
   ]
  },
  {
   "cell_type": "markdown",
   "id": "72378323",
   "metadata": {},
   "source": [
    "## <span style=\"color: red; \">When do people party hard?\n",
    "\n",
    "Make a monthly chart of Loud Music/Party complaints since the beginning of the dataset. Make it count them on a biweekly basis (every two weeks)."
   ]
  },
  {
   "cell_type": "code",
   "execution_count": null,
   "id": "1403b89b",
   "metadata": {},
   "outputs": [],
   "source": [
    "# there are two big techniques for date stuff: .dt or .resample\n",
    "# if you use one of those, explain why you picked that one and not the other\n",
    "res_noise_df.descriptor.isna().sum()"
   ]
  },
  {
   "cell_type": "code",
   "execution_count": 20,
   "id": "3e352a1a",
   "metadata": {
    "scrolled": true
   },
   "outputs": [
    {
     "data": {
      "text/plain": [
       "<AxesSubplot:xlabel='create_date_dtime'>"
      ]
     },
     "execution_count": 20,
     "metadata": {},
     "output_type": "execute_result"
    },
    {
     "data": {
      "image/png": "[encoded data removed]",
      "text/plain": [
       "<Figure size 432x288 with 1 Axes>"
      ]
     },
     "metadata": {
      "needs_background": "light"
     },
     "output_type": "display_data"
    }
   ],
   "source": [
    "res_noise_df_nan = res_noise_df.dropna()\n",
    "\n",
    "res_noise_df_nan[res_noise_df_nan.descriptor == \"Loud Music/Party\"].resample('2W', on='create_date_dtime').size().plot()\n",
    "\n"
   ]
  },
  {
   "cell_type": "markdown",
   "id": "de48a3ec",
   "metadata": {},
   "source": [
    "## People and their bees\n",
    "\n",
    "Sometimes people complain about bees! Why they'd do that, I have no idea. It's somewhere in \"complaint_type\" – can you find all of the bee-related complaints?"
   ]
  },
  {
   "cell_type": "code",
   "execution_count": 21,
   "id": "5f1901b0",
   "metadata": {},
   "outputs": [
    {
     "data": {
      "text/plain": [
       "Harboring Bees/Wasps    16\n",
       "Name: complaint_type, dtype: int64"
      ]
     },
     "execution_count": 21,
     "metadata": {},
     "output_type": "execute_result"
    }
   ],
   "source": [
    "bee_df = df[df.complaint_type.str.contains('bee', case= False)]\n",
    "bee_df.complaint_type.value_counts()"
   ]
  },
  {
   "cell_type": "markdown",
   "id": "8c68e167",
   "metadata": {},
   "source": [
    "### <span style=\"color: red; \">What month do most of the complaints happen in? I'd like to see a graph.\n"
   ]
  },
  {
   "cell_type": "code",
   "execution_count": 22,
   "id": "590fd267",
   "metadata": {},
   "outputs": [
    {
     "data": {
      "text/plain": [
       "<AxesSubplot:>"
      ]
     },
     "execution_count": 22,
     "metadata": {},
     "output_type": "execute_result"
    },
    {
     "data": {
      "image/png": "[encoded data removed]",
      "text/plain": [
       "<Figure size 432x288 with 1 Axes>"
      ]
     },
     "metadata": {
      "needs_background": "light"
     },
     "output_type": "display_data"
    }
   ],
   "source": [
    "# df.create_date_dtime.dt.month.value_counts()\n",
    "\n",
    "bee_df.create_date_dtime.dt.month.value_counts().sort_values().plot(kind= 'bar')\n",
    "\n",
    "\n"
   ]
  },
  {
   "cell_type": "markdown",
   "id": "9cdf43eb",
   "metadata": {},
   "source": [
    "### Are the people getting in trouble usually beekeepers or not beekeepers?"
   ]
  },
  {
   "cell_type": "code",
   "execution_count": null,
   "id": "e517af3a",
   "metadata": {},
   "outputs": [],
   "source": [
    "# bee_df.complaint_type.str.contains('not beekeeper', case= False).value_counts()\n",
    "\n",
    "\n",
    "bee_df.descriptor.value_counts()\n",
    "#Not beekeeper"
   ]
  },
  {
   "cell_type": "markdown",
   "id": "2f96be0a",
   "metadata": {},
   "source": [
    "# Math with datetimes\n",
    "\n",
    "## How long does it normally take to resolve a 311 complaint?\n",
    "    \n",
    "   \n",
    "Even if we didn't cover this in class, I have faith that you can guess how to calculate it."
   ]
  },
  {
   "cell_type": "code",
   "execution_count": 23,
   "id": "2a7b9f46",
   "metadata": {},
   "outputs": [
    {
     "data": {
      "text/plain": [
       "False    1991095\n",
       "True        8905\n",
       "Name: closed_date_dtime, dtype: int64"
      ]
     },
     "execution_count": 23,
     "metadata": {},
     "output_type": "execute_result"
    }
   ],
   "source": [
    "# #there is no NaN in create_date_dtime\n",
    "df.closed_date_dtime.isna().value_counts()"
   ]
  },
  {
   "cell_type": "code",
   "execution_count": null,
   "id": "df6373fc",
   "metadata": {
    "scrolled": true
   },
   "outputs": [],
   "source": [
    "# df.closed_date_dtime = df.closed_date_dtime.fillna(0)"
   ]
  },
  {
   "cell_type": "code",
   "execution_count": 24,
   "id": "49799a2e",
   "metadata": {},
   "outputs": [
    {
     "data": {
      "text/plain": [
       "1999998   2010-09-14 09:40:00\n",
       "1999999   2010-09-14 00:00:00\n",
       "Name: create_date_dtime, dtype: datetime64[ns]"
      ]
     },
     "execution_count": 24,
     "metadata": {},
     "output_type": "execute_result"
    }
   ],
   "source": [
    "# df.closed_date_dtime.tail(2)\n",
    "\n",
    "# 27098879    2019-02-15 15:55:51\n",
    "# 27098880    2019-02-15 15:25:09\n",
    "\n",
    "df.create_date_dtime.tail(2)"
   ]
  },
  {
   "cell_type": "code",
   "execution_count": 25,
   "id": "d24c2208",
   "metadata": {},
   "outputs": [
    {
     "data": {
      "text/plain": [
       "0         16 days 15:27:04\n",
       "1         14 days 15:00:26\n",
       "2         29 days 21:26:32\n",
       "3          6 days 14:38:16\n",
       "4          6 days 16:18:23\n",
       "                ...       \n",
       "1999995    6 days 00:00:00\n",
       "1999996    6 days 00:00:00\n",
       "1999997    0 days 00:53:00\n",
       "1999998    0 days 00:00:00\n",
       "1999999    3 days 00:00:00\n",
       "Length: 2000000, dtype: timedelta64[ns]"
      ]
     },
     "execution_count": 25,
     "metadata": {},
     "output_type": "execute_result"
    }
   ],
   "source": [
    "# df.closed_date_dtime = pd.to_datetime(df.closed_date_dtime, format=\"%Y-%m-%d %H:%M:%S\", errors='coerce')\n",
    "\n",
    "time_diff = df['closed_date_dtime'] - df['create_date_dtime']\n",
    "time_diff"
   ]
  },
  {
   "cell_type": "code",
   "execution_count": 26,
   "id": "11145dfb",
   "metadata": {},
   "outputs": [
    {
     "data": {
      "text/plain": [
       "226320.0"
      ]
     },
     "execution_count": 26,
     "metadata": {},
     "output_type": "execute_result"
    }
   ],
   "source": [
    "time_diff.dt.total_seconds().median()"
   ]
  },
  {
   "cell_type": "markdown",
   "id": "f901cdb7",
   "metadata": {},
   "source": [
    "Save it as a new column called `time_to_fix`"
   ]
  },
  {
   "cell_type": "code",
   "execution_count": 32,
   "id": "2cdcf705",
   "metadata": {},
   "outputs": [],
   "source": [
    "df['time_to_fix'] = time_diff.dt.total_seconds()"
   ]
  },
  {
   "cell_type": "markdown",
   "id": "30fbc746",
   "metadata": {},
   "source": [
    "## Which agency has the best time-to-fix time?"
   ]
  },
  {
   "cell_type": "code",
   "execution_count": 33,
   "id": "c2bb7780",
   "metadata": {},
   "outputs": [
    {
     "data": {
      "text/plain": [
       "agency\n",
       "DHS         4383.0\n",
       "NYPD        9167.0\n",
       "DOT        62663.0\n",
       "DEP        79440.0\n",
       "DSNY      175920.0\n",
       "DPR       246899.5\n",
       "DOHMH     297188.0\n",
       "DCA       310351.0\n",
       "DOE       361143.0\n",
       "HPD       518400.0\n",
       "DOB       889639.5\n",
       "DOF       939321.0\n",
       "DFTA     1057014.5\n",
       "DOITT    1272655.0\n",
       "EDC      1644113.0\n",
       "TLC      3848216.0\n",
       "ACS            NaN\n",
       "COIB           NaN\n",
       "DCAS           NaN\n",
       "DCP            NaN\n",
       "DVS            NaN\n",
       "TAX            NaN\n",
       "Name: time_to_fix, dtype: float64"
      ]
     },
     "execution_count": 33,
     "metadata": {},
     "output_type": "execute_result"
    }
   ],
   "source": [
    "#'time_to_fix' is new column\n",
    "\n",
    "df.groupby(by='agency').time_to_fix.median().sort_values()\n",
    "\n",
    "# DHS        average 4383.0 seconds"
   ]
  },
  {
   "cell_type": "markdown",
   "id": "376f1775",
   "metadata": {},
   "source": [
    "## Maybe we need some more information...\n",
    "\n",
    "I might want to know how big our sample size is for each of those, maybe the high performers only have one or two instances of having requests filed!\n",
    "\n",
    "### First, try using `.describe()` on the time to fix column after your `groupby`."
   ]
  },
  {
   "cell_type": "code",
   "execution_count": 34,
   "id": "81ba3d2e",
   "metadata": {},
   "outputs": [
    {
     "data": {
      "text/html": [
       "<div>\n",
       "<style scoped>\n",
       "    .dataframe tbody tr th:only-of-type {\n",
       "        vertical-align: middle;\n",
       "    }\n",
       "\n",
       "    .dataframe tbody tr th {\n",
       "        vertical-align: top;\n",
       "    }\n",
       "\n",
       "    .dataframe thead tr th {\n",
       "        text-align: left;\n",
       "    }\n",
       "\n",
       "    .dataframe thead tr:last-of-type th {\n",
       "        text-align: right;\n",
       "    }\n",
       "</style>\n",
       "<table border=\"1\" class=\"dataframe\">\n",
       "  <thead>\n",
       "    <tr>\n",
       "      <th></th>\n",
       "      <th colspan=\"8\" halign=\"left\">unique_key</th>\n",
       "      <th colspan=\"8\" halign=\"left\">time_to_fix</th>\n",
       "    </tr>\n",
       "    <tr>\n",
       "      <th></th>\n",
       "      <th>count</th>\n",
       "      <th>mean</th>\n",
       "      <th>std</th>\n",
       "      <th>min</th>\n",
       "      <th>25%</th>\n",
       "      <th>50%</th>\n",
       "      <th>75%</th>\n",
       "      <th>max</th>\n",
       "      <th>count</th>\n",
       "      <th>mean</th>\n",
       "      <th>std</th>\n",
       "      <th>min</th>\n",
       "      <th>25%</th>\n",
       "      <th>50%</th>\n",
       "      <th>75%</th>\n",
       "      <th>max</th>\n",
       "    </tr>\n",
       "    <tr>\n",
       "      <th>agency</th>\n",
       "      <th></th>\n",
       "      <th></th>\n",
       "      <th></th>\n",
       "      <th></th>\n",
       "      <th></th>\n",
       "      <th></th>\n",
       "      <th></th>\n",
       "      <th></th>\n",
       "      <th></th>\n",
       "      <th></th>\n",
       "      <th></th>\n",
       "      <th></th>\n",
       "      <th></th>\n",
       "      <th></th>\n",
       "      <th></th>\n",
       "      <th></th>\n",
       "    </tr>\n",
       "  </thead>\n",
       "  <tbody>\n",
       "    <tr>\n",
       "      <th>ACS</th>\n",
       "      <td>117.0</td>\n",
       "      <td>4.229530e+07</td>\n",
       "      <td>4.093072e+05</td>\n",
       "      <td>41710210.0</td>\n",
       "      <td>41912271.00</td>\n",
       "      <td>42209401.0</td>\n",
       "      <td>42700716.00</td>\n",
       "      <td>42974968.0</td>\n",
       "      <td>0.0</td>\n",
       "      <td>NaN</td>\n",
       "      <td>NaN</td>\n",
       "      <td>NaN</td>\n",
       "      <td>NaN</td>\n",
       "      <td>NaN</td>\n",
       "      <td>NaN</td>\n",
       "      <td>NaN</td>\n",
       "    </tr>\n",
       "    <tr>\n",
       "      <th>COIB</th>\n",
       "      <td>4.0</td>\n",
       "      <td>4.258125e+07</td>\n",
       "      <td>2.678087e+05</td>\n",
       "      <td>42258386.0</td>\n",
       "      <td>42415141.25</td>\n",
       "      <td>42615467.5</td>\n",
       "      <td>42781574.00</td>\n",
       "      <td>42835670.0</td>\n",
       "      <td>0.0</td>\n",
       "      <td>NaN</td>\n",
       "      <td>NaN</td>\n",
       "      <td>NaN</td>\n",
       "      <td>NaN</td>\n",
       "      <td>NaN</td>\n",
       "      <td>NaN</td>\n",
       "      <td>NaN</td>\n",
       "    </tr>\n",
       "    <tr>\n",
       "      <th>DCA</th>\n",
       "      <td>4240.0</td>\n",
       "      <td>4.218055e+07</td>\n",
       "      <td>1.262790e+06</td>\n",
       "      <td>15773785.0</td>\n",
       "      <td>41946836.75</td>\n",
       "      <td>42169763.0</td>\n",
       "      <td>42596068.50</td>\n",
       "      <td>42893918.0</td>\n",
       "      <td>4240.0</td>\n",
       "      <td>7.218840e+05</td>\n",
       "      <td>1.244500e+06</td>\n",
       "      <td>1.441000e+03</td>\n",
       "      <td>99508.50</td>\n",
       "      <td>310351.0</td>\n",
       "      <td>1333903.25</td>\n",
       "      <td>46468873.0</td>\n",
       "    </tr>\n",
       "    <tr>\n",
       "      <th>DCAS</th>\n",
       "      <td>280.0</td>\n",
       "      <td>4.229537e+07</td>\n",
       "      <td>4.011786e+05</td>\n",
       "      <td>41700997.0</td>\n",
       "      <td>41959548.25</td>\n",
       "      <td>42188893.0</td>\n",
       "      <td>42678320.75</td>\n",
       "      <td>42970700.0</td>\n",
       "      <td>0.0</td>\n",
       "      <td>NaN</td>\n",
       "      <td>NaN</td>\n",
       "      <td>NaN</td>\n",
       "      <td>NaN</td>\n",
       "      <td>NaN</td>\n",
       "      <td>NaN</td>\n",
       "      <td>NaN</td>\n",
       "    </tr>\n",
       "    <tr>\n",
       "      <th>DCP</th>\n",
       "      <td>9.0</td>\n",
       "      <td>4.238449e+07</td>\n",
       "      <td>5.212491e+05</td>\n",
       "      <td>41717530.0</td>\n",
       "      <td>41947840.00</td>\n",
       "      <td>42704587.0</td>\n",
       "      <td>42807355.00</td>\n",
       "      <td>42904520.0</td>\n",
       "      <td>0.0</td>\n",
       "      <td>NaN</td>\n",
       "      <td>NaN</td>\n",
       "      <td>NaN</td>\n",
       "      <td>NaN</td>\n",
       "      <td>NaN</td>\n",
       "      <td>NaN</td>\n",
       "      <td>NaN</td>\n",
       "    </tr>\n",
       "    <tr>\n",
       "      <th>DEP</th>\n",
       "      <td>119455.0</td>\n",
       "      <td>4.285930e+07</td>\n",
       "      <td>3.009645e+06</td>\n",
       "      <td>15635861.0</td>\n",
       "      <td>42252954.00</td>\n",
       "      <td>42988461.0</td>\n",
       "      <td>43859251.00</td>\n",
       "      <td>47371726.0</td>\n",
       "      <td>117430.0</td>\n",
       "      <td>5.005384e+05</td>\n",
       "      <td>2.957463e+06</td>\n",
       "      <td>-1.084800e+05</td>\n",
       "      <td>10080.00</td>\n",
       "      <td>79440.0</td>\n",
       "      <td>284265.00</td>\n",
       "      <td>264957600.0</td>\n",
       "    </tr>\n",
       "    <tr>\n",
       "      <th>DFTA</th>\n",
       "      <td>2286.0</td>\n",
       "      <td>4.221565e+07</td>\n",
       "      <td>3.325507e+05</td>\n",
       "      <td>41694656.0</td>\n",
       "      <td>41934018.50</td>\n",
       "      <td>42158801.5</td>\n",
       "      <td>42532731.50</td>\n",
       "      <td>42886759.0</td>\n",
       "      <td>2286.0</td>\n",
       "      <td>9.755638e+05</td>\n",
       "      <td>3.716805e+05</td>\n",
       "      <td>2.568000e+03</td>\n",
       "      <td>778443.75</td>\n",
       "      <td>1057014.5</td>\n",
       "      <td>1211342.75</td>\n",
       "      <td>2915165.0</td>\n",
       "    </tr>\n",
       "    <tr>\n",
       "      <th>DHS</th>\n",
       "      <td>483.0</td>\n",
       "      <td>4.232518e+07</td>\n",
       "      <td>4.305532e+05</td>\n",
       "      <td>41696926.0</td>\n",
       "      <td>42134661.50</td>\n",
       "      <td>42241013.0</td>\n",
       "      <td>42298694.50</td>\n",
       "      <td>47878609.0</td>\n",
       "      <td>482.0</td>\n",
       "      <td>1.111270e+04</td>\n",
       "      <td>1.890682e+04</td>\n",
       "      <td>4.000000e+01</td>\n",
       "      <td>998.75</td>\n",
       "      <td>4383.0</td>\n",
       "      <td>11147.00</td>\n",
       "      <td>215122.0</td>\n",
       "    </tr>\n",
       "    <tr>\n",
       "      <th>DOB</th>\n",
       "      <td>209122.0</td>\n",
       "      <td>3.432049e+07</td>\n",
       "      <td>1.231766e+07</td>\n",
       "      <td>15636311.0</td>\n",
       "      <td>18254053.25</td>\n",
       "      <td>42382270.0</td>\n",
       "      <td>42868592.25</td>\n",
       "      <td>47238123.0</td>\n",
       "      <td>209122.0</td>\n",
       "      <td>5.206282e+06</td>\n",
       "      <td>1.803424e+07</td>\n",
       "      <td>0.000000e+00</td>\n",
       "      <td>34830.00</td>\n",
       "      <td>889639.5</td>\n",
       "      <td>4096625.00</td>\n",
       "      <td>366913215.0</td>\n",
       "    </tr>\n",
       "    <tr>\n",
       "      <th>DOE</th>\n",
       "      <td>359.0</td>\n",
       "      <td>4.253006e+07</td>\n",
       "      <td>1.913849e+06</td>\n",
       "      <td>18658028.0</td>\n",
       "      <td>41951006.00</td>\n",
       "      <td>42141178.0</td>\n",
       "      <td>42599961.50</td>\n",
       "      <td>48376037.0</td>\n",
       "      <td>354.0</td>\n",
       "      <td>1.875025e+06</td>\n",
       "      <td>6.358730e+06</td>\n",
       "      <td>5.760000e+02</td>\n",
       "      <td>106154.25</td>\n",
       "      <td>361143.0</td>\n",
       "      <td>710333.50</td>\n",
       "      <td>40509586.0</td>\n",
       "    </tr>\n",
       "    <tr>\n",
       "      <th>DOF</th>\n",
       "      <td>2408.0</td>\n",
       "      <td>4.206774e+07</td>\n",
       "      <td>7.601930e+05</td>\n",
       "      <td>31835193.0</td>\n",
       "      <td>41912167.75</td>\n",
       "      <td>42076702.5</td>\n",
       "      <td>42295510.25</td>\n",
       "      <td>43048380.0</td>\n",
       "      <td>2408.0</td>\n",
       "      <td>1.308866e+06</td>\n",
       "      <td>1.278831e+06</td>\n",
       "      <td>8.700000e+01</td>\n",
       "      <td>214148.00</td>\n",
       "      <td>939321.0</td>\n",
       "      <td>2077401.75</td>\n",
       "      <td>6218183.0</td>\n",
       "    </tr>\n",
       "    <tr>\n",
       "      <th>DOHMH</th>\n",
       "      <td>10592.0</td>\n",
       "      <td>4.209561e+07</td>\n",
       "      <td>8.500494e+05</td>\n",
       "      <td>15634405.0</td>\n",
       "      <td>41912483.75</td>\n",
       "      <td>42062898.5</td>\n",
       "      <td>42226810.25</td>\n",
       "      <td>43140933.0</td>\n",
       "      <td>10509.0</td>\n",
       "      <td>6.797598e+05</td>\n",
       "      <td>3.403475e+07</td>\n",
       "      <td>-3.483707e+09</td>\n",
       "      <td>19200.00</td>\n",
       "      <td>297188.0</td>\n",
       "      <td>932782.00</td>\n",
       "      <td>19700442.0</td>\n",
       "    </tr>\n",
       "    <tr>\n",
       "      <th>DOITT</th>\n",
       "      <td>153.0</td>\n",
       "      <td>4.188743e+07</td>\n",
       "      <td>2.956290e+06</td>\n",
       "      <td>16228771.0</td>\n",
       "      <td>41947416.00</td>\n",
       "      <td>42141559.0</td>\n",
       "      <td>42523797.00</td>\n",
       "      <td>42774205.0</td>\n",
       "      <td>153.0</td>\n",
       "      <td>1.324224e+06</td>\n",
       "      <td>6.233411e+05</td>\n",
       "      <td>7.274000e+04</td>\n",
       "      <td>1039490.00</td>\n",
       "      <td>1272655.0</td>\n",
       "      <td>1591268.00</td>\n",
       "      <td>4160681.0</td>\n",
       "    </tr>\n",
       "    <tr>\n",
       "      <th>DOT</th>\n",
       "      <td>287020.0</td>\n",
       "      <td>3.300320e+07</td>\n",
       "      <td>1.297234e+07</td>\n",
       "      <td>15631032.0</td>\n",
       "      <td>16695578.25</td>\n",
       "      <td>42078623.5</td>\n",
       "      <td>43372586.25</td>\n",
       "      <td>47297871.0</td>\n",
       "      <td>283114.0</td>\n",
       "      <td>4.447302e+05</td>\n",
       "      <td>2.334457e+06</td>\n",
       "      <td>-1.589760e+07</td>\n",
       "      <td>0.00</td>\n",
       "      <td>62663.0</td>\n",
       "      <td>293590.25</td>\n",
       "      <td>156955837.0</td>\n",
       "    </tr>\n",
       "    <tr>\n",
       "      <th>DPR</th>\n",
       "      <td>13467.0</td>\n",
       "      <td>4.232205e+07</td>\n",
       "      <td>1.051000e+06</td>\n",
       "      <td>15901928.0</td>\n",
       "      <td>42005331.00</td>\n",
       "      <td>42252786.0</td>\n",
       "      <td>42675024.50</td>\n",
       "      <td>47919087.0</td>\n",
       "      <td>13454.0</td>\n",
       "      <td>7.762200e+05</td>\n",
       "      <td>2.302107e+06</td>\n",
       "      <td>0.000000e+00</td>\n",
       "      <td>78641.50</td>\n",
       "      <td>246899.5</td>\n",
       "      <td>631218.25</td>\n",
       "      <td>117249740.0</td>\n",
       "    </tr>\n",
       "    <tr>\n",
       "      <th>DSNY</th>\n",
       "      <td>269979.0</td>\n",
       "      <td>3.563467e+07</td>\n",
       "      <td>1.177808e+07</td>\n",
       "      <td>15636100.0</td>\n",
       "      <td>18481554.00</td>\n",
       "      <td>42231260.0</td>\n",
       "      <td>42963661.50</td>\n",
       "      <td>49497177.0</td>\n",
       "      <td>268788.0</td>\n",
       "      <td>3.849571e+05</td>\n",
       "      <td>1.702937e+06</td>\n",
       "      <td>0.000000e+00</td>\n",
       "      <td>90120.00</td>\n",
       "      <td>175920.0</td>\n",
       "      <td>346275.00</td>\n",
       "      <td>75607140.0</td>\n",
       "    </tr>\n",
       "    <tr>\n",
       "      <th>DVS</th>\n",
       "      <td>120.0</td>\n",
       "      <td>4.290163e+07</td>\n",
       "      <td>3.419230e+03</td>\n",
       "      <td>42895943.0</td>\n",
       "      <td>42898976.75</td>\n",
       "      <td>42901837.5</td>\n",
       "      <td>42904799.25</td>\n",
       "      <td>42906250.0</td>\n",
       "      <td>0.0</td>\n",
       "      <td>NaN</td>\n",
       "      <td>NaN</td>\n",
       "      <td>NaN</td>\n",
       "      <td>NaN</td>\n",
       "      <td>NaN</td>\n",
       "      <td>NaN</td>\n",
       "      <td>NaN</td>\n",
       "    </tr>\n",
       "    <tr>\n",
       "      <th>EDC</th>\n",
       "      <td>148.0</td>\n",
       "      <td>4.201400e+07</td>\n",
       "      <td>1.356752e+05</td>\n",
       "      <td>41698232.0</td>\n",
       "      <td>41924544.00</td>\n",
       "      <td>42037413.0</td>\n",
       "      <td>42117198.50</td>\n",
       "      <td>42224486.0</td>\n",
       "      <td>148.0</td>\n",
       "      <td>1.826095e+06</td>\n",
       "      <td>8.587158e+05</td>\n",
       "      <td>1.600480e+05</td>\n",
       "      <td>1144597.75</td>\n",
       "      <td>1644113.0</td>\n",
       "      <td>2669380.25</td>\n",
       "      <td>3860834.0</td>\n",
       "    </tr>\n",
       "    <tr>\n",
       "      <th>HPD</th>\n",
       "      <td>814775.0</td>\n",
       "      <td>2.967555e+07</td>\n",
       "      <td>1.343032e+07</td>\n",
       "      <td>15629728.0</td>\n",
       "      <td>16349373.50</td>\n",
       "      <td>18617074.0</td>\n",
       "      <td>43040604.50</td>\n",
       "      <td>47221250.0</td>\n",
       "      <td>813710.0</td>\n",
       "      <td>1.077827e+06</td>\n",
       "      <td>2.080049e+06</td>\n",
       "      <td>-3.456000e+05</td>\n",
       "      <td>239863.25</td>\n",
       "      <td>518400.0</td>\n",
       "      <td>1382400.00</td>\n",
       "      <td>84931200.0</td>\n",
       "    </tr>\n",
       "    <tr>\n",
       "      <th>NYPD</th>\n",
       "      <td>261794.0</td>\n",
       "      <td>4.233965e+07</td>\n",
       "      <td>6.268887e+05</td>\n",
       "      <td>15650160.0</td>\n",
       "      <td>42022006.25</td>\n",
       "      <td>42276206.0</td>\n",
       "      <td>42709748.75</td>\n",
       "      <td>47315114.0</td>\n",
       "      <td>261794.0</td>\n",
       "      <td>1.504997e+04</td>\n",
       "      <td>3.198524e+04</td>\n",
       "      <td>1.010000e+02</td>\n",
       "      <td>4247.00</td>\n",
       "      <td>9167.0</td>\n",
       "      <td>17981.00</td>\n",
       "      <td>2712997.0</td>\n",
       "    </tr>\n",
       "    <tr>\n",
       "      <th>TAX</th>\n",
       "      <td>86.0</td>\n",
       "      <td>4.235259e+07</td>\n",
       "      <td>4.437092e+05</td>\n",
       "      <td>41697670.0</td>\n",
       "      <td>41944663.25</td>\n",
       "      <td>42253204.5</td>\n",
       "      <td>42799701.00</td>\n",
       "      <td>42976519.0</td>\n",
       "      <td>0.0</td>\n",
       "      <td>NaN</td>\n",
       "      <td>NaN</td>\n",
       "      <td>NaN</td>\n",
       "      <td>NaN</td>\n",
       "      <td>NaN</td>\n",
       "      <td>NaN</td>\n",
       "      <td>NaN</td>\n",
       "    </tr>\n",
       "    <tr>\n",
       "      <th>TLC</th>\n",
       "      <td>3103.0</td>\n",
       "      <td>4.170066e+07</td>\n",
       "      <td>3.190444e+06</td>\n",
       "      <td>15647824.0</td>\n",
       "      <td>41886111.50</td>\n",
       "      <td>42035341.0</td>\n",
       "      <td>42202861.50</td>\n",
       "      <td>43125447.0</td>\n",
       "      <td>3103.0</td>\n",
       "      <td>3.671171e+06</td>\n",
       "      <td>3.044797e+06</td>\n",
       "      <td>1.000000e+00</td>\n",
       "      <td>179124.00</td>\n",
       "      <td>3848216.0</td>\n",
       "      <td>6209750.00</td>\n",
       "      <td>23886186.0</td>\n",
       "    </tr>\n",
       "  </tbody>\n",
       "</table>\n",
       "</div>"
      ],
      "text/plain": [
       "       unique_key                                                       \\\n",
       "            count          mean           std         min          25%   \n",
       "agency                                                                   \n",
       "ACS         117.0  4.229530e+07  4.093072e+05  41710210.0  41912271.00   \n",
       "COIB          4.0  4.258125e+07  2.678087e+05  42258386.0  42415141.25   \n",
       "DCA        4240.0  4.218055e+07  1.262790e+06  15773785.0  41946836.75   \n",
       "DCAS        280.0  4.229537e+07  4.011786e+05  41700997.0  41959548.25   \n",
       "DCP           9.0  4.238449e+07  5.212491e+05  41717530.0  41947840.00   \n",
       "DEP      119455.0  4.285930e+07  3.009645e+06  15635861.0  42252954.00   \n",
       "DFTA       2286.0  4.221565e+07  3.325507e+05  41694656.0  41934018.50   \n",
       "DHS         483.0  4.232518e+07  4.305532e+05  41696926.0  42134661.50   \n",
       "DOB      209122.0  3.432049e+07  1.231766e+07  15636311.0  18254053.25   \n",
       "DOE         359.0  4.253006e+07  1.913849e+06  18658028.0  41951006.00   \n",
       "DOF        2408.0  4.206774e+07  7.601930e+05  31835193.0  41912167.75   \n",
       "DOHMH     10592.0  4.209561e+07  8.500494e+05  15634405.0  41912483.75   \n",
       "DOITT       153.0  4.188743e+07  2.956290e+06  16228771.0  41947416.00   \n",
       "DOT      287020.0  3.300320e+07  1.297234e+07  15631032.0  16695578.25   \n",
       "DPR       13467.0  4.232205e+07  1.051000e+06  15901928.0  42005331.00   \n",
       "DSNY     269979.0  3.563467e+07  1.177808e+07  15636100.0  18481554.00   \n",
       "DVS         120.0  4.290163e+07  3.419230e+03  42895943.0  42898976.75   \n",
       "EDC         148.0  4.201400e+07  1.356752e+05  41698232.0  41924544.00   \n",
       "HPD      814775.0  2.967555e+07  1.343032e+07  15629728.0  16349373.50   \n",
       "NYPD     261794.0  4.233965e+07  6.268887e+05  15650160.0  42022006.25   \n",
       "TAX          86.0  4.235259e+07  4.437092e+05  41697670.0  41944663.25   \n",
       "TLC        3103.0  4.170066e+07  3.190444e+06  15647824.0  41886111.50   \n",
       "\n",
       "                                            time_to_fix                \\\n",
       "               50%          75%         max       count          mean   \n",
       "agency                                                                  \n",
       "ACS     42209401.0  42700716.00  42974968.0         0.0           NaN   \n",
       "COIB    42615467.5  42781574.00  42835670.0         0.0           NaN   \n",
       "DCA     42169763.0  42596068.50  42893918.0      4240.0  7.218840e+05   \n",
       "DCAS    42188893.0  42678320.75  42970700.0         0.0           NaN   \n",
       "DCP     42704587.0  42807355.00  42904520.0         0.0           NaN   \n",
       "DEP     42988461.0  43859251.00  47371726.0    117430.0  5.005384e+05   \n",
       "DFTA    42158801.5  42532731.50  42886759.0      2286.0  9.755638e+05   \n",
       "DHS     42241013.0  42298694.50  47878609.0       482.0  1.111270e+04   \n",
       "DOB     42382270.0  42868592.25  47238123.0    209122.0  5.206282e+06   \n",
       "DOE     42141178.0  42599961.50  48376037.0       354.0  1.875025e+06   \n",
       "DOF     42076702.5  42295510.25  43048380.0      2408.0  1.308866e+06   \n",
       "DOHMH   42062898.5  42226810.25  43140933.0     10509.0  6.797598e+05   \n",
       "DOITT   42141559.0  42523797.00  42774205.0       153.0  1.324224e+06   \n",
       "DOT     42078623.5  43372586.25  47297871.0    283114.0  4.447302e+05   \n",
       "DPR     42252786.0  42675024.50  47919087.0     13454.0  7.762200e+05   \n",
       "DSNY    42231260.0  42963661.50  49497177.0    268788.0  3.849571e+05   \n",
       "DVS     42901837.5  42904799.25  42906250.0         0.0           NaN   \n",
       "EDC     42037413.0  42117198.50  42224486.0       148.0  1.826095e+06   \n",
       "HPD     18617074.0  43040604.50  47221250.0    813710.0  1.077827e+06   \n",
       "NYPD    42276206.0  42709748.75  47315114.0    261794.0  1.504997e+04   \n",
       "TAX     42253204.5  42799701.00  42976519.0         0.0           NaN   \n",
       "TLC     42035341.0  42202861.50  43125447.0      3103.0  3.671171e+06   \n",
       "\n",
       "                                                                       \\\n",
       "                 std           min         25%        50%         75%   \n",
       "agency                                                                  \n",
       "ACS              NaN           NaN         NaN        NaN         NaN   \n",
       "COIB             NaN           NaN         NaN        NaN         NaN   \n",
       "DCA     1.244500e+06  1.441000e+03    99508.50   310351.0  1333903.25   \n",
       "DCAS             NaN           NaN         NaN        NaN         NaN   \n",
       "DCP              NaN           NaN         NaN        NaN         NaN   \n",
       "DEP     2.957463e+06 -1.084800e+05    10080.00    79440.0   284265.00   \n",
       "DFTA    3.716805e+05  2.568000e+03   778443.75  1057014.5  1211342.75   \n",
       "DHS     1.890682e+04  4.000000e+01      998.75     4383.0    11147.00   \n",
       "DOB     1.803424e+07  0.000000e+00    34830.00   889639.5  4096625.00   \n",
       "DOE     6.358730e+06  5.760000e+02   106154.25   361143.0   710333.50   \n",
       "DOF     1.278831e+06  8.700000e+01   214148.00   939321.0  2077401.75   \n",
       "DOHMH   3.403475e+07 -3.483707e+09    19200.00   297188.0   932782.00   \n",
       "DOITT   6.233411e+05  7.274000e+04  1039490.00  1272655.0  1591268.00   \n",
       "DOT     2.334457e+06 -1.589760e+07        0.00    62663.0   293590.25   \n",
       "DPR     2.302107e+06  0.000000e+00    78641.50   246899.5   631218.25   \n",
       "DSNY    1.702937e+06  0.000000e+00    90120.00   175920.0   346275.00   \n",
       "DVS              NaN           NaN         NaN        NaN         NaN   \n",
       "EDC     8.587158e+05  1.600480e+05  1144597.75  1644113.0  2669380.25   \n",
       "HPD     2.080049e+06 -3.456000e+05   239863.25   518400.0  1382400.00   \n",
       "NYPD    3.198524e+04  1.010000e+02     4247.00     9167.0    17981.00   \n",
       "TAX              NaN           NaN         NaN        NaN         NaN   \n",
       "TLC     3.044797e+06  1.000000e+00   179124.00  3848216.0  6209750.00   \n",
       "\n",
       "                     \n",
       "                max  \n",
       "agency               \n",
       "ACS             NaN  \n",
       "COIB            NaN  \n",
       "DCA      46468873.0  \n",
       "DCAS            NaN  \n",
       "DCP             NaN  \n",
       "DEP     264957600.0  \n",
       "DFTA      2915165.0  \n",
       "DHS        215122.0  \n",
       "DOB     366913215.0  \n",
       "DOE      40509586.0  \n",
       "DOF       6218183.0  \n",
       "DOHMH    19700442.0  \n",
       "DOITT     4160681.0  \n",
       "DOT     156955837.0  \n",
       "DPR     117249740.0  \n",
       "DSNY     75607140.0  \n",
       "DVS             NaN  \n",
       "EDC       3860834.0  \n",
       "HPD      84931200.0  \n",
       "NYPD      2712997.0  \n",
       "TAX             NaN  \n",
       "TLC      23886186.0  "
      ]
     },
     "execution_count": 34,
     "metadata": {},
     "output_type": "execute_result"
    }
   ],
   "source": [
    "df.groupby(by='agency').describe()"
   ]
  },
  {
   "cell_type": "markdown",
   "id": "d9805543",
   "metadata": {},
   "source": [
    "### Now, an alternative\n",
    "\n",
    "Seems a little busy, yeah? **You can also do smaller, custom aggregations.**\n",
    "\n",
    "Try something like this:\n",
    "\n",
    "```python\n",
    "# Multiple aggregations of one column\n",
    "df.groupby('agency').time_to_fix.agg(['median', 'size'])\n",
    "\n",
    "# You can also do something like this to reach multiple columns\n",
    "df.groupby('agency').agg({\n",
    "    'time_to_fix': ['median', 'size']\n",
    "})\n",
    "```"
   ]
  },
  {
   "cell_type": "code",
   "execution_count": 35,
   "id": "90413000",
   "metadata": {},
   "outputs": [
    {
     "data": {
      "text/html": [
       "<div>\n",
       "<style scoped>\n",
       "    .dataframe tbody tr th:only-of-type {\n",
       "        vertical-align: middle;\n",
       "    }\n",
       "\n",
       "    .dataframe tbody tr th {\n",
       "        vertical-align: top;\n",
       "    }\n",
       "\n",
       "    .dataframe thead th {\n",
       "        text-align: right;\n",
       "    }\n",
       "</style>\n",
       "<table border=\"1\" class=\"dataframe\">\n",
       "  <thead>\n",
       "    <tr style=\"text-align: right;\">\n",
       "      <th></th>\n",
       "      <th>median</th>\n",
       "      <th>size</th>\n",
       "    </tr>\n",
       "    <tr>\n",
       "      <th>agency</th>\n",
       "      <th></th>\n",
       "      <th></th>\n",
       "    </tr>\n",
       "  </thead>\n",
       "  <tbody>\n",
       "    <tr>\n",
       "      <th>ACS</th>\n",
       "      <td>NaN</td>\n",
       "      <td>117</td>\n",
       "    </tr>\n",
       "    <tr>\n",
       "      <th>COIB</th>\n",
       "      <td>NaN</td>\n",
       "      <td>4</td>\n",
       "    </tr>\n",
       "    <tr>\n",
       "      <th>DCA</th>\n",
       "      <td>310351.0</td>\n",
       "      <td>4240</td>\n",
       "    </tr>\n",
       "    <tr>\n",
       "      <th>DCAS</th>\n",
       "      <td>NaN</td>\n",
       "      <td>280</td>\n",
       "    </tr>\n",
       "    <tr>\n",
       "      <th>DCP</th>\n",
       "      <td>NaN</td>\n",
       "      <td>9</td>\n",
       "    </tr>\n",
       "    <tr>\n",
       "      <th>DEP</th>\n",
       "      <td>79440.0</td>\n",
       "      <td>119455</td>\n",
       "    </tr>\n",
       "    <tr>\n",
       "      <th>DFTA</th>\n",
       "      <td>1057014.5</td>\n",
       "      <td>2286</td>\n",
       "    </tr>\n",
       "    <tr>\n",
       "      <th>DHS</th>\n",
       "      <td>4383.0</td>\n",
       "      <td>483</td>\n",
       "    </tr>\n",
       "    <tr>\n",
       "      <th>DOB</th>\n",
       "      <td>889639.5</td>\n",
       "      <td>209122</td>\n",
       "    </tr>\n",
       "    <tr>\n",
       "      <th>DOE</th>\n",
       "      <td>361143.0</td>\n",
       "      <td>359</td>\n",
       "    </tr>\n",
       "    <tr>\n",
       "      <th>DOF</th>\n",
       "      <td>939321.0</td>\n",
       "      <td>2408</td>\n",
       "    </tr>\n",
       "    <tr>\n",
       "      <th>DOHMH</th>\n",
       "      <td>297188.0</td>\n",
       "      <td>10592</td>\n",
       "    </tr>\n",
       "    <tr>\n",
       "      <th>DOITT</th>\n",
       "      <td>1272655.0</td>\n",
       "      <td>153</td>\n",
       "    </tr>\n",
       "    <tr>\n",
       "      <th>DOT</th>\n",
       "      <td>62663.0</td>\n",
       "      <td>287020</td>\n",
       "    </tr>\n",
       "    <tr>\n",
       "      <th>DPR</th>\n",
       "      <td>246899.5</td>\n",
       "      <td>13467</td>\n",
       "    </tr>\n",
       "    <tr>\n",
       "      <th>DSNY</th>\n",
       "      <td>175920.0</td>\n",
       "      <td>269979</td>\n",
       "    </tr>\n",
       "    <tr>\n",
       "      <th>DVS</th>\n",
       "      <td>NaN</td>\n",
       "      <td>120</td>\n",
       "    </tr>\n",
       "    <tr>\n",
       "      <th>EDC</th>\n",
       "      <td>1644113.0</td>\n",
       "      <td>148</td>\n",
       "    </tr>\n",
       "    <tr>\n",
       "      <th>HPD</th>\n",
       "      <td>518400.0</td>\n",
       "      <td>814775</td>\n",
       "    </tr>\n",
       "    <tr>\n",
       "      <th>NYPD</th>\n",
       "      <td>9167.0</td>\n",
       "      <td>261794</td>\n",
       "    </tr>\n",
       "    <tr>\n",
       "      <th>TAX</th>\n",
       "      <td>NaN</td>\n",
       "      <td>86</td>\n",
       "    </tr>\n",
       "    <tr>\n",
       "      <th>TLC</th>\n",
       "      <td>3848216.0</td>\n",
       "      <td>3103</td>\n",
       "    </tr>\n",
       "  </tbody>\n",
       "</table>\n",
       "</div>"
      ],
      "text/plain": [
       "           median    size\n",
       "agency                   \n",
       "ACS           NaN     117\n",
       "COIB          NaN       4\n",
       "DCA      310351.0    4240\n",
       "DCAS          NaN     280\n",
       "DCP           NaN       9\n",
       "DEP       79440.0  119455\n",
       "DFTA    1057014.5    2286\n",
       "DHS        4383.0     483\n",
       "DOB      889639.5  209122\n",
       "DOE      361143.0     359\n",
       "DOF      939321.0    2408\n",
       "DOHMH    297188.0   10592\n",
       "DOITT   1272655.0     153\n",
       "DOT       62663.0  287020\n",
       "DPR      246899.5   13467\n",
       "DSNY     175920.0  269979\n",
       "DVS           NaN     120\n",
       "EDC     1644113.0     148\n",
       "HPD      518400.0  814775\n",
       "NYPD       9167.0  261794\n",
       "TAX           NaN      86\n",
       "TLC     3848216.0    3103"
      ]
     },
     "execution_count": 35,
     "metadata": {},
     "output_type": "execute_result"
    }
   ],
   "source": [
    "df.groupby('agency').time_to_fix.agg(['median', 'size'])"
   ]
  },
  {
   "cell_type": "code",
   "execution_count": 36,
   "id": "a0ee267d",
   "metadata": {},
   "outputs": [
    {
     "data": {
      "text/html": [
       "<div>\n",
       "<style scoped>\n",
       "    .dataframe tbody tr th:only-of-type {\n",
       "        vertical-align: middle;\n",
       "    }\n",
       "\n",
       "    .dataframe tbody tr th {\n",
       "        vertical-align: top;\n",
       "    }\n",
       "\n",
       "    .dataframe thead tr th {\n",
       "        text-align: left;\n",
       "    }\n",
       "\n",
       "    .dataframe thead tr:last-of-type th {\n",
       "        text-align: right;\n",
       "    }\n",
       "</style>\n",
       "<table border=\"1\" class=\"dataframe\">\n",
       "  <thead>\n",
       "    <tr>\n",
       "      <th></th>\n",
       "      <th colspan=\"2\" halign=\"left\">time_to_fix</th>\n",
       "    </tr>\n",
       "    <tr>\n",
       "      <th></th>\n",
       "      <th>median</th>\n",
       "      <th>size</th>\n",
       "    </tr>\n",
       "    <tr>\n",
       "      <th>agency</th>\n",
       "      <th></th>\n",
       "      <th></th>\n",
       "    </tr>\n",
       "  </thead>\n",
       "  <tbody>\n",
       "    <tr>\n",
       "      <th>ACS</th>\n",
       "      <td>NaN</td>\n",
       "      <td>117</td>\n",
       "    </tr>\n",
       "    <tr>\n",
       "      <th>COIB</th>\n",
       "      <td>NaN</td>\n",
       "      <td>4</td>\n",
       "    </tr>\n",
       "    <tr>\n",
       "      <th>DCA</th>\n",
       "      <td>310351.0</td>\n",
       "      <td>4240</td>\n",
       "    </tr>\n",
       "    <tr>\n",
       "      <th>DCAS</th>\n",
       "      <td>NaN</td>\n",
       "      <td>280</td>\n",
       "    </tr>\n",
       "    <tr>\n",
       "      <th>DCP</th>\n",
       "      <td>NaN</td>\n",
       "      <td>9</td>\n",
       "    </tr>\n",
       "    <tr>\n",
       "      <th>DEP</th>\n",
       "      <td>79440.0</td>\n",
       "      <td>119455</td>\n",
       "    </tr>\n",
       "    <tr>\n",
       "      <th>DFTA</th>\n",
       "      <td>1057014.5</td>\n",
       "      <td>2286</td>\n",
       "    </tr>\n",
       "    <tr>\n",
       "      <th>DHS</th>\n",
       "      <td>4383.0</td>\n",
       "      <td>483</td>\n",
       "    </tr>\n",
       "    <tr>\n",
       "      <th>DOB</th>\n",
       "      <td>889639.5</td>\n",
       "      <td>209122</td>\n",
       "    </tr>\n",
       "    <tr>\n",
       "      <th>DOE</th>\n",
       "      <td>361143.0</td>\n",
       "      <td>359</td>\n",
       "    </tr>\n",
       "    <tr>\n",
       "      <th>DOF</th>\n",
       "      <td>939321.0</td>\n",
       "      <td>2408</td>\n",
       "    </tr>\n",
       "    <tr>\n",
       "      <th>DOHMH</th>\n",
       "      <td>297188.0</td>\n",
       "      <td>10592</td>\n",
       "    </tr>\n",
       "    <tr>\n",
       "      <th>DOITT</th>\n",
       "      <td>1272655.0</td>\n",
       "      <td>153</td>\n",
       "    </tr>\n",
       "    <tr>\n",
       "      <th>DOT</th>\n",
       "      <td>62663.0</td>\n",
       "      <td>287020</td>\n",
       "    </tr>\n",
       "    <tr>\n",
       "      <th>DPR</th>\n",
       "      <td>246899.5</td>\n",
       "      <td>13467</td>\n",
       "    </tr>\n",
       "    <tr>\n",
       "      <th>DSNY</th>\n",
       "      <td>175920.0</td>\n",
       "      <td>269979</td>\n",
       "    </tr>\n",
       "    <tr>\n",
       "      <th>DVS</th>\n",
       "      <td>NaN</td>\n",
       "      <td>120</td>\n",
       "    </tr>\n",
       "    <tr>\n",
       "      <th>EDC</th>\n",
       "      <td>1644113.0</td>\n",
       "      <td>148</td>\n",
       "    </tr>\n",
       "    <tr>\n",
       "      <th>HPD</th>\n",
       "      <td>518400.0</td>\n",
       "      <td>814775</td>\n",
       "    </tr>\n",
       "    <tr>\n",
       "      <th>NYPD</th>\n",
       "      <td>9167.0</td>\n",
       "      <td>261794</td>\n",
       "    </tr>\n",
       "    <tr>\n",
       "      <th>TAX</th>\n",
       "      <td>NaN</td>\n",
       "      <td>86</td>\n",
       "    </tr>\n",
       "    <tr>\n",
       "      <th>TLC</th>\n",
       "      <td>3848216.0</td>\n",
       "      <td>3103</td>\n",
       "    </tr>\n",
       "  </tbody>\n",
       "</table>\n",
       "</div>"
      ],
      "text/plain": [
       "       time_to_fix        \n",
       "            median    size\n",
       "agency                    \n",
       "ACS            NaN     117\n",
       "COIB           NaN       4\n",
       "DCA       310351.0    4240\n",
       "DCAS           NaN     280\n",
       "DCP            NaN       9\n",
       "DEP        79440.0  119455\n",
       "DFTA     1057014.5    2286\n",
       "DHS         4383.0     483\n",
       "DOB       889639.5  209122\n",
       "DOE       361143.0     359\n",
       "DOF       939321.0    2408\n",
       "DOHMH     297188.0   10592\n",
       "DOITT    1272655.0     153\n",
       "DOT        62663.0  287020\n",
       "DPR       246899.5   13467\n",
       "DSNY      175920.0  269979\n",
       "DVS            NaN     120\n",
       "EDC      1644113.0     148\n",
       "HPD       518400.0  814775\n",
       "NYPD        9167.0  261794\n",
       "TAX            NaN      86\n",
       "TLC      3848216.0    3103"
      ]
     },
     "execution_count": 36,
     "metadata": {},
     "output_type": "execute_result"
    }
   ],
   "source": [
    "df.groupby('agency').agg({\n",
    "    'time_to_fix': ['median', 'size']\n",
    "})"
   ]
  },
  {
   "cell_type": "markdown",
   "id": "d1cf1865",
   "metadata": {},
   "source": [
    "## Seems weird that NYPD time-to-close is so fast. Can we break that down by complaint type?\n",
    "\n",
    "Remember the order: \n",
    "\n",
    "1. Filter\n",
    "2. Group\n",
    "3. Grab a column\n",
    "4. Do something with it\n",
    "5. Sort"
   ]
  },
  {
   "cell_type": "code",
   "execution_count": 37,
   "id": "11c4f90f",
   "metadata": {},
   "outputs": [
    {
     "data": {
      "text/plain": [
       "complaint_type\n",
       "Illegal Fireworks               5085.5\n",
       "Noise - Vehicle                 5937.0\n",
       "Traffic                         6653.0\n",
       "Noise - House of Worship        6922.0\n",
       "Traffic/Illegal Parking         6949.0\n",
       "Bike/Roller/Skate Chronic       7109.0\n",
       "Noise - Park                    7215.0\n",
       "Noise - Commercial              7257.0\n",
       "Noise - Street/Sidewalk         7440.0\n",
       "Non-Emergency Police Matter     8541.0\n",
       "Drinking                        8573.5\n",
       "Urinating in Public             8587.0\n",
       "Noise - Residential             8827.0\n",
       "Vending                         8975.5\n",
       "Panhandling                     9034.0\n",
       "Disorderly Youth                9244.0\n",
       "Homeless Encampment             9814.0\n",
       "Illegal Parking                 9936.0\n",
       "Graffiti                       10266.0\n",
       "Blocked Driveway               11287.0\n",
       "Drug Activity                  11631.0\n",
       "Posting Advertisement          11717.0\n",
       "Animal Abuse                   11855.5\n",
       "Derelict Vehicle               13352.0\n",
       "Name: time_to_fix, dtype: float64"
      ]
     },
     "execution_count": 37,
     "metadata": {},
     "output_type": "execute_result"
    }
   ],
   "source": [
    "df[df.agency =='NYPD'].groupby(by='complaint_type').time_to_fix.median().sort_values()\n",
    "\n"
   ]
  },
  {
   "cell_type": "markdown",
   "id": "c5b5caf5",
   "metadata": {},
   "source": [
    "## Back to median fix time for all agencies: do these values change based on the borough?\n",
    "\n",
    "First, use `groupby` to get the median time to fix per agency in each borough. You can use something like `pd.set_option(\"display.max_rows\", 200)` if you can't see all of the results by default!"
   ]
  },
  {
   "cell_type": "code",
   "execution_count": 38,
   "id": "0da1a9f5",
   "metadata": {},
   "outputs": [
    {
     "data": {
      "text/html": [
       "<div>\n",
       "<style scoped>\n",
       "    .dataframe tbody tr th:only-of-type {\n",
       "        vertical-align: middle;\n",
       "    }\n",
       "\n",
       "    .dataframe tbody tr th {\n",
       "        vertical-align: top;\n",
       "    }\n",
       "\n",
       "    .dataframe thead th {\n",
       "        text-align: right;\n",
       "    }\n",
       "</style>\n",
       "<table border=\"1\" class=\"dataframe\">\n",
       "  <thead>\n",
       "    <tr style=\"text-align: right;\">\n",
       "      <th></th>\n",
       "      <th>unique_key</th>\n",
       "      <th>created_date</th>\n",
       "      <th>closed_date</th>\n",
       "      <th>agency</th>\n",
       "      <th>agency_name</th>\n",
       "      <th>complaint_type</th>\n",
       "      <th>descriptor</th>\n",
       "      <th>location_type</th>\n",
       "      <th>incident_zip</th>\n",
       "      <th>incident_address</th>\n",
       "      <th>address_type</th>\n",
       "      <th>city</th>\n",
       "      <th>status</th>\n",
       "      <th>borough</th>\n",
       "      <th>open_data_channel_type</th>\n",
       "      <th>create_date_dtime</th>\n",
       "      <th>closed_date_dtime</th>\n",
       "      <th>time_to_fix</th>\n",
       "    </tr>\n",
       "  </thead>\n",
       "  <tbody>\n",
       "    <tr>\n",
       "      <th>0</th>\n",
       "      <td>41694420</td>\n",
       "      <td>01/27/2019 07:26:21 PM</td>\n",
       "      <td>02/13/2019 10:53:25 AM</td>\n",
       "      <td>HPD</td>\n",
       "      <td>Department of Housing Preservation and Develop...</td>\n",
       "      <td>GENERAL</td>\n",
       "      <td>BELL/BUZZER/INTERCOM</td>\n",
       "      <td>RESIDENTIAL BUILDING</td>\n",
       "      <td>11216</td>\n",
       "      <td>30 MAC DONOUGH STREET</td>\n",
       "      <td>ADDRESS</td>\n",
       "      <td>BROOKLYN</td>\n",
       "      <td>Closed</td>\n",
       "      <td>BROOKLYN</td>\n",
       "      <td>PHONE</td>\n",
       "      <td>2019-01-27 19:26:21</td>\n",
       "      <td>2019-02-13 10:53:25</td>\n",
       "      <td>1438024.0</td>\n",
       "    </tr>\n",
       "    <tr>\n",
       "      <th>1</th>\n",
       "      <td>41694421</td>\n",
       "      <td>01/29/2019 11:06:56 AM</td>\n",
       "      <td>02/13/2019 02:07:22 AM</td>\n",
       "      <td>HPD</td>\n",
       "      <td>Department of Housing Preservation and Develop...</td>\n",
       "      <td>PAINT/PLASTER</td>\n",
       "      <td>CEILING</td>\n",
       "      <td>RESIDENTIAL BUILDING</td>\n",
       "      <td>10453</td>\n",
       "      <td>30 RICHMAN PLAZA</td>\n",
       "      <td>ADDRESS</td>\n",
       "      <td>BRONX</td>\n",
       "      <td>Closed</td>\n",
       "      <td>BRONX</td>\n",
       "      <td>PHONE</td>\n",
       "      <td>2019-01-29 11:06:56</td>\n",
       "      <td>2019-02-13 02:07:22</td>\n",
       "      <td>1263626.0</td>\n",
       "    </tr>\n",
       "    <tr>\n",
       "      <th>2</th>\n",
       "      <td>41694422</td>\n",
       "      <td>02/13/2019 12:28:18 PM</td>\n",
       "      <td>03/15/2019 09:54:50 AM</td>\n",
       "      <td>DOF</td>\n",
       "      <td>External Affairs Unit</td>\n",
       "      <td>DOF Property - Payment Issue</td>\n",
       "      <td>Bill Received in Error</td>\n",
       "      <td>Property Address</td>\n",
       "      <td>11412</td>\n",
       "      <td>120-25 200 STREET</td>\n",
       "      <td>ADDRESS</td>\n",
       "      <td>SAINT ALBANS</td>\n",
       "      <td>Closed</td>\n",
       "      <td>QUEENS</td>\n",
       "      <td>PHONE</td>\n",
       "      <td>2019-02-13 12:28:18</td>\n",
       "      <td>2019-03-15 09:54:50</td>\n",
       "      <td>2582792.0</td>\n",
       "    </tr>\n",
       "    <tr>\n",
       "      <th>3</th>\n",
       "      <td>41694423</td>\n",
       "      <td>02/13/2019 03:40:19 PM</td>\n",
       "      <td>02/20/2019 06:18:35 AM</td>\n",
       "      <td>DOT</td>\n",
       "      <td>Department of Transportation</td>\n",
       "      <td>Broken Parking Meter</td>\n",
       "      <td>Out of Order</td>\n",
       "      <td>Street</td>\n",
       "      <td>11377</td>\n",
       "      <td>NaN</td>\n",
       "      <td>INTERSECTION</td>\n",
       "      <td>WOODSIDE</td>\n",
       "      <td>Closed</td>\n",
       "      <td>QUEENS</td>\n",
       "      <td>PHONE</td>\n",
       "      <td>2019-02-13 15:40:19</td>\n",
       "      <td>2019-02-20 06:18:35</td>\n",
       "      <td>571096.0</td>\n",
       "    </tr>\n",
       "    <tr>\n",
       "      <th>4</th>\n",
       "      <td>41694424</td>\n",
       "      <td>02/13/2019 01:18:31 PM</td>\n",
       "      <td>02/20/2019 05:36:54 AM</td>\n",
       "      <td>DOT</td>\n",
       "      <td>Department of Transportation</td>\n",
       "      <td>Broken Parking Meter</td>\n",
       "      <td>Out of Order</td>\n",
       "      <td>Street</td>\n",
       "      <td>10461</td>\n",
       "      <td>1082 MORRIS PARK AVENUE</td>\n",
       "      <td>ADDRESS</td>\n",
       "      <td>BRONX</td>\n",
       "      <td>Closed</td>\n",
       "      <td>BRONX</td>\n",
       "      <td>PHONE</td>\n",
       "      <td>2019-02-13 13:18:31</td>\n",
       "      <td>2019-02-20 05:36:54</td>\n",
       "      <td>577103.0</td>\n",
       "    </tr>\n",
       "  </tbody>\n",
       "</table>\n",
       "</div>"
      ],
      "text/plain": [
       "   unique_key            created_date             closed_date agency  \\\n",
       "0    41694420  01/27/2019 07:26:21 PM  02/13/2019 10:53:25 AM    HPD   \n",
       "1    41694421  01/29/2019 11:06:56 AM  02/13/2019 02:07:22 AM    HPD   \n",
       "2    41694422  02/13/2019 12:28:18 PM  03/15/2019 09:54:50 AM    DOF   \n",
       "3    41694423  02/13/2019 03:40:19 PM  02/20/2019 06:18:35 AM    DOT   \n",
       "4    41694424  02/13/2019 01:18:31 PM  02/20/2019 05:36:54 AM    DOT   \n",
       "\n",
       "                                         agency_name  \\\n",
       "0  Department of Housing Preservation and Develop...   \n",
       "1  Department of Housing Preservation and Develop...   \n",
       "2                              External Affairs Unit   \n",
       "3                       Department of Transportation   \n",
       "4                       Department of Transportation   \n",
       "\n",
       "                 complaint_type              descriptor         location_type  \\\n",
       "0                       GENERAL    BELL/BUZZER/INTERCOM  RESIDENTIAL BUILDING   \n",
       "1                 PAINT/PLASTER                 CEILING  RESIDENTIAL BUILDING   \n",
       "2  DOF Property - Payment Issue  Bill Received in Error      Property Address   \n",
       "3          Broken Parking Meter            Out of Order                Street   \n",
       "4          Broken Parking Meter            Out of Order                Street   \n",
       "\n",
       "  incident_zip         incident_address  address_type          city  status  \\\n",
       "0        11216    30 MAC DONOUGH STREET       ADDRESS      BROOKLYN  Closed   \n",
       "1        10453         30 RICHMAN PLAZA       ADDRESS         BRONX  Closed   \n",
       "2        11412        120-25 200 STREET       ADDRESS  SAINT ALBANS  Closed   \n",
       "3        11377                      NaN  INTERSECTION      WOODSIDE  Closed   \n",
       "4        10461  1082 MORRIS PARK AVENUE       ADDRESS         BRONX  Closed   \n",
       "\n",
       "    borough open_data_channel_type   create_date_dtime   closed_date_dtime  \\\n",
       "0  BROOKLYN                  PHONE 2019-01-27 19:26:21 2019-02-13 10:53:25   \n",
       "1     BRONX                  PHONE 2019-01-29 11:06:56 2019-02-13 02:07:22   \n",
       "2    QUEENS                  PHONE 2019-02-13 12:28:18 2019-03-15 09:54:50   \n",
       "3    QUEENS                  PHONE 2019-02-13 15:40:19 2019-02-20 06:18:35   \n",
       "4     BRONX                  PHONE 2019-02-13 13:18:31 2019-02-20 05:36:54   \n",
       "\n",
       "   time_to_fix  \n",
       "0    1438024.0  \n",
       "1    1263626.0  \n",
       "2    2582792.0  \n",
       "3     571096.0  \n",
       "4     577103.0  "
      ]
     },
     "execution_count": 38,
     "metadata": {},
     "output_type": "execute_result"
    }
   ],
   "source": [
    "df.head()"
   ]
  },
  {
   "cell_type": "code",
   "execution_count": null,
   "id": "4525d028",
   "metadata": {},
   "outputs": [],
   "source": [
    "pd.set_option(\"display.max_rows\", 200)\n",
    "\n",
    "\n",
    "# borough\n",
    "# Unspecified       58957.0\n",
    "# QUEENS            85680.0\n",
    "# MANHATTAN        102906.0\n",
    "# BROOKLYN         113220.0\n",
    "# STATEN ISLAND    140220.0\n",
    "# BRONX            180862.0\n",
    "\n",
    "df[df.borough =='QUEENS'].groupby(by='agency').time_to_fix.median().sort_values()\n",
    "df[df.borough =='MANHATTAN'].groupby(by='agency').time_to_fix.median().sort_values()\n",
    "df[df.borough =='BROOKLYN'].groupby(by='agency').time_to_fix.median().sort_values()\n",
    "df[df.borough =='STATEN ISLAND'].groupby(by='agency').time_to_fix.median().sort_values()\n",
    "df[df.borough =='BRONX'].groupby(by='agency').time_to_fix.median().sort_values()\n"
   ]
  },
  {
   "cell_type": "markdown",
   "id": "04727585",
   "metadata": {},
   "source": [
    "### Or, use another technique!"
   ]
  },
  {
   "cell_type": "markdown",
   "id": "be7a8f72",
   "metadata": {},
   "source": [
    "We talked about pivot table for a hot second in class, but it's (potentially) a good fit for this situation:\n",
    "\n",
    "```python\n",
    "df.pivot_table(\n",
    "    columns='what will show up as your columns',\n",
    "    index='what will show up as your rows',\n",
    "    values='the column that will show up in each cell',\n",
    "    aggfunc='the calculation(s) you want dont'\n",
    ")\n",
    "```"
   ]
  },
  {
   "cell_type": "code",
   "execution_count": 39,
   "id": "bcd98dc1",
   "metadata": {},
   "outputs": [
    {
     "data": {
      "text/html": [
       "<div>\n",
       "<style scoped>\n",
       "    .dataframe tbody tr th:only-of-type {\n",
       "        vertical-align: middle;\n",
       "    }\n",
       "\n",
       "    .dataframe tbody tr th {\n",
       "        vertical-align: top;\n",
       "    }\n",
       "\n",
       "    .dataframe thead th {\n",
       "        text-align: right;\n",
       "    }\n",
       "</style>\n",
       "<table border=\"1\" class=\"dataframe\">\n",
       "  <thead>\n",
       "    <tr style=\"text-align: right;\">\n",
       "      <th>borough</th>\n",
       "      <th>bronx</th>\n",
       "      <th>brooklyn</th>\n",
       "      <th>manhattan</th>\n",
       "      <th>queens</th>\n",
       "      <th>staten_island</th>\n",
       "      <th>unspecified</th>\n",
       "    </tr>\n",
       "    <tr>\n",
       "      <th>agency</th>\n",
       "      <th></th>\n",
       "      <th></th>\n",
       "      <th></th>\n",
       "      <th></th>\n",
       "      <th></th>\n",
       "      <th></th>\n",
       "    </tr>\n",
       "  </thead>\n",
       "  <tbody>\n",
       "    <tr>\n",
       "      <th>DCA</th>\n",
       "      <td>336461.0</td>\n",
       "      <td>264918.5</td>\n",
       "      <td>244253.0</td>\n",
       "      <td>332825.0</td>\n",
       "      <td>318603.0</td>\n",
       "      <td>1334579.0</td>\n",
       "    </tr>\n",
       "    <tr>\n",
       "      <th>DEP</th>\n",
       "      <td>73830.0</td>\n",
       "      <td>72480.0</td>\n",
       "      <td>103500.0</td>\n",
       "      <td>67200.0</td>\n",
       "      <td>67290.0</td>\n",
       "      <td>25920.0</td>\n",
       "    </tr>\n",
       "    <tr>\n",
       "      <th>DFTA</th>\n",
       "      <td>1109447.0</td>\n",
       "      <td>1057959.0</td>\n",
       "      <td>1048982.0</td>\n",
       "      <td>1061454.0</td>\n",
       "      <td>1127806.5</td>\n",
       "      <td>658802.0</td>\n",
       "    </tr>\n",
       "    <tr>\n",
       "      <th>DHS</th>\n",
       "      <td>4943.0</td>\n",
       "      <td>5943.0</td>\n",
       "      <td>4122.0</td>\n",
       "      <td>3056.0</td>\n",
       "      <td>15357.5</td>\n",
       "      <td>NaN</td>\n",
       "    </tr>\n",
       "    <tr>\n",
       "      <th>DOB</th>\n",
       "      <td>1255744.0</td>\n",
       "      <td>809074.0</td>\n",
       "      <td>716627.0</td>\n",
       "      <td>1003363.0</td>\n",
       "      <td>560577.0</td>\n",
       "      <td>NaN</td>\n",
       "    </tr>\n",
       "    <tr>\n",
       "      <th>DOE</th>\n",
       "      <td>330030.0</td>\n",
       "      <td>234686.0</td>\n",
       "      <td>353808.0</td>\n",
       "      <td>441562.0</td>\n",
       "      <td>666097.0</td>\n",
       "      <td>1013794.0</td>\n",
       "    </tr>\n",
       "    <tr>\n",
       "      <th>DOF</th>\n",
       "      <td>1042593.5</td>\n",
       "      <td>959311.5</td>\n",
       "      <td>791397.0</td>\n",
       "      <td>882316.0</td>\n",
       "      <td>817472.0</td>\n",
       "      <td>NaN</td>\n",
       "    </tr>\n",
       "    <tr>\n",
       "      <th>DOHMH</th>\n",
       "      <td>172800.0</td>\n",
       "      <td>345600.0</td>\n",
       "      <td>259200.0</td>\n",
       "      <td>432000.0</td>\n",
       "      <td>604800.0</td>\n",
       "      <td>1357439.0</td>\n",
       "    </tr>\n",
       "    <tr>\n",
       "      <th>DOITT</th>\n",
       "      <td>1266807.0</td>\n",
       "      <td>1202002.0</td>\n",
       "      <td>1234148.5</td>\n",
       "      <td>1395978.0</td>\n",
       "      <td>1547226.0</td>\n",
       "      <td>NaN</td>\n",
       "    </tr>\n",
       "    <tr>\n",
       "      <th>DOT</th>\n",
       "      <td>8668.0</td>\n",
       "      <td>59075.0</td>\n",
       "      <td>72051.0</td>\n",
       "      <td>67475.5</td>\n",
       "      <td>96334.0</td>\n",
       "      <td>37980.0</td>\n",
       "    </tr>\n",
       "    <tr>\n",
       "      <th>DPR</th>\n",
       "      <td>417854.0</td>\n",
       "      <td>350465.0</td>\n",
       "      <td>244148.0</td>\n",
       "      <td>174591.5</td>\n",
       "      <td>189012.0</td>\n",
       "      <td>227647.0</td>\n",
       "    </tr>\n",
       "    <tr>\n",
       "      <th>DSNY</th>\n",
       "      <td>135300.0</td>\n",
       "      <td>179100.0</td>\n",
       "      <td>149220.0</td>\n",
       "      <td>186540.0</td>\n",
       "      <td>177600.0</td>\n",
       "      <td>102600.0</td>\n",
       "    </tr>\n",
       "    <tr>\n",
       "      <th>EDC</th>\n",
       "      <td>2541477.0</td>\n",
       "      <td>1726078.0</td>\n",
       "      <td>1639831.0</td>\n",
       "      <td>1603847.0</td>\n",
       "      <td>1550315.5</td>\n",
       "      <td>NaN</td>\n",
       "    </tr>\n",
       "    <tr>\n",
       "      <th>HPD</th>\n",
       "      <td>352151.0</td>\n",
       "      <td>319695.0</td>\n",
       "      <td>345457.0</td>\n",
       "      <td>353397.0</td>\n",
       "      <td>748727.0</td>\n",
       "      <td>604800.0</td>\n",
       "    </tr>\n",
       "    <tr>\n",
       "      <th>NYPD</th>\n",
       "      <td>13568.0</td>\n",
       "      <td>9194.0</td>\n",
       "      <td>6798.0</td>\n",
       "      <td>9144.5</td>\n",
       "      <td>9299.0</td>\n",
       "      <td>12392.0</td>\n",
       "    </tr>\n",
       "    <tr>\n",
       "      <th>TLC</th>\n",
       "      <td>4033900.0</td>\n",
       "      <td>3629716.5</td>\n",
       "      <td>4061042.0</td>\n",
       "      <td>3332455.5</td>\n",
       "      <td>3979970.0</td>\n",
       "      <td>1778973.0</td>\n",
       "    </tr>\n",
       "  </tbody>\n",
       "</table>\n",
       "</div>"
      ],
      "text/plain": [
       "borough      bronx   brooklyn  manhattan     queens  staten_island  \\\n",
       "agency                                                               \n",
       "DCA       336461.0   264918.5   244253.0   332825.0       318603.0   \n",
       "DEP        73830.0    72480.0   103500.0    67200.0        67290.0   \n",
       "DFTA     1109447.0  1057959.0  1048982.0  1061454.0      1127806.5   \n",
       "DHS         4943.0     5943.0     4122.0     3056.0        15357.5   \n",
       "DOB      1255744.0   809074.0   716627.0  1003363.0       560577.0   \n",
       "DOE       330030.0   234686.0   353808.0   441562.0       666097.0   \n",
       "DOF      1042593.5   959311.5   791397.0   882316.0       817472.0   \n",
       "DOHMH     172800.0   345600.0   259200.0   432000.0       604800.0   \n",
       "DOITT    1266807.0  1202002.0  1234148.5  1395978.0      1547226.0   \n",
       "DOT         8668.0    59075.0    72051.0    67475.5        96334.0   \n",
       "DPR       417854.0   350465.0   244148.0   174591.5       189012.0   \n",
       "DSNY      135300.0   179100.0   149220.0   186540.0       177600.0   \n",
       "EDC      2541477.0  1726078.0  1639831.0  1603847.0      1550315.5   \n",
       "HPD       352151.0   319695.0   345457.0   353397.0       748727.0   \n",
       "NYPD       13568.0     9194.0     6798.0     9144.5         9299.0   \n",
       "TLC      4033900.0  3629716.5  4061042.0  3332455.5      3979970.0   \n",
       "\n",
       "borough  unspecified  \n",
       "agency                \n",
       "DCA        1334579.0  \n",
       "DEP          25920.0  \n",
       "DFTA        658802.0  \n",
       "DHS              NaN  \n",
       "DOB              NaN  \n",
       "DOE        1013794.0  \n",
       "DOF              NaN  \n",
       "DOHMH      1357439.0  \n",
       "DOITT            NaN  \n",
       "DOT          37980.0  \n",
       "DPR         227647.0  \n",
       "DSNY        102600.0  \n",
       "EDC              NaN  \n",
       "HPD         604800.0  \n",
       "NYPD         12392.0  \n",
       "TLC        1778973.0  "
      ]
     },
     "execution_count": 39,
     "metadata": {},
     "output_type": "execute_result"
    }
   ],
   "source": [
    "\n",
    "boro_pivot = df.pivot_table(\n",
    "    columns='borough',\n",
    "    index='agency',\n",
    "    values='time_to_fix',\n",
    "    aggfunc='median'\n",
    ")\n",
    "\n",
    "\n",
    "boro_pivot.columns = boro_pivot.columns.str.lower().str.replace(\" \", \"_\")\n",
    "\n",
    "boro_pivot"
   ]
  },
  {
   "cell_type": "markdown",
   "id": "01d10369",
   "metadata": {},
   "source": [
    "### Use the pivot table result to find the worst-performing agency in the Bronx, then compare with Staten Island\n",
    "\n",
    "Since it's a dataframe, you can use the power of `.sort_values` (twice!). Do any of the agencies have a large difference between the two?"
   ]
  },
  {
   "cell_type": "code",
   "execution_count": null,
   "id": "e09a49d8",
   "metadata": {},
   "outputs": [],
   "source": [
    "boro_pivot.staten_island.sort_values(ascending =False)"
   ]
  },
  {
   "cell_type": "code",
   "execution_count": null,
   "id": "f09a730c",
   "metadata": {},
   "outputs": [],
   "source": [
    "boro_pivot.bronx.sort_values(ascending =False)"
   ]
  },
  {
   "cell_type": "markdown",
   "id": "ce6c5d0b",
   "metadata": {},
   "source": [
    "## What were the top ten 311 types of complaints on Thanksgiving 2020? Are they different than the day before Thanksgiving?\n",
    "\n",
    "**Finding exact dates is awful, honestly.** While you can do something like this to ask for rows after a specific date:\n",
    "\n",
    "```python\n",
    "df[df.date_column >= '2020-01-01']\n",
    "```\n",
    "\n",
    "You, for some reason, can't ask for an **exact match** unless you're really looking for exactly at midnight. For example, this won't give you what you want:\n",
    "\n",
    "```python\n",
    "df[df.date_column == '2020-01-01']\n",
    "```\n",
    "\n",
    "Instead, the thing you need to do is this:\n",
    "\n",
    "```python\n",
    "df[(df.date_column >= '2020-01-01') & (df.date_column < '2020-01-02']\n",
    "```\n",
    "\n",
    "Everything that starts at midnight on the 1st but *is still less than midnight on the 2nd**."
   ]
  },
  {
   "cell_type": "code",
   "execution_count": 40,
   "id": "06d34c92",
   "metadata": {},
   "outputs": [],
   "source": [
    "# Here I assume these codes below work if I read the whole .csv file (I removed some rows below already)"
   ]
  },
  {
   "cell_type": "code",
   "execution_count": 41,
   "id": "e6882c87",
   "metadata": {},
   "outputs": [
    {
     "data": {
      "text/plain": [
       "Series([], Name: complaint_type, dtype: int64)"
      ]
     },
     "execution_count": 41,
     "metadata": {},
     "output_type": "execute_result"
    }
   ],
   "source": [
    "df[(df.create_date_dtime >= '2020-11-26') & (df.create_date_dtime < '2020-11-27')].complaint_type.value_counts().head(3)"
   ]
  },
  {
   "cell_type": "code",
   "execution_count": 42,
   "id": "5f52efcc",
   "metadata": {},
   "outputs": [
    {
     "data": {
      "text/plain": [
       "Series([], Name: complaint_type, dtype: int64)"
      ]
     },
     "execution_count": 42,
     "metadata": {},
     "output_type": "execute_result"
    }
   ],
   "source": [
    "df[(df.create_date_dtime >= '2020-11-25') & (df.create_date_dtime < '2020-11-26')].complaint_type.value_counts().head(3)"
   ]
  },
  {
   "cell_type": "markdown",
   "id": "db27701d",
   "metadata": {},
   "source": [
    "## What is the most common 311 complaint types on Christmas day?\n",
    "\n",
    "And I mean *all Christmas days*, not just in certain years)\n",
    "\n",
    "* Tip: `dt.` and `&` are going to be your friend here\n",
    "* Tip: If you want to get fancy you can look up `strftime`\n",
    "* Tip: One of those is much much faster than the other"
   ]
  },
  {
   "cell_type": "code",
   "execution_count": 46,
   "id": "4b935a41",
   "metadata": {},
   "outputs": [],
   "source": [
    "df['date_only'] = df.create_date_dtime.dt.strftime(\"%B%d\")"
   ]
  },
  {
   "cell_type": "code",
   "execution_count": 44,
   "id": "3d6c81e3",
   "metadata": {},
   "outputs": [
    {
     "data": {
      "text/plain": [
       "ENTIRE BUILDING                                              443\n",
       "APARTMENT ONLY                                               221\n",
       "Pothole                                                       66\n",
       "E3 Dirty Sidewalk                                             31\n",
       "Elevator - Single Device On Property/No Alternate Service     27\n",
       "                                                            ... \n",
       "WINDOW PANE                                                    1\n",
       "POWER OUTAGE                                                   1\n",
       "Hydrant Running Full (WA4)                                     1\n",
       "Other Sewer Problem (Use Comments) (SZZ)                       1\n",
       "CABINET                                                        1\n",
       "Name: descriptor, Length: 97, dtype: int64"
      ]
     },
     "execution_count": 44,
     "metadata": {},
     "output_type": "execute_result"
    }
   ],
   "source": [
    "df[df.date_only == \"December25\"].descriptor.value_counts()"
   ]
  },
  {
   "cell_type": "markdown",
   "id": "183ca029",
   "metadata": {},
   "source": [
    "# Stories\n",
    "\n",
    "Let's approach this from the idea of **having stories and wanting to investigate them.** Fun facts:\n",
    "\n",
    "* Not all of these are reasonably answered with what our data is\n",
    "* We only have certain skills about how to analyzing the data\n",
    "* There are about six hundred approaches for each question\n",
    "\n",
    "But: **for most of these prompts there are at least a few ways you can get something interesting out of the dataset.**"
   ]
  },
  {
   "cell_type": "markdown",
   "id": "0e9f8549",
   "metadata": {},
   "source": [
    "## Fireworks and BLM\n",
    "\n",
    "You're writing a story about the anecdotal idea that the summer of the BLM protests there were an incredible number of fireworks being set off. Does the data support this?\n",
    "\n",
    "What assumptions is your analysis making? What could make your analysis fall apart?"
   ]
  },
  {
   "cell_type": "code",
   "execution_count": 47,
   "id": "0bf77a32",
   "metadata": {},
   "outputs": [
    {
     "data": {
      "text/plain": [
       "Illegal Fireworks    32\n",
       "Name: complaint_type, dtype: int64"
      ]
     },
     "execution_count": 47,
     "metadata": {},
     "output_type": "execute_result"
    }
   ],
   "source": [
    "df[df.complaint_type.str.contains('fire', case=False)].complaint_type.value_counts()"
   ]
  },
  {
   "cell_type": "code",
   "execution_count": 48,
   "id": "45046a03",
   "metadata": {},
   "outputs": [
    {
     "data": {
      "text/plain": [
       "Illegal Fireworks    21\n",
       "Name: complaint_type, dtype: int64"
      ]
     },
     "execution_count": 48,
     "metadata": {},
     "output_type": "execute_result"
    }
   ],
   "source": [
    "#Assume the BLM protests intensifid after the murder of George Floyd(May 26.2020) \n",
    "## and it lasts at around three months (Aug. 26,2020)\n",
    "### Then count \"Illegal Fireworks\" in complaint_type\n",
    "\n",
    "BLM_fire = df[(df.create_date_dtime >= '2020-05-26') & (df.create_date_dtime < '2020-08-27')]\n",
    "BLM_fire[BLM_fire.complaint_type  == \"Illegal Fireworks\"].complaint_type.value_counts()\n",
    "\n",
    "# Then compares with the median data in the same period (May26 to August27)\n",
    "## convert date_only in datetime data\n",
    "\n",
    "BLM_fire = df[(df.create_date_dtime >= '2019-05-26') & (df.create_date_dtime < '2019-08-27')]\n",
    "BLM_fire[BLM_fire.complaint_type  == \"Illegal Fireworks\"].complaint_type.value_counts()\n",
    "\n",
    "# if the number of complaits about \"illegal fireworks\" between two years do not change,the anecdotes might be denied.\n",
    "##else: I would go further and find locations and time that these complaints came from and see the relation between these data\n",
    "### and the location of the protests taken place."
   ]
  },
  {
   "cell_type": "markdown",
   "id": "e48a6243",
   "metadata": {},
   "source": [
    "## Sanitation and work slowdowns\n",
    "\n",
    "The Dept of Sanitation recently had a work slowdown to protest the vaccine mandate. You'd like to write about past work slowdowns that have caused garbage to pile up in the street, streets to not be swept, etc, and compare them to the current slowdown. You've also heard rumors that it was worse in Staten Island and a few Brooklyn neighborhoods - Marine Park and Canarsie - than everywhere else.\n",
    "\n",
    "Use the data to find timeframes worth researching, and note how this slowdown might compare. Also, is there anything behind the geographic issue?\n",
    "\n",
    "What assumptions is your analysis making? What could make your analysis fall apart?"
   ]
  },
  {
   "cell_type": "code",
   "execution_count": 49,
   "id": "46a342c4",
   "metadata": {},
   "outputs": [
    {
     "data": {
      "text/plain": [
       "Series([], dtype: int64)"
      ]
     },
     "execution_count": 49,
     "metadata": {},
     "output_type": "execute_result"
    }
   ],
   "source": [
    "# I look up reports handled by DSNY and see how many complaint_type== \"Missed Collection (All Materials)\" reports filed after 2021-11-1\n",
    "## Vaccine mandate went into effect on 2021-11-1(https://abc7ny.com/nyc-sanitation-department-workers-vaccine-mandates-garbage/11188418/)\n",
    "\n",
    "DSNY_df = df[df.agency == \"DSNY\"]\n",
    "\n",
    "#Then see if there is any change a week after vaccine mandate went into effect and the same period in the previous year. \n",
    "\n",
    "DSNY_after_mandate = DSNY_df[(DSNY_df.create_date_dtime >= '2021-11-01') & (DSNY_df.create_date_dtime < '2021-11-09')]\n",
    "\n",
    "#As 2020-11-01 is Sunday when there is no gabage collection anyway, so I moved the priod a day after\n",
    "DSNY_before_mandate = DSNY_df[(DSNY_df.create_date_dtime >= '2020-11-02') & (DSNY_df.create_date_dtime < '2020-11-10')]\n",
    "\n",
    "DSNY_after_mandate[DSNY_after_mandate.complaint_type ==\"Missed Collection (All Materials)\"].value_counts()\n",
    "DSNY_before_mandate[DSNY_before_mandate.complaint_type ==\"Missed Collection (All Materials)\"].value_counts()\n",
    "\n",
    "#compare there two data"
   ]
  },
  {
   "cell_type": "markdown",
   "id": "dd929f11",
   "metadata": {},
   "source": [
    "## Gentrification and whining to the government\n",
    "\n",
    "It's said that when a neighborhood gentrifies, the people who move in are quick to report things to authorities that would previously have been ignored or dealt with on a personal basis. Use the data to investigate the concept (two techniques for finding gentrifying area are using census data and using Google).\n",
    "\n",
    "What assumptions is your analysis making? What could make your analysis fall apart? Be sure to cite your sources. "
   ]
  },
  {
   "cell_type": "code",
   "execution_count": null,
   "id": "1df31a4a",
   "metadata": {},
   "outputs": [],
   "source": [
    "#Based on the article(https://www.rentcafe.com/blog/rental-market/real-estate-news/top-20-gentrified-zip-codes/)\n",
    "#*the article is about the study on the 2000 Census and the 2016 American Community Survey)\n",
    "## I defied these three NYC neighborhoods as most Gentrified\n",
    "### neighborhoods with zipcode 10039, 11211, 11222 (Washington Heights, Williamsburg, Greenpoint)\n",
    "### I look up the number of 311 reports and compare it over the years\n",
    "\n",
    "#First, separate the data reported between a) 2013 to 2016 and b) 2016 to 2019\n",
    "gen_df_a = df[(df.create_date_dtime >= '2013-01-01') & (df.create_date_dtime < '2016-01-01')]\n",
    "gen_df_b = df[(df.create_date_dtime >= '2016-01-01') & (df.create_date_dtime < '2020-01-01')]\n",
    "\n",
    "gen_df_a[gen_df_a.incident_zip.str.contains(\"10039|11211|11222\", na=False)].incident_zip.value_counts()\n",
    "\n",
    "# 11211    175\n",
    "# 11222    114\n",
    "# 10039     11\n",
    "\n",
    "\n",
    "gen_df_b[gen_df_b.incident_zip.str.contains(\"10039|11211|11222\", na=False)].incident_zip.value_counts()\n",
    "\n",
    "# 11211    3966\n",
    "# 11222    2890\n",
    "# 10039    1421\n",
    "\n",
    "# If there is no sifnificant increase between two periods, this story fails."
   ]
  },
  {
   "cell_type": "markdown",
   "id": "2cba95a7",
   "metadata": {},
   "source": [
    "## 311 quirks\n",
    "\n",
    "Our editor tried to submit a 311 request using the app the other day, but it didn't go through. As we all know, news is what happens to your editor! Has the 311 mobile app ever actually stopped working?\n",
    "\n",
    "If that's a dead end, maybe you can talk about the differences between the different submission avenues: could a mobile outage disproportionately impact a certain kind of complaint or agency? How about if the phone lines stopped working?\n",
    "\n",
    "What assumptions is your analysis making? What could make your analysis fall apart?"
   ]
  },
  {
   "cell_type": "code",
   "execution_count": null,
   "id": "a9951f8c",
   "metadata": {},
   "outputs": [],
   "source": [
    "# First, look up how many reports come from mobile app. \n",
    "# use \"open_data_channel_type\"\n",
    "\n",
    "df.open_data_channel_type.value_counts(normalize = True)\n",
    "\n",
    "#Around 10 % of reports come from mobile\n",
    "#Around 46% of reports come from mobile\n",
    "\n",
    "# Then see if there is any change by agency\n",
    "df.groupby(by= 'open_data_channel_type').agency.value_counts(normalize = True)\n",
    "\n",
    "# From mobile, over 70% of reports handled by NYPD\n",
    "# From phone,only 20% of reports handled by NYPD\n",
    "# From phone,30% of reports handled by HPD\n",
    "\n",
    "## If mobile stop working, reports for NYPD will be affected a lot\n",
    "## If phone stop working, reports for HPDll be affected a lot\n"
   ]
  },
  {
   "cell_type": "markdown",
   "id": "62ff7b9a",
   "metadata": {},
   "source": [
    "## NYCHA and public funds\n",
    "\n",
    "NYC's public housing infrastructure is failing, and one reason is lack of federal funds. While the recent spending bills passed through Congress might be able to help, the feeling is that things have really fallen apart in the past however-many years – as time goes on it gets more and more difficult for the agency in control of things to address issues in a timely manner.\n",
    "\n",
    "If you were tasked with finding information to help a reporter writing on this topic, you will **not** reasonably be able to find much in the dataset to support or refute this. Why not? \n",
    "\n",
    "If you wanted to squeeze something out of this dataset anyway, what could an option be? (You might need to bring in another dataset.)"
   ]
  },
  {
   "cell_type": "code",
   "execution_count": 50,
   "id": "0ebc3436",
   "metadata": {},
   "outputs": [
    {
     "data": {
      "text/plain": [
       "<AxesSubplot:>"
      ]
     },
     "execution_count": 50,
     "metadata": {},
     "output_type": "execute_result"
    },
    {
     "data": {
      "image/png": "[encoded data removed]",
      "text/plain": [
       "<Figure size 432x288 with 1 Axes>"
      ]
     },
     "metadata": {
      "needs_background": "light"
     },
     "output_type": "display_data"
    }
   ],
   "source": [
    "# Almost all reports on residential building are handled by HPD\n",
    "HPD_df = df[df.agency == \"HPD\"]\n",
    "\n",
    "#So compares the number of reports handled by HPD over the years\n",
    "HPD_df.create_date_dtime.dt.year.value_counts().plot(kind='bar')\n",
    "\n",
    "#But I need to further look up whether these complaints were from public housing. \n",
    "##To find it the data in here will be helpful(https://www1.nyc.gov/site/nycha/about/developments.page)\n",
    "\n",
    "### Also, I need to see the federal funding amount to NYCHA over the years. \n",
    "##https://council.nyc.gov/budget/wp-content/uploads/sites/54/2021/03/NYCHA.pdf\n",
    "##This document might be helpful, but it seems like the federal funding to NYCHA is increasing over five years...why?!"
   ]
  },
  {
   "cell_type": "code",
   "execution_count": null,
   "id": "84382b8e",
   "metadata": {},
   "outputs": [],
   "source": [
    "\n"
   ]
  }
 ],
 "metadata": {
  "kernelspec": {
   "display_name": "Python 3 (ipykernel)",
   "language": "python",
   "name": "python3"
  },
  "language_info": {
   "codemirror_mode": {
    "name": "ipython",
    "version": 3
   },
   "file_extension": ".py",
   "mimetype": "text/x-python",
   "name": "python",
   "nbconvert_exporter": "python",
   "pygments_lexer": "ipython3",
   "version": "3.10.0"
  }
 },
 "nbformat": 4,
 "nbformat_minor": 5
}
